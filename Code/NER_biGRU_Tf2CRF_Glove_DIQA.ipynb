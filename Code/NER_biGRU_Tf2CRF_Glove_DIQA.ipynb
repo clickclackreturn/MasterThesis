{
  "nbformat": 4,
  "nbformat_minor": 0,
  "metadata": {
    "colab": {
      "provenance": []
    },
    "kernelspec": {
      "name": "python3",
      "display_name": "Python 3"
    },
    "language_info": {
      "name": "python"
    },
    "accelerator": "GPU",
    "gpuClass": "standard"
  },
  "cells": [
    {
      "cell_type": "markdown",
      "source": [
        "Inspired By:\\\n",
        "https://github.com/JRC1995/Bi-GRU-CRF-NER\n",
        "\n",
        "https://www.kaggle.com/code/samarthsarin/keras-gru-with-glove-embedding/notebook"
      ],
      "metadata": {
        "id": "dQQC7Hj_iFnc"
      }
    },
    {
      "cell_type": "code",
      "source": [
        "from google.colab import drive\n",
        "drive.mount('/content/drive')"
      ],
      "metadata": {
        "id": "bzyu3ANcpTwG"
      },
      "execution_count": null,
      "outputs": []
    },
    {
      "cell_type": "code",
      "source": [
        "!pip install tf2crf"
      ],
      "metadata": {
        "id": "3OY8Cg2AnODr"
      },
      "execution_count": null,
      "outputs": []
    },
    {
      "cell_type": "code",
      "source": [
        "!pip install sklearn_crfsuite"
      ],
      "metadata": {
        "id": "hrRFbKKFdZAE"
      },
      "execution_count": null,
      "outputs": []
    },
    {
      "cell_type": "code",
      "source": [
        "import numpy as np\n",
        "import pandas as pd"
      ],
      "metadata": {
        "id": "CzqUIWrwYjyU"
      },
      "execution_count": null,
      "outputs": []
    },
    {
      "cell_type": "code",
      "source": [
        "class SentenceGetter(object):\n",
        "    \n",
        "    def __init__(self, filenames_list):\n",
        "        self.sentences = []\n",
        "        self.words = set()\n",
        "        self.tags = set()\n",
        "        for filename in filenames_list:\n",
        "          with open(filename) as f:\n",
        "              sentence = []\n",
        "              for line in f:\n",
        "                  line = line.strip()\n",
        "                  if (len(line) == 0 or line.startswith(\"-DOCSTART-\") or line.startswith(\"......\")):\n",
        "                      if len(sentence) != 0:\n",
        "                        self.sentences.append(sentence)\n",
        "                        sentence = []\n",
        "                      continue\n",
        "                  else:\n",
        "                      ls = line.split(' ')\n",
        "                      word, tag = ls[0],ls[3]\n",
        "                      self.words.add(word)\n",
        "                      self.tags.add(tag)\n",
        "                      sentence.append((word,tag))"
      ],
      "metadata": {
        "id": "SB4jt8_y85wm"
      },
      "execution_count": null,
      "outputs": []
    },
    {
      "cell_type": "code",
      "source": [
        "#MCHP_dataset_1\n",
        "files = ['/content/drive/MyDrive/MasterThesis/NER/MCHP/dataset_1/cn569258-pin.conll', '/content/drive/MyDrive/MasterThesis/NER/MCHP/dataset_2/project-13-at-2022-06-14-08-59-1d16c7ec.conll'] #Shreya\n",
        "getter = SentenceGetter(files)\n",
        "sentences = getter.sentences\n",
        "words = getter.words\n",
        "tags = list(getter.tags)"
      ],
      "metadata": {
        "id": "1J84ts-Gppz3"
      },
      "execution_count": null,
      "outputs": []
    },
    {
      "cell_type": "code",
      "source": [
        "words = list(words) #set to list convert"
      ],
      "metadata": {
        "id": "q8xFXfd49gSL"
      },
      "execution_count": null,
      "outputs": []
    },
    {
      "cell_type": "code",
      "source": [
        "len(sentences)"
      ],
      "metadata": {
        "colab": {
          "base_uri": "https://localhost:8080/"
        },
        "id": "X8hag5yfnwSm",
        "outputId": "08d0d436-6fff-4eda-cb76-b39249e288f0"
      },
      "execution_count": null,
      "outputs": [
        {
          "output_type": "execute_result",
          "data": {
            "text/plain": [
              "545"
            ]
          },
          "metadata": {},
          "execution_count": 8
        }
      ]
    },
    {
      "cell_type": "code",
      "source": [
        "len(words)"
      ],
      "metadata": {
        "colab": {
          "base_uri": "https://localhost:8080/"
        },
        "id": "Ro2WKZun9j8X",
        "outputId": "108d0cd6-aa56-46ab-cf67-3f71540afbe7"
      },
      "execution_count": null,
      "outputs": [
        {
          "output_type": "execute_result",
          "data": {
            "text/plain": [
              "10007"
            ]
          },
          "metadata": {},
          "execution_count": 9
        }
      ]
    },
    {
      "cell_type": "code",
      "source": [
        "#ADD PAD to words\n",
        "words.append('PAD')"
      ],
      "metadata": {
        "id": "lZqIItyhhxZX"
      },
      "execution_count": null,
      "outputs": []
    },
    {
      "cell_type": "code",
      "source": [
        "tags"
      ],
      "metadata": {
        "colab": {
          "base_uri": "https://localhost:8080/"
        },
        "id": "br4YbzGAq24x",
        "outputId": "51d762ef-8e1c-4b8e-873e-f1b3bdfab74b"
      },
      "execution_count": null,
      "outputs": [
        {
          "output_type": "execute_result",
          "data": {
            "text/plain": [
              "['I-Pin', 'B-Pin', 'O']"
            ]
          },
          "metadata": {},
          "execution_count": 10
        }
      ]
    },
    {
      "cell_type": "code",
      "source": [
        "tags.insert(0,'PAD')"
      ],
      "metadata": {
        "id": "YFbYYHaA9rL6"
      },
      "execution_count": null,
      "outputs": []
    },
    {
      "cell_type": "code",
      "source": [
        "n_words = len(words)\n",
        "n_tags = len(tags)"
      ],
      "metadata": {
        "id": "zpeU1OpJZaCY"
      },
      "execution_count": null,
      "outputs": []
    },
    {
      "cell_type": "code",
      "source": [
        "n_words, n_tags"
      ],
      "metadata": {
        "colab": {
          "base_uri": "https://localhost:8080/"
        },
        "id": "Xbx5C_wE926V",
        "outputId": "44fbb856-525c-4333-8e72-7785ace0f439"
      },
      "execution_count": null,
      "outputs": [
        {
          "output_type": "execute_result",
          "data": {
            "text/plain": [
              "(10008, 4)"
            ]
          },
          "metadata": {},
          "execution_count": 13
        }
      ]
    },
    {
      "cell_type": "code",
      "source": [
        "tags"
      ],
      "metadata": {
        "colab": {
          "base_uri": "https://localhost:8080/"
        },
        "id": "_UJqa777Zcn5",
        "outputId": "2474032f-d883-4b5a-da97-cff985878f2c"
      },
      "execution_count": null,
      "outputs": [
        {
          "output_type": "execute_result",
          "data": {
            "text/plain": [
              "['PAD', 'I-Pin', 'B-Pin', 'O']"
            ]
          },
          "metadata": {},
          "execution_count": 14
        }
      ]
    },
    {
      "cell_type": "code",
      "source": [
        "from tqdm import tqdm"
      ],
      "metadata": {
        "id": "kY9Mg-2_wHP7"
      },
      "execution_count": null,
      "outputs": []
    },
    {
      "cell_type": "code",
      "source": [
        "embedding_vector = {}\n",
        "f = open('/content/drive/MyDrive/MasterThesis/Glove/glove.6B.100d.txt') \n",
        "for line in tqdm(f):\n",
        "    vector = line.split(' ')\n",
        "    word = vector[0]\n",
        "    coef = np.asarray(vector[1:],dtype = 'float32')\n",
        "    embedding_vector[word]=coef\n",
        "f.close()\n",
        "print('Number of words found ',len(embedding_vector))"
      ],
      "metadata": {
        "colab": {
          "base_uri": "https://localhost:8080/"
        },
        "id": "ZvBDzF4Vv9qq",
        "outputId": "ec19f23f-1173-407e-f4aa-9817718c9c78"
      },
      "execution_count": null,
      "outputs": [
        {
          "output_type": "stream",
          "name": "stderr",
          "text": [
            "400000it [00:14, 28377.93it/s]"
          ]
        },
        {
          "output_type": "stream",
          "name": "stdout",
          "text": [
            "Number of words found  400000\n"
          ]
        },
        {
          "output_type": "stream",
          "name": "stderr",
          "text": [
            "\n"
          ]
        }
      ]
    },
    {
      "cell_type": "code",
      "source": [
        "from keras.preprocessing.text import Tokenizer"
      ],
      "metadata": {
        "id": "kBuzvgtr4YGp"
      },
      "execution_count": null,
      "outputs": []
    },
    {
      "cell_type": "code",
      "source": [
        "token = Tokenizer()\n",
        "token.fit_on_texts(words)"
      ],
      "metadata": {
        "id": "UGRFkmWI1BoG"
      },
      "execution_count": null,
      "outputs": []
    },
    {
      "cell_type": "code",
      "source": [
        "sequence = token.texts_to_sequences(words)"
      ],
      "metadata": {
        "id": "R2OYIGHcv9ny"
      },
      "execution_count": null,
      "outputs": []
    },
    {
      "cell_type": "code",
      "source": [
        "vocab_size = len(token.word_index)+1"
      ],
      "metadata": {
        "id": "eftWe6Ufv9ay"
      },
      "execution_count": null,
      "outputs": []
    },
    {
      "cell_type": "code",
      "source": [
        "vocab_size"
      ],
      "metadata": {
        "colab": {
          "base_uri": "https://localhost:8080/"
        },
        "id": "-Fv-HTEs-Y1p",
        "outputId": "179d9491-b469-4283-bd87-e49322a096c9"
      },
      "execution_count": null,
      "outputs": [
        {
          "output_type": "execute_result",
          "data": {
            "text/plain": [
              "4962"
            ]
          },
          "metadata": {},
          "execution_count": 21
        }
      ]
    },
    {
      "cell_type": "code",
      "source": [
        "embedding_matrix = np.zeros((vocab_size,100))\n",
        "for word,i in tqdm(token.word_index.items()):\n",
        "    embedding_vectors = embedding_vector.get(word)\n",
        "    if embedding_vectors is not None:\n",
        "        embedding_matrix[i] = embedding_vector[word]"
      ],
      "metadata": {
        "colab": {
          "base_uri": "https://localhost:8080/"
        },
        "id": "VKY2eVfG5K_w",
        "outputId": "8b47c754-90bb-45f8-cb00-0a4caef203a1"
      },
      "execution_count": null,
      "outputs": [
        {
          "output_type": "stream",
          "name": "stderr",
          "text": [
            "100%|██████████| 4961/4961 [00:00<00:00, 411916.11it/s]\n"
          ]
        }
      ]
    },
    {
      "cell_type": "code",
      "source": [
        "from future.utils import iteritems\n",
        "\n",
        "tag2idx = {t: i for i, t in enumerate(tags)}\n",
        "\n",
        "idx2tag = {v: k for k, v in iteritems(tag2idx)}"
      ],
      "metadata": {
        "id": "oSn2WSh_ZgSl"
      },
      "execution_count": null,
      "outputs": []
    },
    {
      "cell_type": "code",
      "source": [
        "tag2idx"
      ],
      "metadata": {
        "colab": {
          "base_uri": "https://localhost:8080/"
        },
        "id": "zlLJ1eF3kw0j",
        "outputId": "5ce88ce0-fe19-4472-abe4-e2cc4ad4ff1a"
      },
      "execution_count": null,
      "outputs": [
        {
          "output_type": "execute_result",
          "data": {
            "text/plain": [
              "{'PAD': 0, 'I-Pin': 1, 'B-Pin': 2, 'O': 3}"
            ]
          },
          "metadata": {},
          "execution_count": 24
        }
      ]
    },
    {
      "cell_type": "code",
      "source": [
        "#Feature and Label separation\n",
        "from tensorflow.keras.preprocessing.sequence import pad_sequences\n",
        "from tensorflow.keras.utils import to_categorical\n",
        "\n",
        "maxlen = max([len(s) for s in sentences])\n",
        "\n",
        "total_feature = [[token.word_index.get(w[0].lower()) for w in s if w[0].lower() in token.word_index] for s in sentences]\n",
        "X = pad_sequences(maxlen=maxlen, sequences=total_feature, dtype='int32', padding=\"post\", value=token.word_index.get('pad')) #embedding_matrix 0 position is blank value\n",
        "total_label = [[tag2idx[w[1]] for w in s if w[0].lower() in token.word_index] for s in sentences]\n",
        "y_label = pad_sequences(maxlen=maxlen, sequences=total_label, dtype='int32', padding=\"post\", value=tag2idx[\"PAD\"])\n",
        "\n",
        "Y = [to_categorical(i, num_classes=n_tags) for i in y_label]"
      ],
      "metadata": {
        "id": "K9RdZaps-tdH"
      },
      "execution_count": null,
      "outputs": []
    },
    {
      "cell_type": "code",
      "source": [
        "print(\n",
        "        'X_tokens length:', len(X),\n",
        "        '\\nY_tags:', len(Y)\n",
        "    )"
      ],
      "metadata": {
        "colab": {
          "base_uri": "https://localhost:8080/"
        },
        "id": "08xn43aW_MLW",
        "outputId": "0691a6ab-a185-4af1-a91f-2f44f9ba6c06"
      },
      "execution_count": null,
      "outputs": [
        {
          "output_type": "stream",
          "name": "stdout",
          "text": [
            "X_tokens length: 545 \n",
            "Y_tags: 545\n"
          ]
        }
      ]
    },
    {
      "cell_type": "code",
      "source": [
        "sentences[0]"
      ],
      "metadata": {
        "colab": {
          "base_uri": "https://localhost:8080/"
        },
        "id": "qTJaCLkQ_gc_",
        "outputId": "fe900088-ce40-4d54-a1bc-6c1efd5d9d28"
      },
      "execution_count": null,
      "outputs": [
        {
          "output_type": "execute_result",
          "data": {
            "text/plain": [
              "[('Appendix', 'O'),\n",
              " ('D:', 'O'),\n",
              " ('List', 'O'),\n",
              " ('of', 'O'),\n",
              " ('Tables', 'O'),\n",
              " ('Table', 'O'),\n",
              " ('2-1:', 'O'),\n",
              " ('Pinout', 'O'),\n",
              " ('List', 'O')]"
            ]
          },
          "metadata": {},
          "execution_count": 27
        }
      ]
    },
    {
      "cell_type": "code",
      "source": [
        "for token_id, tag in zip(X[0], Y[0]):\n",
        "    print('%s\\t%s' % (token_id, tag))"
      ],
      "metadata": {
        "id": "0ni3EYiP_RQm"
      },
      "execution_count": null,
      "outputs": []
    },
    {
      "cell_type": "code",
      "source": [
        "#devide the data into train test valid\n",
        "#choosing 70, 20, 10 ratio\n",
        "\n",
        "from sklearn.model_selection import train_test_split\n",
        "X_data, X_test, Y_data, y_test = train_test_split(X,Y,test_size=0.20,shuffle=True, random_state=42)\n",
        "X_train, X_val, y_train, y_val = train_test_split(X_data,Y_data,test_size=0.10,shuffle=True, random_state=42)\n",
        "\n",
        "\n",
        "print(\n",
        "        '\\X_tokens length:', len(X),\n",
        "        '\\ntrain_tokens length:', len(X_train),\n",
        "        '\\nval_tokens length:', len(X_val),\n",
        "        '\\ntest_tokens length:', len(X_test),\n",
        "        '\\n\\nY_tags length:', len(Y),\n",
        "        '\\ntrain_tags:', len(y_train),\n",
        "        '\\nval_tags:', len(y_val),\n",
        "        '\\ntest_tags:', len(y_test)\n",
        "    )"
      ],
      "metadata": {
        "colab": {
          "base_uri": "https://localhost:8080/"
        },
        "id": "kmb901ua_9Vf",
        "outputId": "c0b8e5d9-ece2-4e69-e30b-c22e7087955e"
      },
      "execution_count": null,
      "outputs": [
        {
          "output_type": "stream",
          "name": "stdout",
          "text": [
            "\\X_tokens length: 545 \n",
            "train_tokens length: 392 \n",
            "val_tokens length: 44 \n",
            "test_tokens length: 109 \n",
            "\n",
            "Y_tags length: 545 \n",
            "train_tags: 392 \n",
            "val_tags: 44 \n",
            "test_tags: 109\n"
          ]
        }
      ]
    },
    {
      "cell_type": "code",
      "source": [
        "np.array(y_test).shape"
      ],
      "metadata": {
        "colab": {
          "base_uri": "https://localhost:8080/"
        },
        "id": "OJ-fxomeJ74K",
        "outputId": "8907af7e-6030-4cab-8b13-be2cab15ed89"
      },
      "execution_count": null,
      "outputs": [
        {
          "output_type": "execute_result",
          "data": {
            "text/plain": [
              "(109, 762, 4)"
            ]
          },
          "metadata": {},
          "execution_count": 31
        }
      ]
    },
    {
      "cell_type": "markdown",
      "source": [
        "#Model"
      ],
      "metadata": {
        "id": "BSsrdXjWXlbE"
      }
    },
    {
      "cell_type": "code",
      "source": [
        "import tensorflow"
      ],
      "metadata": {
        "id": "nOdEsLKZJsGD"
      },
      "execution_count": null,
      "outputs": []
    },
    {
      "cell_type": "code",
      "source": [
        "from numpy.random import seed\n",
        "seed(1)\n",
        "tensorflow.random.set_seed(2)"
      ],
      "metadata": {
        "id": "AkaIkvtkXp12"
      },
      "execution_count": null,
      "outputs": []
    },
    {
      "cell_type": "code",
      "source": [
        "input_dim = vocab_size\n",
        "input_length = maxlen\n",
        "n_tags = len(tag2idx)\n",
        "print('input_dim: ', input_dim, '\\ninput_length: ', input_length, '\\nn_tags: ', n_tags)"
      ],
      "metadata": {
        "colab": {
          "base_uri": "https://localhost:8080/"
        },
        "id": "umCKjG-aXsej",
        "outputId": "6f9ab6ae-eb82-4e4a-aef4-5be8dd00dde7"
      },
      "execution_count": null,
      "outputs": [
        {
          "output_type": "stream",
          "name": "stdout",
          "text": [
            "input_dim:  4962 \n",
            "input_length:  762 \n",
            "n_tags:  4\n"
          ]
        }
      ]
    },
    {
      "cell_type": "code",
      "source": [
        "import numpy as np\n",
        "import tensorflow.keras as kk\n",
        "from tensorflow.keras import Sequential, Model, Input\n",
        "from tensorflow.keras.layers import GRU, Embedding, Dense, TimeDistributed, Dropout, Bidirectional\n",
        "from tensorflow.keras.utils import plot_model\n",
        "from tf2crf import CRF, ModelWithCRFLoss"
      ],
      "metadata": {
        "id": "BJXiC6e-XkbY"
      },
      "execution_count": null,
      "outputs": []
    },
    {
      "cell_type": "code",
      "source": [
        "word_embedding_size = 100\n",
        "units_size = 50\n",
        "\n",
        "#input layer\n",
        "input = Input(shape=(maxlen,))\n",
        "\n",
        "# Embedding Layer\n",
        "embed = Embedding(input_dim=input_dim, output_dim=word_embedding_size, weights = [embedding_matrix], input_length =maxlen, mask_zero=True, trainable = False)(input)\n",
        "\n",
        "# BI-LSTM Layer\n",
        "model = Bidirectional(GRU(units=units_size, \n",
        "                           return_sequences=True, \n",
        "                           dropout=0.5, \n",
        "                           recurrent_dropout=0.5, \n",
        "                           kernel_initializer=kk.initializers.he_normal()))(embed)\n",
        "\n",
        "# TimeDistributed Layer\n",
        "model = TimeDistributed(Dense(units_size, activation=\"relu\"))(model) \n",
        "\n",
        "# CRF Layer\n",
        "crf = CRF(units=n_tags)\n",
        "\n",
        "output = crf(model)\n",
        "\n",
        "base_model = Model(input, output)\n",
        "\n",
        "base_model.summary()\n",
        "\n",
        "model = ModelWithCRFLoss(base_model, sparse_target=False)"
      ],
      "metadata": {
        "colab": {
          "base_uri": "https://localhost:8080/"
        },
        "id": "zbI8r9PdnIjg",
        "outputId": "b9fe8f66-8b4e-4d9a-d1ea-aed7591bdda1"
      },
      "execution_count": null,
      "outputs": [
        {
          "output_type": "stream",
          "name": "stdout",
          "text": [
            "Model: \"model\"\n",
            "_________________________________________________________________\n",
            " Layer (type)                Output Shape              Param #   \n",
            "=================================================================\n",
            " input_1 (InputLayer)        [(None, 762)]             0         \n",
            "                                                                 \n",
            " embedding (Embedding)       (None, 762, 100)          496200    \n",
            "                                                                 \n",
            " bidirectional (Bidirectiona  (None, 762, 100)         45600     \n",
            " l)                                                              \n",
            "                                                                 \n",
            " time_distributed (TimeDistr  (None, 762, 50)          5050      \n",
            " ibuted)                                                         \n",
            "                                                                 \n",
            " crf (CRF)                   ((None, 762),             220       \n",
            "                              (None, 762, 4),                    \n",
            "                              (None,),                           \n",
            "                              (4, 4))                            \n",
            "                                                                 \n",
            "=================================================================\n",
            "Total params: 547,070\n",
            "Trainable params: 50,870\n",
            "Non-trainable params: 496,200\n",
            "_________________________________________________________________\n"
          ]
        }
      ]
    },
    {
      "cell_type": "code",
      "source": [
        "from keras.callbacks import ModelCheckpoint\n",
        "import matplotlib.pyplot as plt\n",
        "\n",
        "#Optimiser \n",
        "# adam = tf.keras.optimizers.Adam(learning_rate=0.001, beta_1=0.9, beta_2=0.999)\n",
        "\n",
        "# Compile model\n",
        "# model.compile(optimizer=adam)\n",
        "model.compile(optimizer=\"rmsprop\")\n",
        "\n",
        "\n",
        "\n",
        "# Saving the best model only\n",
        "filepath=\"ner-bi-GRU-tf2crf-model-ds-{accuracy:.2f}.tf\"\n",
        "checkpoint = ModelCheckpoint(filepath, monitor='accuracy', verbose=1, save_best_only=True, mode='max')\n",
        "callbacks_list = [checkpoint]\n",
        "\n",
        "history = model.fit(X_train, np.array(y_train), validation_data = (X_val, np.array(y_val)), batch_size=32, epochs=15, verbose=1, callbacks=callbacks_list)"
      ],
      "metadata": {
        "colab": {
          "base_uri": "https://localhost:8080/"
        },
        "id": "bQrI16lHIU77",
        "outputId": "c6d255f0-dab8-49fe-8195-11541530a945"
      },
      "execution_count": null,
      "outputs": [
        {
          "output_type": "stream",
          "name": "stdout",
          "text": [
            "Epoch 1/15\n",
            "13/13 [==============================] - ETA: 0s - loss: 395.4001 - accuracy: 0.8042\n",
            "Epoch 1: accuracy improved from -inf to 0.80424, saving model to ner-bi-GRU-tf2crf-model-ds-0.80.tf\n"
          ]
        },
        {
          "output_type": "stream",
          "name": "stderr",
          "text": [
            "WARNING:tensorflow:Model's `__init__()` arguments contain non-serializable objects. Please implement a `get_config()` method in the subclassed Model for proper saving and loading. Defaulting to empty config.\n",
            "WARNING:tensorflow:Model's `__init__()` arguments contain non-serializable objects. Please implement a `get_config()` method in the subclassed Model for proper saving and loading. Defaulting to empty config.\n",
            "WARNING:absl:Found untraced functions such as _update_step_xla, dense_1_layer_call_fn, dense_1_layer_call_and_return_conditional_losses while saving (showing 3 of 3). These functions will not be directly callable after loading.\n",
            "WARNING:tensorflow:Model's `__init__()` arguments contain non-serializable objects. Please implement a `get_config()` method in the subclassed Model for proper saving and loading. Defaulting to empty config.\n",
            "WARNING:tensorflow:Model's `__init__()` arguments contain non-serializable objects. Please implement a `get_config()` method in the subclassed Model for proper saving and loading. Defaulting to empty config.\n"
          ]
        },
        {
          "output_type": "stream",
          "name": "stdout",
          "text": [
            "\b\b\b\b\b\b\b\b\b\b\b\b\b\b\b\b\b\b\b\b\b\b\b\b\b\b\b\b\b\b\b\b\b\b\b\b\b\b\b\b\b\b\b\b\b\b\b\b\b\b\b\b\b\b\b\b\b\b\b\b\b\b\b\b\b\b\b\b\b\b\b\b\b\b\b\b\b\b\b\b\b\b\b\b\r13/13 [==============================] - 71s 5s/step - loss: 395.4001 - accuracy: 0.8042 - val_loss_val: 131.2537 - val_val_accuracy: 0.9385\n",
            "Epoch 2/15\n",
            "13/13 [==============================] - ETA: 0s - loss: 64.3897 - accuracy: 0.9804\n",
            "Epoch 2: accuracy improved from 0.80424 to 0.98039, saving model to ner-bi-GRU-tf2crf-model-ds-0.98.tf\n"
          ]
        },
        {
          "output_type": "stream",
          "name": "stderr",
          "text": [
            "WARNING:tensorflow:Model's `__init__()` arguments contain non-serializable objects. Please implement a `get_config()` method in the subclassed Model for proper saving and loading. Defaulting to empty config.\n",
            "WARNING:tensorflow:Model's `__init__()` arguments contain non-serializable objects. Please implement a `get_config()` method in the subclassed Model for proper saving and loading. Defaulting to empty config.\n",
            "WARNING:absl:Found untraced functions such as _update_step_xla, dense_1_layer_call_fn, dense_1_layer_call_and_return_conditional_losses while saving (showing 3 of 3). These functions will not be directly callable after loading.\n",
            "WARNING:tensorflow:Model's `__init__()` arguments contain non-serializable objects. Please implement a `get_config()` method in the subclassed Model for proper saving and loading. Defaulting to empty config.\n",
            "WARNING:tensorflow:Model's `__init__()` arguments contain non-serializable objects. Please implement a `get_config()` method in the subclassed Model for proper saving and loading. Defaulting to empty config.\n"
          ]
        },
        {
          "output_type": "stream",
          "name": "stdout",
          "text": [
            "\b\b\b\b\b\b\b\b\b\b\b\b\b\b\b\b\b\b\b\b\b\b\b\b\b\b\b\b\b\b\b\b\b\b\b\b\b\b\b\b\b\b\b\b\b\b\b\b\b\b\b\b\b\b\b\b\b\b\b\b\b\b\b\b\b\b\b\b\b\b\b\b\b\b\b\b\b\b\b\b\b\b\b\r13/13 [==============================] - 54s 4s/step - loss: 64.3897 - accuracy: 0.9804 - val_loss_val: 33.8281 - val_val_accuracy: 0.9940\n",
            "Epoch 3/15\n",
            "13/13 [==============================] - ETA: 0s - loss: 22.4347 - accuracy: 0.9960\n",
            "Epoch 3: accuracy improved from 0.98039 to 0.99597, saving model to ner-bi-GRU-tf2crf-model-ds-1.00.tf\n"
          ]
        },
        {
          "output_type": "stream",
          "name": "stderr",
          "text": [
            "WARNING:tensorflow:Model's `__init__()` arguments contain non-serializable objects. Please implement a `get_config()` method in the subclassed Model for proper saving and loading. Defaulting to empty config.\n",
            "WARNING:tensorflow:Model's `__init__()` arguments contain non-serializable objects. Please implement a `get_config()` method in the subclassed Model for proper saving and loading. Defaulting to empty config.\n",
            "WARNING:absl:Found untraced functions such as _update_step_xla, dense_1_layer_call_fn, dense_1_layer_call_and_return_conditional_losses while saving (showing 3 of 3). These functions will not be directly callable after loading.\n",
            "WARNING:tensorflow:Model's `__init__()` arguments contain non-serializable objects. Please implement a `get_config()` method in the subclassed Model for proper saving and loading. Defaulting to empty config.\n",
            "WARNING:tensorflow:Model's `__init__()` arguments contain non-serializable objects. Please implement a `get_config()` method in the subclassed Model for proper saving and loading. Defaulting to empty config.\n"
          ]
        },
        {
          "output_type": "stream",
          "name": "stdout",
          "text": [
            "\b\b\b\b\b\b\b\b\b\b\b\b\b\b\b\b\b\b\b\b\b\b\b\b\b\b\b\b\b\b\b\b\b\b\b\b\b\b\b\b\b\b\b\b\b\b\b\b\b\b\b\b\b\b\b\b\b\b\b\b\b\b\b\b\b\b\b\b\b\b\b\b\b\b\b\b\b\b\b\b\b\b\b\r13/13 [==============================] - 53s 4s/step - loss: 22.4347 - accuracy: 0.9960 - val_loss_val: 17.0474 - val_val_accuracy: 0.9963\n",
            "Epoch 4/15\n",
            "13/13 [==============================] - ETA: 0s - loss: 13.3412 - accuracy: 0.9968\n",
            "Epoch 4: accuracy improved from 0.99597 to 0.99679, saving model to ner-bi-GRU-tf2crf-model-ds-1.00.tf\n"
          ]
        },
        {
          "output_type": "stream",
          "name": "stderr",
          "text": [
            "WARNING:tensorflow:Model's `__init__()` arguments contain non-serializable objects. Please implement a `get_config()` method in the subclassed Model for proper saving and loading. Defaulting to empty config.\n",
            "WARNING:tensorflow:Model's `__init__()` arguments contain non-serializable objects. Please implement a `get_config()` method in the subclassed Model for proper saving and loading. Defaulting to empty config.\n",
            "WARNING:absl:Found untraced functions such as _update_step_xla, dense_1_layer_call_fn, dense_1_layer_call_and_return_conditional_losses while saving (showing 3 of 3). These functions will not be directly callable after loading.\n",
            "WARNING:tensorflow:Model's `__init__()` arguments contain non-serializable objects. Please implement a `get_config()` method in the subclassed Model for proper saving and loading. Defaulting to empty config.\n",
            "WARNING:tensorflow:Model's `__init__()` arguments contain non-serializable objects. Please implement a `get_config()` method in the subclassed Model for proper saving and loading. Defaulting to empty config.\n"
          ]
        },
        {
          "output_type": "stream",
          "name": "stdout",
          "text": [
            "\b\b\b\b\b\b\b\b\b\b\b\b\b\b\b\b\b\b\b\b\b\b\b\b\b\b\b\b\b\b\b\b\b\b\b\b\b\b\b\b\b\b\b\b\b\b\b\b\b\b\b\b\b\b\b\b\b\b\b\b\b\b\b\b\b\b\b\b\b\b\b\b\b\b\b\b\b\b\b\b\b\b\b\r13/13 [==============================] - 55s 4s/step - loss: 13.3412 - accuracy: 0.9968 - val_loss_val: 12.9425 - val_val_accuracy: 0.9965\n",
            "Epoch 5/15\n",
            "13/13 [==============================] - ETA: 0s - loss: 10.8255 - accuracy: 0.9971\n",
            "Epoch 5: accuracy improved from 0.99679 to 0.99713, saving model to ner-bi-GRU-tf2crf-model-ds-1.00.tf\n"
          ]
        },
        {
          "output_type": "stream",
          "name": "stderr",
          "text": [
            "WARNING:tensorflow:Model's `__init__()` arguments contain non-serializable objects. Please implement a `get_config()` method in the subclassed Model for proper saving and loading. Defaulting to empty config.\n",
            "WARNING:tensorflow:Model's `__init__()` arguments contain non-serializable objects. Please implement a `get_config()` method in the subclassed Model for proper saving and loading. Defaulting to empty config.\n",
            "WARNING:absl:Found untraced functions such as _update_step_xla, dense_1_layer_call_fn, dense_1_layer_call_and_return_conditional_losses while saving (showing 3 of 3). These functions will not be directly callable after loading.\n",
            "WARNING:tensorflow:Model's `__init__()` arguments contain non-serializable objects. Please implement a `get_config()` method in the subclassed Model for proper saving and loading. Defaulting to empty config.\n",
            "WARNING:tensorflow:Model's `__init__()` arguments contain non-serializable objects. Please implement a `get_config()` method in the subclassed Model for proper saving and loading. Defaulting to empty config.\n"
          ]
        },
        {
          "output_type": "stream",
          "name": "stdout",
          "text": [
            "\b\b\b\b\b\b\b\b\b\b\b\b\b\b\b\b\b\b\b\b\b\b\b\b\b\b\b\b\b\b\b\b\b\b\b\b\b\b\b\b\b\b\b\b\b\b\b\b\b\b\b\b\b\b\b\b\b\b\b\b\b\b\b\b\b\b\b\b\b\b\b\b\b\b\b\b\b\b\b\b\b\b\b\r13/13 [==============================] - 56s 4s/step - loss: 10.8255 - accuracy: 0.9971 - val_loss_val: 9.8301 - val_val_accuracy: 0.9966\n",
            "Epoch 6/15\n",
            "13/13 [==============================] - ETA: 0s - loss: 9.0904 - accuracy: 0.9973\n",
            "Epoch 6: accuracy improved from 0.99713 to 0.99735, saving model to ner-bi-GRU-tf2crf-model-ds-1.00.tf\n"
          ]
        },
        {
          "output_type": "stream",
          "name": "stderr",
          "text": [
            "WARNING:tensorflow:Model's `__init__()` arguments contain non-serializable objects. Please implement a `get_config()` method in the subclassed Model for proper saving and loading. Defaulting to empty config.\n",
            "WARNING:tensorflow:Model's `__init__()` arguments contain non-serializable objects. Please implement a `get_config()` method in the subclassed Model for proper saving and loading. Defaulting to empty config.\n",
            "WARNING:absl:Found untraced functions such as _update_step_xla, dense_1_layer_call_fn, dense_1_layer_call_and_return_conditional_losses while saving (showing 3 of 3). These functions will not be directly callable after loading.\n",
            "WARNING:tensorflow:Model's `__init__()` arguments contain non-serializable objects. Please implement a `get_config()` method in the subclassed Model for proper saving and loading. Defaulting to empty config.\n",
            "WARNING:tensorflow:Model's `__init__()` arguments contain non-serializable objects. Please implement a `get_config()` method in the subclassed Model for proper saving and loading. Defaulting to empty config.\n"
          ]
        },
        {
          "output_type": "stream",
          "name": "stdout",
          "text": [
            "\b\b\b\b\b\b\b\b\b\b\b\b\b\b\b\b\b\b\b\b\b\b\b\b\b\b\b\b\b\b\b\b\b\b\b\b\b\b\b\b\b\b\b\b\b\b\b\b\b\b\b\b\b\b\b\b\b\b\b\b\b\b\b\b\b\b\b\b\b\b\b\b\b\b\b\b\b\b\b\b\b\b\r13/13 [==============================] - 57s 4s/step - loss: 9.0904 - accuracy: 0.9973 - val_loss_val: 8.3405 - val_val_accuracy: 0.9969\n",
            "Epoch 7/15\n",
            "13/13 [==============================] - ETA: 0s - loss: 8.0459 - accuracy: 0.9974\n",
            "Epoch 7: accuracy improved from 0.99735 to 0.99741, saving model to ner-bi-GRU-tf2crf-model-ds-1.00.tf\n"
          ]
        },
        {
          "output_type": "stream",
          "name": "stderr",
          "text": [
            "WARNING:tensorflow:Model's `__init__()` arguments contain non-serializable objects. Please implement a `get_config()` method in the subclassed Model for proper saving and loading. Defaulting to empty config.\n",
            "WARNING:tensorflow:Model's `__init__()` arguments contain non-serializable objects. Please implement a `get_config()` method in the subclassed Model for proper saving and loading. Defaulting to empty config.\n",
            "WARNING:absl:Found untraced functions such as _update_step_xla, dense_1_layer_call_fn, dense_1_layer_call_and_return_conditional_losses while saving (showing 3 of 3). These functions will not be directly callable after loading.\n",
            "WARNING:tensorflow:Model's `__init__()` arguments contain non-serializable objects. Please implement a `get_config()` method in the subclassed Model for proper saving and loading. Defaulting to empty config.\n",
            "WARNING:tensorflow:Model's `__init__()` arguments contain non-serializable objects. Please implement a `get_config()` method in the subclassed Model for proper saving and loading. Defaulting to empty config.\n"
          ]
        },
        {
          "output_type": "stream",
          "name": "stdout",
          "text": [
            "\b\b\b\b\b\b\b\b\b\b\b\b\b\b\b\b\b\b\b\b\b\b\b\b\b\b\b\b\b\b\b\b\b\b\b\b\b\b\b\b\b\b\b\b\b\b\b\b\b\b\b\b\b\b\b\b\b\b\b\b\b\b\b\b\b\b\b\b\b\b\b\b\b\b\b\b\b\b\b\b\b\b\r13/13 [==============================] - 54s 4s/step - loss: 8.0459 - accuracy: 0.9974 - val_loss_val: 7.4182 - val_val_accuracy: 0.9971\n",
            "Epoch 8/15\n",
            "13/13 [==============================] - ETA: 0s - loss: 6.8781 - accuracy: 0.9976\n",
            "Epoch 8: accuracy improved from 0.99741 to 0.99758, saving model to ner-bi-GRU-tf2crf-model-ds-1.00.tf\n"
          ]
        },
        {
          "output_type": "stream",
          "name": "stderr",
          "text": [
            "WARNING:tensorflow:Model's `__init__()` arguments contain non-serializable objects. Please implement a `get_config()` method in the subclassed Model for proper saving and loading. Defaulting to empty config.\n",
            "WARNING:tensorflow:Model's `__init__()` arguments contain non-serializable objects. Please implement a `get_config()` method in the subclassed Model for proper saving and loading. Defaulting to empty config.\n",
            "WARNING:absl:Found untraced functions such as _update_step_xla, dense_1_layer_call_fn, dense_1_layer_call_and_return_conditional_losses while saving (showing 3 of 3). These functions will not be directly callable after loading.\n",
            "WARNING:tensorflow:Model's `__init__()` arguments contain non-serializable objects. Please implement a `get_config()` method in the subclassed Model for proper saving and loading. Defaulting to empty config.\n",
            "WARNING:tensorflow:Model's `__init__()` arguments contain non-serializable objects. Please implement a `get_config()` method in the subclassed Model for proper saving and loading. Defaulting to empty config.\n"
          ]
        },
        {
          "output_type": "stream",
          "name": "stdout",
          "text": [
            "\b\b\b\b\b\b\b\b\b\b\b\b\b\b\b\b\b\b\b\b\b\b\b\b\b\b\b\b\b\b\b\b\b\b\b\b\b\b\b\b\b\b\b\b\b\b\b\b\b\b\b\b\b\b\b\b\b\b\b\b\b\b\b\b\b\b\b\b\b\b\b\b\b\b\b\b\b\b\b\b\b\b\r13/13 [==============================] - 53s 4s/step - loss: 6.8781 - accuracy: 0.9976 - val_loss_val: 6.1800 - val_val_accuracy: 0.9971\n",
            "Epoch 9/15\n",
            "13/13 [==============================] - ETA: 0s - loss: 6.0612 - accuracy: 0.9976\n",
            "Epoch 9: accuracy did not improve from 0.99758\n",
            "13/13 [==============================] - 35s 3s/step - loss: 6.0612 - accuracy: 0.9976 - val_loss_val: 5.6672 - val_val_accuracy: 0.9973\n",
            "Epoch 10/15\n",
            "13/13 [==============================] - ETA: 0s - loss: 6.0662 - accuracy: 0.9978\n",
            "Epoch 10: accuracy improved from 0.99758 to 0.99777, saving model to ner-bi-GRU-tf2crf-model-ds-1.00.tf\n"
          ]
        },
        {
          "output_type": "stream",
          "name": "stderr",
          "text": [
            "WARNING:tensorflow:Model's `__init__()` arguments contain non-serializable objects. Please implement a `get_config()` method in the subclassed Model for proper saving and loading. Defaulting to empty config.\n",
            "WARNING:tensorflow:Model's `__init__()` arguments contain non-serializable objects. Please implement a `get_config()` method in the subclassed Model for proper saving and loading. Defaulting to empty config.\n",
            "WARNING:absl:Found untraced functions such as _update_step_xla, dense_1_layer_call_fn, dense_1_layer_call_and_return_conditional_losses while saving (showing 3 of 3). These functions will not be directly callable after loading.\n",
            "WARNING:tensorflow:Model's `__init__()` arguments contain non-serializable objects. Please implement a `get_config()` method in the subclassed Model for proper saving and loading. Defaulting to empty config.\n",
            "WARNING:tensorflow:Model's `__init__()` arguments contain non-serializable objects. Please implement a `get_config()` method in the subclassed Model for proper saving and loading. Defaulting to empty config.\n"
          ]
        },
        {
          "output_type": "stream",
          "name": "stdout",
          "text": [
            "\b\b\b\b\b\b\b\b\b\b\b\b\b\b\b\b\b\b\b\b\b\b\b\b\b\b\b\b\b\b\b\b\b\b\b\b\b\b\b\b\b\b\b\b\b\b\b\b\b\b\b\b\b\b\b\b\b\b\b\b\b\b\b\b\b\b\b\b\b\b\b\b\b\b\b\b\b\b\b\b\b\b\r13/13 [==============================] - 53s 4s/step - loss: 6.0662 - accuracy: 0.9978 - val_loss_val: 5.1651 - val_val_accuracy: 0.9975\n",
            "Epoch 11/15\n",
            "13/13 [==============================] - ETA: 0s - loss: 5.5916 - accuracy: 0.9978\n",
            "Epoch 11: accuracy improved from 0.99777 to 0.99781, saving model to ner-bi-GRU-tf2crf-model-ds-1.00.tf\n"
          ]
        },
        {
          "output_type": "stream",
          "name": "stderr",
          "text": [
            "WARNING:tensorflow:Model's `__init__()` arguments contain non-serializable objects. Please implement a `get_config()` method in the subclassed Model for proper saving and loading. Defaulting to empty config.\n",
            "WARNING:tensorflow:Model's `__init__()` arguments contain non-serializable objects. Please implement a `get_config()` method in the subclassed Model for proper saving and loading. Defaulting to empty config.\n",
            "WARNING:absl:Found untraced functions such as _update_step_xla, dense_1_layer_call_fn, dense_1_layer_call_and_return_conditional_losses while saving (showing 3 of 3). These functions will not be directly callable after loading.\n",
            "WARNING:tensorflow:Model's `__init__()` arguments contain non-serializable objects. Please implement a `get_config()` method in the subclassed Model for proper saving and loading. Defaulting to empty config.\n",
            "WARNING:tensorflow:Model's `__init__()` arguments contain non-serializable objects. Please implement a `get_config()` method in the subclassed Model for proper saving and loading. Defaulting to empty config.\n"
          ]
        },
        {
          "output_type": "stream",
          "name": "stdout",
          "text": [
            "\b\b\b\b\b\b\b\b\b\b\b\b\b\b\b\b\b\b\b\b\b\b\b\b\b\b\b\b\b\b\b\b\b\b\b\b\b\b\b\b\b\b\b\b\b\b\b\b\b\b\b\b\b\b\b\b\b\b\b\b\b\b\b\b\b\b\b\b\b\b\b\b\b\b\b\b\b\b\b\b\b\b\r13/13 [==============================] - 55s 4s/step - loss: 5.5916 - accuracy: 0.9978 - val_loss_val: 5.1973 - val_val_accuracy: 0.9980\n",
            "Epoch 12/15\n",
            "13/13 [==============================] - ETA: 0s - loss: 5.0256 - accuracy: 0.9980\n",
            "Epoch 12: accuracy improved from 0.99781 to 0.99798, saving model to ner-bi-GRU-tf2crf-model-ds-1.00.tf\n"
          ]
        },
        {
          "output_type": "stream",
          "name": "stderr",
          "text": [
            "WARNING:tensorflow:Model's `__init__()` arguments contain non-serializable objects. Please implement a `get_config()` method in the subclassed Model for proper saving and loading. Defaulting to empty config.\n",
            "WARNING:tensorflow:Model's `__init__()` arguments contain non-serializable objects. Please implement a `get_config()` method in the subclassed Model for proper saving and loading. Defaulting to empty config.\n",
            "WARNING:absl:Found untraced functions such as _update_step_xla, dense_1_layer_call_fn, dense_1_layer_call_and_return_conditional_losses while saving (showing 3 of 3). These functions will not be directly callable after loading.\n",
            "WARNING:tensorflow:Model's `__init__()` arguments contain non-serializable objects. Please implement a `get_config()` method in the subclassed Model for proper saving and loading. Defaulting to empty config.\n",
            "WARNING:tensorflow:Model's `__init__()` arguments contain non-serializable objects. Please implement a `get_config()` method in the subclassed Model for proper saving and loading. Defaulting to empty config.\n"
          ]
        },
        {
          "output_type": "stream",
          "name": "stdout",
          "text": [
            "\b\b\b\b\b\b\b\b\b\b\b\b\b\b\b\b\b\b\b\b\b\b\b\b\b\b\b\b\b\b\b\b\b\b\b\b\b\b\b\b\b\b\b\b\b\b\b\b\b\b\b\b\b\b\b\b\b\b\b\b\b\b\b\b\b\b\b\b\b\b\b\b\b\b\b\b\b\b\b\b\b\b\r13/13 [==============================] - 55s 4s/step - loss: 5.0256 - accuracy: 0.9980 - val_loss_val: 4.6976 - val_val_accuracy: 0.9980\n",
            "Epoch 13/15\n",
            "13/13 [==============================] - ETA: 0s - loss: 4.9227 - accuracy: 0.9981\n",
            "Epoch 13: accuracy improved from 0.99798 to 0.99808, saving model to ner-bi-GRU-tf2crf-model-ds-1.00.tf\n"
          ]
        },
        {
          "output_type": "stream",
          "name": "stderr",
          "text": [
            "WARNING:tensorflow:Model's `__init__()` arguments contain non-serializable objects. Please implement a `get_config()` method in the subclassed Model for proper saving and loading. Defaulting to empty config.\n",
            "WARNING:tensorflow:Model's `__init__()` arguments contain non-serializable objects. Please implement a `get_config()` method in the subclassed Model for proper saving and loading. Defaulting to empty config.\n",
            "WARNING:absl:Found untraced functions such as _update_step_xla, dense_1_layer_call_fn, dense_1_layer_call_and_return_conditional_losses while saving (showing 3 of 3). These functions will not be directly callable after loading.\n",
            "WARNING:tensorflow:Model's `__init__()` arguments contain non-serializable objects. Please implement a `get_config()` method in the subclassed Model for proper saving and loading. Defaulting to empty config.\n",
            "WARNING:tensorflow:Model's `__init__()` arguments contain non-serializable objects. Please implement a `get_config()` method in the subclassed Model for proper saving and loading. Defaulting to empty config.\n"
          ]
        },
        {
          "output_type": "stream",
          "name": "stdout",
          "text": [
            "\b\b\b\b\b\b\b\b\b\b\b\b\b\b\b\b\b\b\b\b\b\b\b\b\b\b\b\b\b\b\b\b\b\b\b\b\b\b\b\b\b\b\b\b\b\b\b\b\b\b\b\b\b\b\b\b\b\b\b\b\b\b\b\b\b\b\b\b\b\b\b\b\b\b\b\b\b\b\b\b\b\b\r13/13 [==============================] - 53s 4s/step - loss: 4.9227 - accuracy: 0.9981 - val_loss_val: 6.8679 - val_val_accuracy: 0.9976\n",
            "Epoch 14/15\n",
            "13/13 [==============================] - ETA: 0s - loss: 4.6938 - accuracy: 0.9981\n",
            "Epoch 14: accuracy improved from 0.99808 to 0.99810, saving model to ner-bi-GRU-tf2crf-model-ds-1.00.tf\n"
          ]
        },
        {
          "output_type": "stream",
          "name": "stderr",
          "text": [
            "WARNING:tensorflow:Model's `__init__()` arguments contain non-serializable objects. Please implement a `get_config()` method in the subclassed Model for proper saving and loading. Defaulting to empty config.\n",
            "WARNING:tensorflow:Model's `__init__()` arguments contain non-serializable objects. Please implement a `get_config()` method in the subclassed Model for proper saving and loading. Defaulting to empty config.\n",
            "WARNING:absl:Found untraced functions such as _update_step_xla, dense_1_layer_call_fn, dense_1_layer_call_and_return_conditional_losses while saving (showing 3 of 3). These functions will not be directly callable after loading.\n",
            "WARNING:tensorflow:Model's `__init__()` arguments contain non-serializable objects. Please implement a `get_config()` method in the subclassed Model for proper saving and loading. Defaulting to empty config.\n",
            "WARNING:tensorflow:Model's `__init__()` arguments contain non-serializable objects. Please implement a `get_config()` method in the subclassed Model for proper saving and loading. Defaulting to empty config.\n"
          ]
        },
        {
          "output_type": "stream",
          "name": "stdout",
          "text": [
            "\b\b\b\b\b\b\b\b\b\b\b\b\b\b\b\b\b\b\b\b\b\b\b\b\b\b\b\b\b\b\b\b\b\b\b\b\b\b\b\b\b\b\b\b\b\b\b\b\b\b\b\b\b\b\b\b\b\b\b\b\b\b\b\b\b\b\b\b\b\b\b\b\b\b\b\b\b\b\b\b\b\b\r13/13 [==============================] - 55s 4s/step - loss: 4.6938 - accuracy: 0.9981 - val_loss_val: 4.2623 - val_val_accuracy: 0.9981\n",
            "Epoch 15/15\n",
            "13/13 [==============================] - ETA: 0s - loss: 4.6474 - accuracy: 0.9981\n",
            "Epoch 15: accuracy improved from 0.99810 to 0.99815, saving model to ner-bi-GRU-tf2crf-model-ds-1.00.tf\n"
          ]
        },
        {
          "output_type": "stream",
          "name": "stderr",
          "text": [
            "WARNING:tensorflow:Model's `__init__()` arguments contain non-serializable objects. Please implement a `get_config()` method in the subclassed Model for proper saving and loading. Defaulting to empty config.\n",
            "WARNING:tensorflow:Model's `__init__()` arguments contain non-serializable objects. Please implement a `get_config()` method in the subclassed Model for proper saving and loading. Defaulting to empty config.\n",
            "WARNING:absl:Found untraced functions such as _update_step_xla, dense_1_layer_call_fn, dense_1_layer_call_and_return_conditional_losses while saving (showing 3 of 3). These functions will not be directly callable after loading.\n",
            "WARNING:tensorflow:Model's `__init__()` arguments contain non-serializable objects. Please implement a `get_config()` method in the subclassed Model for proper saving and loading. Defaulting to empty config.\n",
            "WARNING:tensorflow:Model's `__init__()` arguments contain non-serializable objects. Please implement a `get_config()` method in the subclassed Model for proper saving and loading. Defaulting to empty config.\n"
          ]
        },
        {
          "output_type": "stream",
          "name": "stdout",
          "text": [
            "\b\b\b\b\b\b\b\b\b\b\b\b\b\b\b\b\b\b\b\b\b\b\b\b\b\b\b\b\b\b\b\b\b\b\b\b\b\b\b\b\b\b\b\b\b\b\b\b\b\b\b\b\b\b\b\b\b\b\b\b\b\b\b\b\b\b\b\b\b\b\b\b\b\b\b\b\b\b\b\b\b\b\r13/13 [==============================] - 53s 4s/step - loss: 4.6474 - accuracy: 0.9981 - val_loss_val: 4.7543 - val_val_accuracy: 0.9982\n"
          ]
        }
      ]
    },
    {
      "cell_type": "code",
      "source": [
        "# Plot training & validation accuracy values\n",
        "plt.plot(history.history['accuracy'])\n",
        "plt.plot(history.history['val_val_accuracy'])\n",
        "plt.title('Model accuracy')\n",
        "plt.ylabel('Accuracy')\n",
        "plt.xlabel('Epoch')\n",
        "plt.legend(['Train', 'Test'])\n",
        "plt.show()\n",
        "\n",
        "# Plot training & validation loss values\n",
        "plt.plot(history.history['loss'])\n",
        "plt.plot(history.history['val_loss_val'])\n",
        "plt.title('Model loss')\n",
        "plt.ylabel('Loss')\n",
        "plt.xlabel('Epoch')\n",
        "plt.legend(['Train', 'Test'], loc='upper left')\n",
        "plt.show()"
      ],
      "metadata": {
        "colab": {
          "base_uri": "https://localhost:8080/",
          "height": 927
        },
        "id": "c6y7Bsa6RRf6",
        "outputId": "513f788b-89e4-457e-80ea-29dde4cf2561"
      },
      "execution_count": null,
      "outputs": [
        {
          "output_type": "display_data",
          "data": {
            "text/plain": [
              "<Figure size 640x480 with 1 Axes>"
            ],
            "image/png": "[encoded data removed]"
          },
          "metadata": {}
        },
        {
          "output_type": "display_data",
          "data": {
            "text/plain": [
              "<Figure size 640x480 with 1 Axes>"
            ],
            "image/png": "[encoded data removed]"
          },
          "metadata": {}
        }
      ]
    },
    {
      "cell_type": "code",
      "source": [
        "# Prediction\n",
        "pred_cat = model.predict(X_test, verbose=1)\n",
        "y_te_true = np.argmax(y_test, -1)"
      ],
      "metadata": {
        "id": "4cwW79t-RbSQ",
        "colab": {
          "base_uri": "https://localhost:8080/"
        },
        "outputId": "0841b434-9b4e-470f-ce9c-10904ec1fe13"
      },
      "execution_count": null,
      "outputs": [
        {
          "output_type": "stream",
          "name": "stdout",
          "text": [
            "4/4 [==============================] - 4s 554ms/step\n"
          ]
        }
      ]
    },
    {
      "cell_type": "code",
      "source": [
        "#New classification report\n",
        "from sklearn_crfsuite.utils import flatten\n",
        "from functools import wraps\n",
        "\n",
        "\n",
        "def _flattens_y(func):\n",
        "    @wraps(func)\n",
        "    def wrapper(y_true, y_pred, *args, **kwargs):\n",
        "        y_true_flat = flatten(y_true)\n",
        "        y_pred_flat = flatten(y_pred)\n",
        "        return func(y_true_flat, y_pred_flat, *args, **kwargs)\n",
        "    return wrapper\n",
        "\n",
        "\n",
        "@_flattens_y\n",
        "def flat_classification_report(y_true, y_pred, labels=None, target_names=None, **kwargs):\n",
        "    \"\"\"\n",
        "    Return classification report for sequence items.\n",
        "    \"\"\"\n",
        "    from sklearn import metrics\n",
        "    return metrics.classification_report(y_true, y_pred, labels=labels, target_names=target_names, **kwargs)"
      ],
      "metadata": {
        "id": "Uxrc-aN7drwr"
      },
      "execution_count": null,
      "outputs": []
    },
    {
      "cell_type": "code",
      "source": [
        "#Flat Classification report \n",
        "report = flat_classification_report(y_te_true, pred_cat) #imbalance data, test data doesnot have all the classes\n",
        "# report = flat_classification_report(y_te_true, pred_cat, target_names=tags)\n",
        "report_edited = report.replace(\" 0 \", \" \"+idx2tag[0]+\"  \").replace(\" 1 \", \" \"+idx2tag[1]+\"   \").replace(\" 2 \", \" \"+idx2tag[2]+\"\").replace(\" 3 \", \" \"+idx2tag[3]+\"    \")\n",
        "print(report_edited)"
      ],
      "metadata": {
        "colab": {
          "base_uri": "https://localhost:8080/"
        },
        "id": "_3nc5vWBP9gz",
        "outputId": "27997d27-9ff3-4071-f429-5cc9c8a23ae9"
      },
      "execution_count": null,
      "outputs": [
        {
          "output_type": "stream",
          "name": "stdout",
          "text": [
            "              precision    recall  f1-score   support\n",
            "\n",
            "           PAD        1.00      1.00      1.00     67429\n",
            "           B-Pin      0.57      0.54      0.56       197\n",
            "           O          0.99      0.99      0.99     15432\n",
            "\n",
            "    accuracy                           1.00     83058\n",
            "   macro avg       0.85      0.85      0.85     83058\n",
            "weighted avg       1.00      1.00      1.00     83058\n",
            "\n"
          ]
        }
      ]
    },
    {
      "cell_type": "code",
      "source": [
        "i = np.random.randint(0,X_test.shape[0]) # choose a random number between 0 and len(X_te)\n",
        "p = model.predict(np.array([X_test[i]]))\n",
        "# p = np.argmax(p, axis=-1)\n",
        "true = np.argmax(y_test[i], -1)\n",
        "\n",
        "print(\"Sample number {} of {} (Test Set)\".format(i, X_test.shape[0]))\n",
        "# Visualization\n",
        "print(\"{:15}||{:5}||{}\".format(\"Word\", \"True\", \"Pred\"))\n",
        "print(30 * \"=\")\n",
        "for w, t, pred in zip(X_test[i], true, p[0]):\n",
        "    if w != 0:\n",
        "        print(\"{:15}: {:5} {}\".format(words[w-2], idx2tag[t], idx2tag[pred]))"
      ],
      "metadata": {
        "colab": {
          "base_uri": "https://localhost:8080/"
        },
        "id": "TrzNAeODRcep",
        "outputId": "e364d6bb-b419-40fc-8ca0-c50dbe98cc61"
      },
      "execution_count": null,
      "outputs": [
        {
          "output_type": "stream",
          "name": "stdout",
          "text": [
            "1/1 [==============================] - 2s 2s/step\n",
            "Sample number 37 of 109 (Test Set)\n",
            "Word           ||True ||Pred\n",
            "==============================\n",
            "0x400          : O     O\n",
            "(PWROFF_HT)).  : O     O\n",
            "advantage      : O     O\n",
            "(defined       : O     O\n",
            "clean,         : O     O\n",
            "Edge           : O     O\n",
            "LIN),          : O     O\n",
            "power-up.      : O     O\n",
            "locally        : O     O\n",
            "ignored        : O     O\n",
            "Head           : O     O\n",
            "0x400          : O     O\n",
            "integrate      : O     O\n",
            "operation.     : O     O\n",
            "(SR.SV         : O     O\n",
            "Edge           : O     O\n",
            "suitable       : O     O\n",
            "video          : O     O\n",
            "01             : O     O\n",
            "constrained    : O     O\n",
            "kbytes         : O     O\n",
            "Appendix       : O     O\n",
            "Head           : O     O\n",
            "effect         : O     O\n",
            "Evaluation     : O     O\n",
            "0x400          : O     O\n",
            "telephone      : O     O\n",
            "eam            : O     O\n",
            "pre-programmed : O     O\n",
            "(edge          : O     O\n",
            "browser        : O     O\n",
            "Blocks,        : O     O\n",
            "1-1.           : O     O\n",
            "(defined       : O     O\n",
            "(SR.SV         : O     O\n",
            "Get            : O     O\n",
            "MSMM.          : O     O\n",
            "pulses         : O     O\n",
            "(SR.SV         : O     O\n",
            "-4             : O     O\n",
            "(RTC).         : O     O\n",
            "(defined       : O     O\n",
            "bus).          : O     O\n",
            "EWU            : O     O\n",
            "0x400          : O     O\n",
            "With           : O     O\n",
            "advantage      : O     O\n",
            "filtered,      : O     O\n",
            "capacitance    : O     O\n",
            "(defined       : O     O\n",
            "twack          : O     O\n",
            "nous           : O     O\n",
            "Sappor         : O     O\n",
            "advantage      : O     O\n",
            "CONFIG         : O     O\n",
            "stopping       : O     O\n",
            "video          : O     O\n",
            "With           : O     O\n",
            "advantage      : O     O\n",
            "PWROFF)        : O     O\n",
            "kQ).           : O     O\n",
            "(Flash).       : O     O\n",
            "startup;       : O     O\n",
            "0x400          : O     O\n",
            "offset         : O     O\n",
            "Teale          : O     O\n",
            "power-up.      : O     O\n",
            "0x400          : O     O\n",
            "twack          : O     O\n",
            "nous           : O     O\n",
            "s40.00.0C.05.04.00.01.01.00.00.30.00.02.01.41p: O     O\n",
            "With           : O     O\n",
            "off            : O     O\n",
            "42             : O     O\n",
            "|SRf|,         : O     O\n",
            "0x400          : O     O\n",
            "SMSC           : O     O\n",
            "EWU            : O     O\n",
            "0x400          : O     O\n",
            "Edge           : O     O\n",
            "pA)            : O     O\n",
            "0x400          : O     O\n",
            "0x400          : O     O\n",
            "telephone      : O     O\n",
            "FBLOCK_AMP.    : O     O\n",
            "0x400          : O     O\n",
            "telephone      : O     O\n",
            "activity)      : O     O\n",
            "static         : O     O\n",
            "call,          : O     O\n",
            "(SR.SV         : O     O\n",
            "Get            : O     O\n",
            "Bus            : O     O\n",
            "EWU            : O     O\n",
            "0x400          : O     O\n",
            "telephone      : O     O\n",
            "activity)      : O     O\n",
            "10b)           : O     O\n",
            ",              : O     O\n",
            "0x400          : O     O\n",
            "(Shown         : O     O\n",
            "42             : O     O\n",
            "so             : O     O\n",
            "0x400          : O     O\n",
            "telephone      : O     O\n",
            "FBlockID,      : O     O\n",
            "(defined       : O     O\n",
            "(SR.SV         : O     O\n",
            "repair         : O     O\n",
            "One-Time-Programmable: O     O\n",
            "reported       : O     O\n",
            "Blocks,        : O     O\n",
            "0x400          : O     O\n",
            "enabled;       : O     O\n",
            "EWU            : O     O\n",
            "0x400          : O     O\n",
            "(SR.SV         : O     O\n",
            "10.2.15        : O     O\n",
            "0000           : O     O\n",
            "Access'        : O     O\n",
            "42             : O     O\n",
            "0x400          : O     O\n",
            "stopping       : O     O\n",
            "0x400          : O     O\n",
            "(Shown         : O     O\n",
            "advantage      : O     O\n",
            "(defined       : O     O\n",
            "LIN),          : O     O\n",
            "advantage      : O     O\n",
            "WHETHER        : O     O\n",
            "Head           : O     O\n",
            "1.512          : O     O\n",
            "suitable       : O     O\n",
            "-5             : O     PAD\n",
            "advantage      : O     PAD\n",
            "retries.       : O     PAD\n",
            "previous       : O     PAD\n",
            "(defined       : O     PAD\n",
            "(J200)         : O     PAD\n",
            "Nected         : O     PAD\n",
            "static         : O     PAD\n",
            "(SR.LV         : O     PAD\n",
            "0x400          : O     PAD\n",
            "(Shown         : O     PAD\n",
            "Blocks,        : O     PAD\n",
            "solution.      : O     PAD\n",
            "telephone      : O     PAD\n",
            "(RTC).         : O     PAD\n",
            "0x400          : O     PAD\n",
            "Implementing   : O     PAD\n",
            "(RW)           : O     PAD\n",
            "LSR.RESET      : O     PAD\n",
            "configured     : O     PAD\n",
            "(edge          : O     PAD\n",
            "(RTC).         : O     PAD\n",
            "0x400          : O     PAD\n"
          ]
        }
      ]
    }
  ]
}