{
  "nbformat": 4,
  "nbformat_minor": 0,
  "metadata": {
    "colab": {
      "provenance": []
    },
    "kernelspec": {
      "name": "python3",
      "display_name": "Python 3"
    },
    "language_info": {
      "name": "python"
    },
    "accelerator": "GPU",
    "gpuClass": "standard"
  },
  "cells": [
    {
      "cell_type": "markdown",
      "source": [
        "Inspired By:\\\n",
        "https://github.com/JRC1995/Bi-GRU-CRF-NER\n",
        "\n",
        "https://www.kaggle.com/code/samarthsarin/keras-gru-with-glove-embedding/notebook"
      ],
      "metadata": {
        "id": "dQQC7Hj_iFnc"
      }
    },
    {
      "cell_type": "code",
      "source": [
        "from google.colab import drive\n",
        "drive.mount('/content/drive')"
      ],
      "metadata": {
        "colab": {
          "base_uri": "https://localhost:8080/"
        },
        "id": "bzyu3ANcpTwG",
        "outputId": "e34f58a4-18ef-4cb4-c7d4-be5173dba334"
      },
      "execution_count": null,
      "outputs": [
        {
          "output_type": "stream",
          "name": "stdout",
          "text": [
            "Mounted at /content/drive\n"
          ]
        }
      ]
    },
    {
      "cell_type": "code",
      "source": [
        "!pip install tf2crf"
      ],
      "metadata": {
        "id": "3OY8Cg2AnODr"
      },
      "execution_count": null,
      "outputs": []
    },
    {
      "cell_type": "code",
      "source": [
        "!pip install sklearn_crfsuite"
      ],
      "metadata": {
        "id": "hrRFbKKFdZAE"
      },
      "execution_count": null,
      "outputs": []
    },
    {
      "cell_type": "code",
      "source": [
        "import numpy as np\n",
        "import pandas as pd"
      ],
      "metadata": {
        "id": "CzqUIWrwYjyU"
      },
      "execution_count": null,
      "outputs": []
    },
    {
      "cell_type": "code",
      "source": [
        "class SentenceGetter(object):\n",
        "    \n",
        "    def __init__(self, filenames_list):\n",
        "        self.sentences = []\n",
        "        self.words = set()\n",
        "        self.tags = set()\n",
        "        for filename in filenames_list:\n",
        "          with open(filename) as f:\n",
        "              sentence = []\n",
        "              for line in f:\n",
        "                  line = line.strip()\n",
        "                  if (len(line) == 0 or line.startswith(\"-DOCSTART-\") or line.startswith(\"......\")):\n",
        "                      if len(sentence) != 0:\n",
        "                        self.sentences.append(sentence)\n",
        "                        sentence = []\n",
        "                      continue\n",
        "                  else:\n",
        "                      ls = line.split(' ')\n",
        "                      word, tag = ls[0],ls[3]\n",
        "                      self.words.add(word)\n",
        "                      self.tags.add(tag)\n",
        "                      sentence.append((word,tag))"
      ],
      "metadata": {
        "id": "SB4jt8_y85wm"
      },
      "execution_count": null,
      "outputs": []
    },
    {
      "cell_type": "code",
      "source": [
        "#MCHP_dataset_1\n",
        "files = ['/content/drive/MyDrive/MasterThesis/NER/MCHP/dataset_1/cn569258-pin.conll', '/content/drive/MyDrive/MasterThesis/NER/MCHP/dataset_2/project-13-at-2022-06-14-08-59-1d16c7ec.conll'] #Shreya\n",
        "getter = SentenceGetter(files)\n",
        "sentences = getter.sentences\n",
        "words = getter.words\n",
        "tags = list(getter.tags)"
      ],
      "metadata": {
        "id": "1J84ts-Gppz3"
      },
      "execution_count": null,
      "outputs": []
    },
    {
      "cell_type": "code",
      "source": [
        "words = list(words) #set to list convert"
      ],
      "metadata": {
        "id": "q8xFXfd49gSL"
      },
      "execution_count": null,
      "outputs": []
    },
    {
      "cell_type": "code",
      "source": [
        "len(sentences)"
      ],
      "metadata": {
        "colab": {
          "base_uri": "https://localhost:8080/"
        },
        "id": "X8hag5yfnwSm",
        "outputId": "a8dbb9d5-ad51-4b62-a5df-1806307e6047"
      },
      "execution_count": null,
      "outputs": [
        {
          "output_type": "execute_result",
          "data": {
            "text/plain": [
              "545"
            ]
          },
          "metadata": {},
          "execution_count": 8
        }
      ]
    },
    {
      "cell_type": "code",
      "source": [
        "len(words)"
      ],
      "metadata": {
        "colab": {
          "base_uri": "https://localhost:8080/"
        },
        "id": "Ro2WKZun9j8X",
        "outputId": "69faeaf0-abbe-44b3-fbba-20e8e9319bf0"
      },
      "execution_count": null,
      "outputs": [
        {
          "output_type": "execute_result",
          "data": {
            "text/plain": [
              "10007"
            ]
          },
          "metadata": {},
          "execution_count": 9
        }
      ]
    },
    {
      "cell_type": "code",
      "source": [
        "#ADD PAD to words\n",
        "words.append('PAD')"
      ],
      "metadata": {
        "id": "lZqIItyhhxZX"
      },
      "execution_count": null,
      "outputs": []
    },
    {
      "cell_type": "code",
      "source": [
        "tags"
      ],
      "metadata": {
        "colab": {
          "base_uri": "https://localhost:8080/"
        },
        "id": "br4YbzGAq24x",
        "outputId": "0ed2a8b5-201f-44cd-9cb4-7965d53dbe22"
      },
      "execution_count": null,
      "outputs": [
        {
          "output_type": "execute_result",
          "data": {
            "text/plain": [
              "['I-Pin', 'B-Pin', 'O']"
            ]
          },
          "metadata": {},
          "execution_count": 10
        }
      ]
    },
    {
      "cell_type": "code",
      "source": [
        "tags.insert(0,'PAD')"
      ],
      "metadata": {
        "id": "YFbYYHaA9rL6"
      },
      "execution_count": null,
      "outputs": []
    },
    {
      "cell_type": "code",
      "source": [
        "n_words = len(words)\n",
        "n_tags = len(tags)"
      ],
      "metadata": {
        "id": "zpeU1OpJZaCY"
      },
      "execution_count": null,
      "outputs": []
    },
    {
      "cell_type": "code",
      "source": [
        "n_words, n_tags"
      ],
      "metadata": {
        "colab": {
          "base_uri": "https://localhost:8080/"
        },
        "id": "Xbx5C_wE926V",
        "outputId": "58e9ac9b-1892-47ae-f087-993729083ea6"
      },
      "execution_count": null,
      "outputs": [
        {
          "output_type": "execute_result",
          "data": {
            "text/plain": [
              "(10008, 4)"
            ]
          },
          "metadata": {},
          "execution_count": 15
        }
      ]
    },
    {
      "cell_type": "code",
      "source": [
        "tags"
      ],
      "metadata": {
        "colab": {
          "base_uri": "https://localhost:8080/"
        },
        "id": "_UJqa777Zcn5",
        "outputId": "a8bf9ed9-2adf-46ef-b351-d141f70e787c"
      },
      "execution_count": null,
      "outputs": [
        {
          "output_type": "execute_result",
          "data": {
            "text/plain": [
              "['PAD', 'I-Pin', 'B-Pin', 'O']"
            ]
          },
          "metadata": {},
          "execution_count": 13
        }
      ]
    },
    {
      "cell_type": "code",
      "source": [
        "from tqdm import tqdm"
      ],
      "metadata": {
        "id": "kY9Mg-2_wHP7"
      },
      "execution_count": null,
      "outputs": []
    },
    {
      "cell_type": "code",
      "source": [
        "embedding_vector = {}\n",
        "f = open('/content/drive/MyDrive/MasterThesis/Glove/glove.6B.100d.txt') \n",
        "for line in tqdm(f):\n",
        "    vector = line.split(' ')\n",
        "    word = vector[0]\n",
        "    coef = np.asarray(vector[1:],dtype = 'float32')\n",
        "    embedding_vector[word]=coef\n",
        "f.close()\n",
        "print('Number of words found ',len(embedding_vector))"
      ],
      "metadata": {
        "colab": {
          "base_uri": "https://localhost:8080/"
        },
        "id": "ZvBDzF4Vv9qq",
        "outputId": "16432ef2-988c-41fd-b6f4-8e7d57e60c6b"
      },
      "execution_count": null,
      "outputs": [
        {
          "output_type": "stream",
          "name": "stderr",
          "text": [
            "400000it [00:11, 35865.11it/s]"
          ]
        },
        {
          "output_type": "stream",
          "name": "stdout",
          "text": [
            "Number of words found  400000\n"
          ]
        },
        {
          "output_type": "stream",
          "name": "stderr",
          "text": [
            "\n"
          ]
        }
      ]
    },
    {
      "cell_type": "code",
      "source": [
        "from keras.preprocessing.text import Tokenizer"
      ],
      "metadata": {
        "id": "kBuzvgtr4YGp"
      },
      "execution_count": null,
      "outputs": []
    },
    {
      "cell_type": "code",
      "source": [
        "token = Tokenizer()\n",
        "token.fit_on_texts(words)"
      ],
      "metadata": {
        "id": "UGRFkmWI1BoG"
      },
      "execution_count": null,
      "outputs": []
    },
    {
      "cell_type": "code",
      "source": [
        "sequence = token.texts_to_sequences(words)"
      ],
      "metadata": {
        "id": "R2OYIGHcv9ny"
      },
      "execution_count": null,
      "outputs": []
    },
    {
      "cell_type": "code",
      "source": [
        "vocab_size = len(token.word_index)+1"
      ],
      "metadata": {
        "id": "eftWe6Ufv9ay"
      },
      "execution_count": null,
      "outputs": []
    },
    {
      "cell_type": "code",
      "source": [
        "vocab_size"
      ],
      "metadata": {
        "colab": {
          "base_uri": "https://localhost:8080/"
        },
        "id": "-Fv-HTEs-Y1p",
        "outputId": "fb22f4e9-f809-4617-bef7-979b7d12b170"
      },
      "execution_count": null,
      "outputs": [
        {
          "output_type": "execute_result",
          "data": {
            "text/plain": [
              "4962"
            ]
          },
          "metadata": {},
          "execution_count": 20
        }
      ]
    },
    {
      "cell_type": "code",
      "source": [
        "embedding_matrix = np.zeros((vocab_size,100))\n",
        "for word,i in tqdm(token.word_index.items()):\n",
        "    embedding_vectors = embedding_vector.get(word)\n",
        "    if embedding_vectors is not None:\n",
        "        embedding_matrix[i] = embedding_vector[word]"
      ],
      "metadata": {
        "colab": {
          "base_uri": "https://localhost:8080/"
        },
        "id": "VKY2eVfG5K_w",
        "outputId": "beba5d3b-74c1-46b8-8ec9-097920be8fce"
      },
      "execution_count": null,
      "outputs": [
        {
          "output_type": "stream",
          "name": "stderr",
          "text": [
            "100%|██████████| 4961/4961 [00:00<00:00, 63379.14it/s]\n"
          ]
        }
      ]
    },
    {
      "cell_type": "code",
      "source": [
        "from future.utils import iteritems\n",
        "\n",
        "tag2idx = {t: i for i, t in enumerate(tags)}\n",
        "\n",
        "idx2tag = {v: k for k, v in iteritems(tag2idx)}"
      ],
      "metadata": {
        "id": "oSn2WSh_ZgSl"
      },
      "execution_count": null,
      "outputs": []
    },
    {
      "cell_type": "code",
      "source": [
        "tag2idx"
      ],
      "metadata": {
        "colab": {
          "base_uri": "https://localhost:8080/"
        },
        "id": "zlLJ1eF3kw0j",
        "outputId": "fc4adfb8-cbc6-4f50-f140-cddea520e319"
      },
      "execution_count": null,
      "outputs": [
        {
          "output_type": "execute_result",
          "data": {
            "text/plain": [
              "{'PAD': 0, 'I-Pin': 1, 'B-Pin': 2, 'O': 3}"
            ]
          },
          "metadata": {},
          "execution_count": 23
        }
      ]
    },
    {
      "cell_type": "code",
      "source": [
        "#Feature and Label separation\n",
        "from tensorflow.keras.preprocessing.sequence import pad_sequences\n",
        "from tensorflow.keras.utils import to_categorical\n",
        "\n",
        "maxlen = max([len(s) for s in sentences])\n",
        "\n",
        "total_feature = [[token.word_index.get(w[0].lower()) for w in s if w[0].lower() in token.word_index] for s in sentences]\n",
        "X = pad_sequences(maxlen=maxlen, sequences=total_feature, dtype='int32', padding=\"post\", value=token.word_index.get('pad')) #embedding_matrix 0 position is blank value\n",
        "total_label = [[tag2idx[w[1]] for w in s if w[0].lower() in token.word_index] for s in sentences]\n",
        "y_label = pad_sequences(maxlen=maxlen, sequences=total_label, dtype='int32', padding=\"post\", value=tag2idx[\"PAD\"])\n",
        "\n",
        "Y = [to_categorical(i, num_classes=n_tags) for i in y_label]"
      ],
      "metadata": {
        "id": "K9RdZaps-tdH"
      },
      "execution_count": null,
      "outputs": []
    },
    {
      "cell_type": "code",
      "source": [
        "print(\n",
        "        'X_tokens length:', len(X),\n",
        "        '\\nY_tags:', len(Y)\n",
        "    )"
      ],
      "metadata": {
        "colab": {
          "base_uri": "https://localhost:8080/"
        },
        "id": "08xn43aW_MLW",
        "outputId": "149cd186-721c-4271-d2c6-ed95cec73738"
      },
      "execution_count": null,
      "outputs": [
        {
          "output_type": "stream",
          "name": "stdout",
          "text": [
            "X_tokens length: 545 \n",
            "Y_tags: 545\n"
          ]
        }
      ]
    },
    {
      "cell_type": "code",
      "source": [
        "for token_id, tag in zip(X[0], Y[0]):\n",
        "    print('%s\\t%s' % (token_id, tag))"
      ],
      "metadata": {
        "id": "0ni3EYiP_RQm"
      },
      "execution_count": null,
      "outputs": []
    },
    {
      "cell_type": "code",
      "source": [
        "#devide the data into train test valid\n",
        "#choosing 70, 20, 10 ratio\n",
        "\n",
        "from sklearn.model_selection import train_test_split\n",
        "X_data, X_test, Y_data, y_test = train_test_split(X,Y,test_size=0.20,shuffle=True, random_state=42)\n",
        "X_train, X_val, y_train, y_val = train_test_split(X_data,Y_data,test_size=0.10,shuffle=True, random_state=42)\n",
        "\n",
        "\n",
        "print(\n",
        "        '\\X_tokens length:', len(X),\n",
        "        '\\ntrain_tokens length:', len(X_train),\n",
        "        '\\nval_tokens length:', len(X_val),\n",
        "        '\\ntest_tokens length:', len(X_test),\n",
        "        '\\n\\nY_tags length:', len(Y),\n",
        "        '\\ntrain_tags:', len(y_train),\n",
        "        '\\nval_tags:', len(y_val),\n",
        "        '\\ntest_tags:', len(y_test)\n",
        "    )"
      ],
      "metadata": {
        "colab": {
          "base_uri": "https://localhost:8080/"
        },
        "id": "kmb901ua_9Vf",
        "outputId": "32758019-e5ec-4748-8824-f3f028825efd"
      },
      "execution_count": null,
      "outputs": [
        {
          "output_type": "stream",
          "name": "stdout",
          "text": [
            "\\X_tokens length: 545 \n",
            "train_tokens length: 392 \n",
            "val_tokens length: 44 \n",
            "test_tokens length: 109 \n",
            "\n",
            "Y_tags length: 545 \n",
            "train_tags: 392 \n",
            "val_tags: 44 \n",
            "test_tags: 109\n"
          ]
        }
      ]
    },
    {
      "cell_type": "code",
      "source": [
        "np.array(y_test).shape"
      ],
      "metadata": {
        "colab": {
          "base_uri": "https://localhost:8080/"
        },
        "id": "OJ-fxomeJ74K",
        "outputId": "8907af7e-6030-4cab-8b13-be2cab15ed89"
      },
      "execution_count": null,
      "outputs": [
        {
          "output_type": "execute_result",
          "data": {
            "text/plain": [
              "(109, 762, 4)"
            ]
          },
          "metadata": {},
          "execution_count": 31
        }
      ]
    },
    {
      "cell_type": "markdown",
      "source": [
        "#Model"
      ],
      "metadata": {
        "id": "BSsrdXjWXlbE"
      }
    },
    {
      "cell_type": "code",
      "source": [
        "import tensorflow"
      ],
      "metadata": {
        "id": "nOdEsLKZJsGD"
      },
      "execution_count": null,
      "outputs": []
    },
    {
      "cell_type": "code",
      "source": [
        "from numpy.random import seed\n",
        "seed(1)\n",
        "tensorflow.random.set_seed(2)"
      ],
      "metadata": {
        "id": "AkaIkvtkXp12"
      },
      "execution_count": null,
      "outputs": []
    },
    {
      "cell_type": "code",
      "source": [
        "input_dim = vocab_size\n",
        "input_length = maxlen\n",
        "n_tags = len(tag2idx)\n",
        "print('input_dim: ', input_dim, '\\ninput_length: ', input_length, '\\nn_tags: ', n_tags)"
      ],
      "metadata": {
        "colab": {
          "base_uri": "https://localhost:8080/"
        },
        "id": "umCKjG-aXsej",
        "outputId": "23966098-6d5d-418c-a859-366cd5c0bd4f"
      },
      "execution_count": null,
      "outputs": [
        {
          "output_type": "stream",
          "name": "stdout",
          "text": [
            "input_dim:  4962 \n",
            "input_length:  762 \n",
            "n_tags:  4\n"
          ]
        }
      ]
    },
    {
      "cell_type": "code",
      "source": [
        "import numpy as np\n",
        "import tensorflow.keras as kk\n",
        "from tensorflow.keras import Sequential, Model, Input\n",
        "from tensorflow.keras.layers import LSTM, Embedding, Dense, TimeDistributed, Dropout, Bidirectional\n",
        "from tensorflow.keras.utils import plot_model\n",
        "from tf2crf import CRF, ModelWithCRFLoss"
      ],
      "metadata": {
        "id": "BJXiC6e-XkbY"
      },
      "execution_count": null,
      "outputs": []
    },
    {
      "cell_type": "code",
      "source": [
        "word_embedding_size = 100\n",
        "\n",
        "units_size = 50\n",
        "\n",
        "#input layer\n",
        "input = Input(shape=(maxlen,))\n",
        "\n",
        "# Embedding Layer\n",
        "embed = Embedding(input_dim=input_dim, output_dim=word_embedding_size, weights = [embedding_matrix], input_length =maxlen, mask_zero=True, trainable = False)(input)\n",
        "\n",
        "# BI-LSTM Layer\n",
        "model = Bidirectional(LSTM(units=units_size, \n",
        "                           return_sequences=True, \n",
        "                           dropout=0.5, \n",
        "                           recurrent_dropout=0.5, \n",
        "                           kernel_initializer=kk.initializers.he_normal()))(embed)\n",
        "\n",
        "# TimeDistributed Layer \n",
        "model = TimeDistributed(Dense(units_size, activation=\"relu\"))(model) \n",
        "\n",
        "# CRF Layer\n",
        "crf = CRF(units=n_tags)\n",
        "\n",
        "output = crf(model)\n",
        "\n",
        "base_model = Model(input, output)\n",
        "\n",
        "base_model.summary()\n",
        "\n",
        "model = ModelWithCRFLoss(base_model, sparse_target=False)"
      ],
      "metadata": {
        "colab": {
          "base_uri": "https://localhost:8080/"
        },
        "id": "zbI8r9PdnIjg",
        "outputId": "c4ac0746-1f6c-4854-baca-8cbdca58bf84"
      },
      "execution_count": null,
      "outputs": [
        {
          "output_type": "stream",
          "name": "stderr",
          "text": [
            "WARNING:tensorflow:Layer lstm will not use cuDNN kernels since it doesn't meet the criteria. It will use a generic GPU kernel as fallback when running on GPU.\n",
            "WARNING:tensorflow:Layer lstm will not use cuDNN kernels since it doesn't meet the criteria. It will use a generic GPU kernel as fallback when running on GPU.\n",
            "WARNING:tensorflow:Layer lstm will not use cuDNN kernels since it doesn't meet the criteria. It will use a generic GPU kernel as fallback when running on GPU.\n"
          ]
        },
        {
          "output_type": "stream",
          "name": "stdout",
          "text": [
            "Model: \"model\"\n",
            "_________________________________________________________________\n",
            " Layer (type)                Output Shape              Param #   \n",
            "=================================================================\n",
            " input_1 (InputLayer)        [(None, 762)]             0         \n",
            "                                                                 \n",
            " embedding (Embedding)       (None, 762, 100)          496200    \n",
            "                                                                 \n",
            " bidirectional (Bidirectiona  (None, 762, 100)         60400     \n",
            " l)                                                              \n",
            "                                                                 \n",
            " time_distributed (TimeDistr  (None, 762, 50)          5050      \n",
            " ibuted)                                                         \n",
            "                                                                 \n",
            " crf (CRF)                   ((None, 762),             220       \n",
            "                              (None, 762, 4),                    \n",
            "                              (None,),                           \n",
            "                              (4, 4))                            \n",
            "                                                                 \n",
            "=================================================================\n",
            "Total params: 561,870\n",
            "Trainable params: 65,670\n",
            "Non-trainable params: 496,200\n",
            "_________________________________________________________________\n"
          ]
        }
      ]
    },
    {
      "cell_type": "code",
      "source": [
        "from keras.callbacks import ModelCheckpoint\n",
        "import matplotlib.pyplot as plt\n",
        "\n",
        "#Optimiser \n",
        "# adam = tf.keras.optimizers.Adam(learning_rate=0.001, beta_1=0.9, beta_2=0.999)\n",
        "\n",
        "# Compile model\n",
        "# model.compile(optimizer='adam')\n",
        "model.compile(optimizer=\"rmsprop\")\n",
        "\n",
        "# Saving the best model only\n",
        "filepath=\"ner-bi-LSTM-tf2crf-glove-model-ds-{accuracy:.2f}.tf\"\n",
        "checkpoint = ModelCheckpoint(filepath, monitor='accuracy', verbose=1, save_best_only=True, mode='max')\n",
        "callbacks_list = [checkpoint]\n",
        "\n",
        "history = model.fit(X_train, np.array(y_train), validation_data = (X_val, np.array(y_val)), batch_size=32, epochs=15, verbose=1, callbacks=callbacks_list)"
      ],
      "metadata": {
        "colab": {
          "base_uri": "https://localhost:8080/"
        },
        "id": "bQrI16lHIU77",
        "outputId": "ddabadc2-2822-41c8-f1c4-fc0ac04c0e8c"
      },
      "execution_count": null,
      "outputs": [
        {
          "output_type": "stream",
          "name": "stdout",
          "text": [
            "Epoch 1/15\n",
            "13/13 [==============================] - ETA: 0s - loss: 475.4155 - accuracy: 0.8176\n",
            "Epoch 1: accuracy improved from -inf to 0.81758, saving model to ner-bi-LSTM-tf2crf-model-ds-0.82.tf\n"
          ]
        },
        {
          "output_type": "stream",
          "name": "stderr",
          "text": [
            "WARNING:tensorflow:Model's `__init__()` arguments contain non-serializable objects. Please implement a `get_config()` method in the subclassed Model for proper saving and loading. Defaulting to empty config.\n",
            "WARNING:tensorflow:Model's `__init__()` arguments contain non-serializable objects. Please implement a `get_config()` method in the subclassed Model for proper saving and loading. Defaulting to empty config.\n",
            "WARNING:absl:Found untraced functions such as dense_1_layer_call_fn, dense_1_layer_call_and_return_conditional_losses while saving (showing 2 of 2). These functions will not be directly callable after loading.\n",
            "WARNING:tensorflow:Model's `__init__()` arguments contain non-serializable objects. Please implement a `get_config()` method in the subclassed Model for proper saving and loading. Defaulting to empty config.\n",
            "WARNING:tensorflow:Model's `__init__()` arguments contain non-serializable objects. Please implement a `get_config()` method in the subclassed Model for proper saving and loading. Defaulting to empty config.\n"
          ]
        },
        {
          "output_type": "stream",
          "name": "stdout",
          "text": [
            "\b\b\b\b\b\b\b\b\b\b\b\b\b\b\b\b\b\b\b\b\b\b\b\b\b\b\b\b\b\b\b\b\b\b\b\b\b\b\b\b\b\b\b\b\b\b\b\b\b\b\b\b\b\b\b\b\b\b\b\b\b\b\b\b\b\b\b\b\b\b\b\b\b\b\b\b\b\b\b\b\b\b\b\b\r13/13 [==============================] - 152s 11s/step - loss: 475.4155 - accuracy: 0.8176 - val_loss_val: 80.0768 - val_val_accuracy: 0.9945\n",
            "Epoch 2/15\n",
            "13/13 [==============================] - ETA: 0s - loss: 41.6886 - accuracy: 0.9963\n",
            "Epoch 2: accuracy improved from 0.81758 to 0.99634, saving model to ner-bi-LSTM-tf2crf-model-ds-1.00.tf\n"
          ]
        },
        {
          "output_type": "stream",
          "name": "stderr",
          "text": [
            "WARNING:tensorflow:Model's `__init__()` arguments contain non-serializable objects. Please implement a `get_config()` method in the subclassed Model for proper saving and loading. Defaulting to empty config.\n",
            "WARNING:tensorflow:Model's `__init__()` arguments contain non-serializable objects. Please implement a `get_config()` method in the subclassed Model for proper saving and loading. Defaulting to empty config.\n",
            "WARNING:absl:Found untraced functions such as dense_1_layer_call_fn, dense_1_layer_call_and_return_conditional_losses while saving (showing 2 of 2). These functions will not be directly callable after loading.\n",
            "WARNING:tensorflow:Model's `__init__()` arguments contain non-serializable objects. Please implement a `get_config()` method in the subclassed Model for proper saving and loading. Defaulting to empty config.\n",
            "WARNING:tensorflow:Model's `__init__()` arguments contain non-serializable objects. Please implement a `get_config()` method in the subclassed Model for proper saving and loading. Defaulting to empty config.\n"
          ]
        },
        {
          "output_type": "stream",
          "name": "stdout",
          "text": [
            "\b\b\b\b\b\b\b\b\b\b\b\b\b\b\b\b\b\b\b\b\b\b\b\b\b\b\b\b\b\b\b\b\b\b\b\b\b\b\b\b\b\b\b\b\b\b\b\b\b\b\b\b\b\b\b\b\b\b\b\b\b\b\b\b\b\b\b\b\b\b\b\b\b\b\b\b\b\b\b\b\b\b\b\r13/13 [==============================] - 136s 11s/step - loss: 41.6886 - accuracy: 0.9963 - val_loss_val: 24.5689 - val_val_accuracy: 0.9962\n",
            "Epoch 3/15\n",
            "13/13 [==============================] - ETA: 0s - loss: 20.0033 - accuracy: 0.9971\n",
            "Epoch 3: accuracy improved from 0.99634 to 0.99706, saving model to ner-bi-LSTM-tf2crf-model-ds-1.00.tf\n"
          ]
        },
        {
          "output_type": "stream",
          "name": "stderr",
          "text": [
            "WARNING:tensorflow:Model's `__init__()` arguments contain non-serializable objects. Please implement a `get_config()` method in the subclassed Model for proper saving and loading. Defaulting to empty config.\n",
            "WARNING:tensorflow:Model's `__init__()` arguments contain non-serializable objects. Please implement a `get_config()` method in the subclassed Model for proper saving and loading. Defaulting to empty config.\n",
            "WARNING:absl:Found untraced functions such as dense_1_layer_call_fn, dense_1_layer_call_and_return_conditional_losses while saving (showing 2 of 2). These functions will not be directly callable after loading.\n",
            "WARNING:tensorflow:Model's `__init__()` arguments contain non-serializable objects. Please implement a `get_config()` method in the subclassed Model for proper saving and loading. Defaulting to empty config.\n",
            "WARNING:tensorflow:Model's `__init__()` arguments contain non-serializable objects. Please implement a `get_config()` method in the subclassed Model for proper saving and loading. Defaulting to empty config.\n"
          ]
        },
        {
          "output_type": "stream",
          "name": "stdout",
          "text": [
            "\b\b\b\b\b\b\b\b\b\b\b\b\b\b\b\b\b\b\b\b\b\b\b\b\b\b\b\b\b\b\b\b\b\b\b\b\b\b\b\b\b\b\b\b\b\b\b\b\b\b\b\b\b\b\b\b\b\b\b\b\b\b\b\b\b\b\b\b\b\b\b\b\b\b\b\b\b\b\b\b\b\b\b\r13/13 [==============================] - 135s 11s/step - loss: 20.0033 - accuracy: 0.9971 - val_loss_val: 16.2216 - val_val_accuracy: 0.9966\n",
            "Epoch 4/15\n",
            "13/13 [==============================] - ETA: 0s - loss: 13.3115 - accuracy: 0.9973\n",
            "Epoch 4: accuracy improved from 0.99706 to 0.99734, saving model to ner-bi-LSTM-tf2crf-model-ds-1.00.tf\n"
          ]
        },
        {
          "output_type": "stream",
          "name": "stderr",
          "text": [
            "WARNING:tensorflow:Model's `__init__()` arguments contain non-serializable objects. Please implement a `get_config()` method in the subclassed Model for proper saving and loading. Defaulting to empty config.\n",
            "WARNING:tensorflow:Model's `__init__()` arguments contain non-serializable objects. Please implement a `get_config()` method in the subclassed Model for proper saving and loading. Defaulting to empty config.\n",
            "WARNING:absl:Found untraced functions such as dense_1_layer_call_fn, dense_1_layer_call_and_return_conditional_losses while saving (showing 2 of 2). These functions will not be directly callable after loading.\n",
            "WARNING:tensorflow:Model's `__init__()` arguments contain non-serializable objects. Please implement a `get_config()` method in the subclassed Model for proper saving and loading. Defaulting to empty config.\n",
            "WARNING:tensorflow:Model's `__init__()` arguments contain non-serializable objects. Please implement a `get_config()` method in the subclassed Model for proper saving and loading. Defaulting to empty config.\n"
          ]
        },
        {
          "output_type": "stream",
          "name": "stdout",
          "text": [
            "\b\b\b\b\b\b\b\b\b\b\b\b\b\b\b\b\b\b\b\b\b\b\b\b\b\b\b\b\b\b\b\b\b\b\b\b\b\b\b\b\b\b\b\b\b\b\b\b\b\b\b\b\b\b\b\b\b\b\b\b\b\b\b\b\b\b\b\b\b\b\b\b\b\b\b\b\b\b\b\b\b\b\b\r13/13 [==============================] - 136s 11s/step - loss: 13.3115 - accuracy: 0.9973 - val_loss_val: 13.6083 - val_val_accuracy: 0.9967\n",
            "Epoch 5/15\n",
            "13/13 [==============================] - ETA: 0s - loss: 11.3371 - accuracy: 0.9975\n",
            "Epoch 5: accuracy improved from 0.99734 to 0.99748, saving model to ner-bi-LSTM-tf2crf-model-ds-1.00.tf\n"
          ]
        },
        {
          "output_type": "stream",
          "name": "stderr",
          "text": [
            "WARNING:tensorflow:Model's `__init__()` arguments contain non-serializable objects. Please implement a `get_config()` method in the subclassed Model for proper saving and loading. Defaulting to empty config.\n",
            "WARNING:tensorflow:Model's `__init__()` arguments contain non-serializable objects. Please implement a `get_config()` method in the subclassed Model for proper saving and loading. Defaulting to empty config.\n",
            "WARNING:absl:Found untraced functions such as dense_1_layer_call_fn, dense_1_layer_call_and_return_conditional_losses while saving (showing 2 of 2). These functions will not be directly callable after loading.\n",
            "WARNING:tensorflow:Model's `__init__()` arguments contain non-serializable objects. Please implement a `get_config()` method in the subclassed Model for proper saving and loading. Defaulting to empty config.\n",
            "WARNING:tensorflow:Model's `__init__()` arguments contain non-serializable objects. Please implement a `get_config()` method in the subclassed Model for proper saving and loading. Defaulting to empty config.\n"
          ]
        },
        {
          "output_type": "stream",
          "name": "stdout",
          "text": [
            "\b\b\b\b\b\b\b\b\b\b\b\b\b\b\b\b\b\b\b\b\b\b\b\b\b\b\b\b\b\b\b\b\b\b\b\b\b\b\b\b\b\b\b\b\b\b\b\b\b\b\b\b\b\b\b\b\b\b\b\b\b\b\b\b\b\b\b\b\b\b\b\b\b\b\b\b\b\b\b\b\b\b\b\r13/13 [==============================] - 136s 11s/step - loss: 11.3371 - accuracy: 0.9975 - val_loss_val: 10.9632 - val_val_accuracy: 0.9968\n",
            "Epoch 6/15\n",
            "13/13 [==============================] - ETA: 0s - loss: 9.6572 - accuracy: 0.9975\n",
            "Epoch 6: accuracy improved from 0.99748 to 0.99754, saving model to ner-bi-LSTM-tf2crf-model-ds-1.00.tf\n"
          ]
        },
        {
          "output_type": "stream",
          "name": "stderr",
          "text": [
            "WARNING:tensorflow:Model's `__init__()` arguments contain non-serializable objects. Please implement a `get_config()` method in the subclassed Model for proper saving and loading. Defaulting to empty config.\n",
            "WARNING:tensorflow:Model's `__init__()` arguments contain non-serializable objects. Please implement a `get_config()` method in the subclassed Model for proper saving and loading. Defaulting to empty config.\n",
            "WARNING:absl:Found untraced functions such as dense_1_layer_call_fn, dense_1_layer_call_and_return_conditional_losses while saving (showing 2 of 2). These functions will not be directly callable after loading.\n",
            "WARNING:tensorflow:Model's `__init__()` arguments contain non-serializable objects. Please implement a `get_config()` method in the subclassed Model for proper saving and loading. Defaulting to empty config.\n",
            "WARNING:tensorflow:Model's `__init__()` arguments contain non-serializable objects. Please implement a `get_config()` method in the subclassed Model for proper saving and loading. Defaulting to empty config.\n"
          ]
        },
        {
          "output_type": "stream",
          "name": "stdout",
          "text": [
            "\b\b\b\b\b\b\b\b\b\b\b\b\b\b\b\b\b\b\b\b\b\b\b\b\b\b\b\b\b\b\b\b\b\b\b\b\b\b\b\b\b\b\b\b\b\b\b\b\b\b\b\b\b\b\b\b\b\b\b\b\b\b\b\b\b\b\b\b\b\b\b\b\b\b\b\b\b\b\b\b\b\b\r13/13 [==============================] - 136s 11s/step - loss: 9.6572 - accuracy: 0.9975 - val_loss_val: 9.1885 - val_val_accuracy: 0.9968\n",
            "Epoch 7/15\n",
            "13/13 [==============================] - ETA: 0s - loss: 8.5246 - accuracy: 0.9976\n",
            "Epoch 7: accuracy improved from 0.99754 to 0.99758, saving model to ner-bi-LSTM-tf2crf-model-ds-1.00.tf\n"
          ]
        },
        {
          "output_type": "stream",
          "name": "stderr",
          "text": [
            "WARNING:tensorflow:Model's `__init__()` arguments contain non-serializable objects. Please implement a `get_config()` method in the subclassed Model for proper saving and loading. Defaulting to empty config.\n",
            "WARNING:tensorflow:Model's `__init__()` arguments contain non-serializable objects. Please implement a `get_config()` method in the subclassed Model for proper saving and loading. Defaulting to empty config.\n",
            "WARNING:absl:Found untraced functions such as dense_1_layer_call_fn, dense_1_layer_call_and_return_conditional_losses while saving (showing 2 of 2). These functions will not be directly callable after loading.\n",
            "WARNING:tensorflow:Model's `__init__()` arguments contain non-serializable objects. Please implement a `get_config()` method in the subclassed Model for proper saving and loading. Defaulting to empty config.\n",
            "WARNING:tensorflow:Model's `__init__()` arguments contain non-serializable objects. Please implement a `get_config()` method in the subclassed Model for proper saving and loading. Defaulting to empty config.\n"
          ]
        },
        {
          "output_type": "stream",
          "name": "stdout",
          "text": [
            "\b\b\b\b\b\b\b\b\b\b\b\b\b\b\b\b\b\b\b\b\b\b\b\b\b\b\b\b\b\b\b\b\b\b\b\b\b\b\b\b\b\b\b\b\b\b\b\b\b\b\b\b\b\b\b\b\b\b\b\b\b\b\b\b\b\b\b\b\b\b\b\b\b\b\b\b\b\b\b\b\b\b\r13/13 [==============================] - 134s 10s/step - loss: 8.5246 - accuracy: 0.9976 - val_loss_val: 7.4043 - val_val_accuracy: 0.9969\n",
            "Epoch 8/15\n",
            "13/13 [==============================] - ETA: 0s - loss: 7.0022 - accuracy: 0.9976\n",
            "Epoch 8: accuracy improved from 0.99758 to 0.99762, saving model to ner-bi-LSTM-tf2crf-model-ds-1.00.tf\n"
          ]
        },
        {
          "output_type": "stream",
          "name": "stderr",
          "text": [
            "WARNING:tensorflow:Model's `__init__()` arguments contain non-serializable objects. Please implement a `get_config()` method in the subclassed Model for proper saving and loading. Defaulting to empty config.\n",
            "WARNING:tensorflow:Model's `__init__()` arguments contain non-serializable objects. Please implement a `get_config()` method in the subclassed Model for proper saving and loading. Defaulting to empty config.\n",
            "WARNING:absl:Found untraced functions such as dense_1_layer_call_fn, dense_1_layer_call_and_return_conditional_losses while saving (showing 2 of 2). These functions will not be directly callable after loading.\n",
            "WARNING:tensorflow:Model's `__init__()` arguments contain non-serializable objects. Please implement a `get_config()` method in the subclassed Model for proper saving and loading. Defaulting to empty config.\n",
            "WARNING:tensorflow:Model's `__init__()` arguments contain non-serializable objects. Please implement a `get_config()` method in the subclassed Model for proper saving and loading. Defaulting to empty config.\n"
          ]
        },
        {
          "output_type": "stream",
          "name": "stdout",
          "text": [
            "\b\b\b\b\b\b\b\b\b\b\b\b\b\b\b\b\b\b\b\b\b\b\b\b\b\b\b\b\b\b\b\b\b\b\b\b\b\b\b\b\b\b\b\b\b\b\b\b\b\b\b\b\b\b\b\b\b\b\b\b\b\b\b\b\b\b\b\b\b\b\b\b\b\b\b\b\b\b\b\b\b\b\r13/13 [==============================] - 134s 10s/step - loss: 7.0022 - accuracy: 0.9976 - val_loss_val: 6.3063 - val_val_accuracy: 0.9969\n",
            "Epoch 9/15\n",
            "13/13 [==============================] - ETA: 0s - loss: 6.1168 - accuracy: 0.9977\n",
            "Epoch 9: accuracy improved from 0.99762 to 0.99770, saving model to ner-bi-LSTM-tf2crf-model-ds-1.00.tf\n"
          ]
        },
        {
          "output_type": "stream",
          "name": "stderr",
          "text": [
            "WARNING:tensorflow:Model's `__init__()` arguments contain non-serializable objects. Please implement a `get_config()` method in the subclassed Model for proper saving and loading. Defaulting to empty config.\n",
            "WARNING:tensorflow:Model's `__init__()` arguments contain non-serializable objects. Please implement a `get_config()` method in the subclassed Model for proper saving and loading. Defaulting to empty config.\n",
            "WARNING:absl:Found untraced functions such as dense_1_layer_call_fn, dense_1_layer_call_and_return_conditional_losses while saving (showing 2 of 2). These functions will not be directly callable after loading.\n",
            "WARNING:tensorflow:Model's `__init__()` arguments contain non-serializable objects. Please implement a `get_config()` method in the subclassed Model for proper saving and loading. Defaulting to empty config.\n",
            "WARNING:tensorflow:Model's `__init__()` arguments contain non-serializable objects. Please implement a `get_config()` method in the subclassed Model for proper saving and loading. Defaulting to empty config.\n"
          ]
        },
        {
          "output_type": "stream",
          "name": "stdout",
          "text": [
            "\b\b\b\b\b\b\b\b\b\b\b\b\b\b\b\b\b\b\b\b\b\b\b\b\b\b\b\b\b\b\b\b\b\b\b\b\b\b\b\b\b\b\b\b\b\b\b\b\b\b\b\b\b\b\b\b\b\b\b\b\b\b\b\b\b\b\b\b\b\b\b\b\b\b\b\b\b\b\b\b\b\b\r13/13 [==============================] - 134s 11s/step - loss: 6.1168 - accuracy: 0.9977 - val_loss_val: 5.4979 - val_val_accuracy: 0.9972\n",
            "Epoch 10/15\n",
            "13/13 [==============================] - ETA: 0s - loss: 6.2565 - accuracy: 0.9978\n",
            "Epoch 10: accuracy improved from 0.99770 to 0.99779, saving model to ner-bi-LSTM-tf2crf-model-ds-1.00.tf\n"
          ]
        },
        {
          "output_type": "stream",
          "name": "stderr",
          "text": [
            "WARNING:tensorflow:Model's `__init__()` arguments contain non-serializable objects. Please implement a `get_config()` method in the subclassed Model for proper saving and loading. Defaulting to empty config.\n",
            "WARNING:tensorflow:Model's `__init__()` arguments contain non-serializable objects. Please implement a `get_config()` method in the subclassed Model for proper saving and loading. Defaulting to empty config.\n",
            "WARNING:absl:Found untraced functions such as dense_1_layer_call_fn, dense_1_layer_call_and_return_conditional_losses while saving (showing 2 of 2). These functions will not be directly callable after loading.\n",
            "WARNING:tensorflow:Model's `__init__()` arguments contain non-serializable objects. Please implement a `get_config()` method in the subclassed Model for proper saving and loading. Defaulting to empty config.\n",
            "WARNING:tensorflow:Model's `__init__()` arguments contain non-serializable objects. Please implement a `get_config()` method in the subclassed Model for proper saving and loading. Defaulting to empty config.\n"
          ]
        },
        {
          "output_type": "stream",
          "name": "stdout",
          "text": [
            "\b\b\b\b\b\b\b\b\b\b\b\b\b\b\b\b\b\b\b\b\b\b\b\b\b\b\b\b\b\b\b\b\b\b\b\b\b\b\b\b\b\b\b\b\b\b\b\b\b\b\b\b\b\b\b\b\b\b\b\b\b\b\b\b\b\b\b\b\b\b\b\b\b\b\b\b\b\b\b\b\b\b\r13/13 [==============================] - 135s 11s/step - loss: 6.2565 - accuracy: 0.9978 - val_loss_val: 5.1345 - val_val_accuracy: 0.9972\n",
            "Epoch 11/15\n",
            "13/13 [==============================] - ETA: 0s - loss: 5.5450 - accuracy: 0.9979\n",
            "Epoch 11: accuracy improved from 0.99779 to 0.99789, saving model to ner-bi-LSTM-tf2crf-model-ds-1.00.tf\n"
          ]
        },
        {
          "output_type": "stream",
          "name": "stderr",
          "text": [
            "WARNING:tensorflow:Model's `__init__()` arguments contain non-serializable objects. Please implement a `get_config()` method in the subclassed Model for proper saving and loading. Defaulting to empty config.\n",
            "WARNING:tensorflow:Model's `__init__()` arguments contain non-serializable objects. Please implement a `get_config()` method in the subclassed Model for proper saving and loading. Defaulting to empty config.\n",
            "WARNING:absl:Found untraced functions such as dense_1_layer_call_fn, dense_1_layer_call_and_return_conditional_losses while saving (showing 2 of 2). These functions will not be directly callable after loading.\n",
            "WARNING:tensorflow:Model's `__init__()` arguments contain non-serializable objects. Please implement a `get_config()` method in the subclassed Model for proper saving and loading. Defaulting to empty config.\n",
            "WARNING:tensorflow:Model's `__init__()` arguments contain non-serializable objects. Please implement a `get_config()` method in the subclassed Model for proper saving and loading. Defaulting to empty config.\n"
          ]
        },
        {
          "output_type": "stream",
          "name": "stdout",
          "text": [
            "\b\b\b\b\b\b\b\b\b\b\b\b\b\b\b\b\b\b\b\b\b\b\b\b\b\b\b\b\b\b\b\b\b\b\b\b\b\b\b\b\b\b\b\b\b\b\b\b\b\b\b\b\b\b\b\b\b\b\b\b\b\b\b\b\b\b\b\b\b\b\b\b\b\b\b\b\b\b\b\b\b\b\r13/13 [==============================] - 133s 10s/step - loss: 5.5450 - accuracy: 0.9979 - val_loss_val: 5.4676 - val_val_accuracy: 0.9981\n",
            "Epoch 12/15\n",
            "13/13 [==============================] - ETA: 0s - loss: 5.0335 - accuracy: 0.9980\n",
            "Epoch 12: accuracy improved from 0.99789 to 0.99800, saving model to ner-bi-LSTM-tf2crf-model-ds-1.00.tf\n"
          ]
        },
        {
          "output_type": "stream",
          "name": "stderr",
          "text": [
            "WARNING:tensorflow:Model's `__init__()` arguments contain non-serializable objects. Please implement a `get_config()` method in the subclassed Model for proper saving and loading. Defaulting to empty config.\n",
            "WARNING:tensorflow:Model's `__init__()` arguments contain non-serializable objects. Please implement a `get_config()` method in the subclassed Model for proper saving and loading. Defaulting to empty config.\n",
            "WARNING:absl:Found untraced functions such as dense_1_layer_call_fn, dense_1_layer_call_and_return_conditional_losses while saving (showing 2 of 2). These functions will not be directly callable after loading.\n",
            "WARNING:tensorflow:Model's `__init__()` arguments contain non-serializable objects. Please implement a `get_config()` method in the subclassed Model for proper saving and loading. Defaulting to empty config.\n",
            "WARNING:tensorflow:Model's `__init__()` arguments contain non-serializable objects. Please implement a `get_config()` method in the subclassed Model for proper saving and loading. Defaulting to empty config.\n"
          ]
        },
        {
          "output_type": "stream",
          "name": "stdout",
          "text": [
            "\b\b\b\b\b\b\b\b\b\b\b\b\b\b\b\b\b\b\b\b\b\b\b\b\b\b\b\b\b\b\b\b\b\b\b\b\b\b\b\b\b\b\b\b\b\b\b\b\b\b\b\b\b\b\b\b\b\b\b\b\b\b\b\b\b\b\b\b\b\b\b\b\b\b\b\b\b\b\b\b\b\b\r13/13 [==============================] - 134s 10s/step - loss: 5.0335 - accuracy: 0.9980 - val_loss_val: 4.4104 - val_val_accuracy: 0.9983\n",
            "Epoch 13/15\n",
            "13/13 [==============================] - ETA: 0s - loss: 4.8130 - accuracy: 0.9982\n",
            "Epoch 13: accuracy improved from 0.99800 to 0.99819, saving model to ner-bi-LSTM-tf2crf-model-ds-1.00.tf\n"
          ]
        },
        {
          "output_type": "stream",
          "name": "stderr",
          "text": [
            "WARNING:tensorflow:Model's `__init__()` arguments contain non-serializable objects. Please implement a `get_config()` method in the subclassed Model for proper saving and loading. Defaulting to empty config.\n",
            "WARNING:tensorflow:Model's `__init__()` arguments contain non-serializable objects. Please implement a `get_config()` method in the subclassed Model for proper saving and loading. Defaulting to empty config.\n",
            "WARNING:absl:Found untraced functions such as dense_1_layer_call_fn, dense_1_layer_call_and_return_conditional_losses while saving (showing 2 of 2). These functions will not be directly callable after loading.\n",
            "WARNING:tensorflow:Model's `__init__()` arguments contain non-serializable objects. Please implement a `get_config()` method in the subclassed Model for proper saving and loading. Defaulting to empty config.\n",
            "WARNING:tensorflow:Model's `__init__()` arguments contain non-serializable objects. Please implement a `get_config()` method in the subclassed Model for proper saving and loading. Defaulting to empty config.\n"
          ]
        },
        {
          "output_type": "stream",
          "name": "stdout",
          "text": [
            "\b\b\b\b\b\b\b\b\b\b\b\b\b\b\b\b\b\b\b\b\b\b\b\b\b\b\b\b\b\b\b\b\b\b\b\b\b\b\b\b\b\b\b\b\b\b\b\b\b\b\b\b\b\b\b\b\b\b\b\b\b\b\b\b\b\b\b\b\b\b\b\b\b\b\b\b\b\b\b\b\b\b\r13/13 [==============================] - 135s 10s/step - loss: 4.8130 - accuracy: 0.9982 - val_loss_val: 6.9107 - val_val_accuracy: 0.9975\n",
            "Epoch 14/15\n",
            "13/13 [==============================] - ETA: 0s - loss: 4.6721 - accuracy: 0.9982\n",
            "Epoch 14: accuracy improved from 0.99819 to 0.99820, saving model to ner-bi-LSTM-tf2crf-model-ds-1.00.tf\n"
          ]
        },
        {
          "output_type": "stream",
          "name": "stderr",
          "text": [
            "WARNING:tensorflow:Model's `__init__()` arguments contain non-serializable objects. Please implement a `get_config()` method in the subclassed Model for proper saving and loading. Defaulting to empty config.\n",
            "WARNING:tensorflow:Model's `__init__()` arguments contain non-serializable objects. Please implement a `get_config()` method in the subclassed Model for proper saving and loading. Defaulting to empty config.\n",
            "WARNING:absl:Found untraced functions such as dense_1_layer_call_fn, dense_1_layer_call_and_return_conditional_losses while saving (showing 2 of 2). These functions will not be directly callable after loading.\n",
            "WARNING:tensorflow:Model's `__init__()` arguments contain non-serializable objects. Please implement a `get_config()` method in the subclassed Model for proper saving and loading. Defaulting to empty config.\n",
            "WARNING:tensorflow:Model's `__init__()` arguments contain non-serializable objects. Please implement a `get_config()` method in the subclassed Model for proper saving and loading. Defaulting to empty config.\n"
          ]
        },
        {
          "output_type": "stream",
          "name": "stdout",
          "text": [
            "\b\b\b\b\b\b\b\b\b\b\b\b\b\b\b\b\b\b\b\b\b\b\b\b\b\b\b\b\b\b\b\b\b\b\b\b\b\b\b\b\b\b\b\b\b\b\b\b\b\b\b\b\b\b\b\b\b\b\b\b\b\b\b\b\b\b\b\b\b\b\b\b\b\b\b\b\b\b\b\b\b\b\r13/13 [==============================] - 134s 10s/step - loss: 4.6721 - accuracy: 0.9982 - val_loss_val: 3.9916 - val_val_accuracy: 0.9983\n",
            "Epoch 15/15\n",
            "13/13 [==============================] - ETA: 0s - loss: 4.9381 - accuracy: 0.9982\n",
            "Epoch 15: accuracy improved from 0.99820 to 0.99820, saving model to ner-bi-LSTM-tf2crf-model-ds-1.00.tf\n"
          ]
        },
        {
          "output_type": "stream",
          "name": "stderr",
          "text": [
            "WARNING:tensorflow:Model's `__init__()` arguments contain non-serializable objects. Please implement a `get_config()` method in the subclassed Model for proper saving and loading. Defaulting to empty config.\n",
            "WARNING:tensorflow:Model's `__init__()` arguments contain non-serializable objects. Please implement a `get_config()` method in the subclassed Model for proper saving and loading. Defaulting to empty config.\n",
            "WARNING:absl:Found untraced functions such as dense_1_layer_call_fn, dense_1_layer_call_and_return_conditional_losses while saving (showing 2 of 2). These functions will not be directly callable after loading.\n",
            "WARNING:tensorflow:Model's `__init__()` arguments contain non-serializable objects. Please implement a `get_config()` method in the subclassed Model for proper saving and loading. Defaulting to empty config.\n",
            "WARNING:tensorflow:Model's `__init__()` arguments contain non-serializable objects. Please implement a `get_config()` method in the subclassed Model for proper saving and loading. Defaulting to empty config.\n"
          ]
        },
        {
          "output_type": "stream",
          "name": "stdout",
          "text": [
            "\b\b\b\b\b\b\b\b\b\b\b\b\b\b\b\b\b\b\b\b\b\b\b\b\b\b\b\b\b\b\b\b\b\b\b\b\b\b\b\b\b\b\b\b\b\b\b\b\b\b\b\b\b\b\b\b\b\b\b\b\b\b\b\b\b\b\b\b\b\b\b\b\b\b\b\b\b\b\b\b\b\b\r13/13 [==============================] - 133s 10s/step - loss: 4.9381 - accuracy: 0.9982 - val_loss_val: 4.1900 - val_val_accuracy: 0.9987\n"
          ]
        }
      ]
    },
    {
      "cell_type": "code",
      "source": [
        "# Plot training & validation accuracy values\n",
        "plt.plot(history.history['accuracy'])\n",
        "plt.plot(history.history['val_val_accuracy'])\n",
        "plt.title('Model accuracy')\n",
        "plt.ylabel('Accuracy')\n",
        "plt.xlabel('Epoch')\n",
        "plt.legend(['Train', 'Test'])\n",
        "plt.show()\n",
        "\n",
        "# Plot training & validation loss values\n",
        "plt.plot(history.history['loss'])\n",
        "plt.plot(history.history['val_loss_val'])\n",
        "plt.title('Model loss')\n",
        "plt.ylabel('Loss')\n",
        "plt.xlabel('Epoch')\n",
        "plt.legend(['Train', 'Test'], loc='upper left')\n",
        "plt.show()"
      ],
      "metadata": {
        "colab": {
          "base_uri": "https://localhost:8080/",
          "height": 927
        },
        "id": "c6y7Bsa6RRf6",
        "outputId": "971a5eb8-f0e6-463c-e52f-579ea50086ed"
      },
      "execution_count": null,
      "outputs": [
        {
          "output_type": "display_data",
          "data": {
            "text/plain": [
              "<Figure size 640x480 with 1 Axes>"
            ],
            "image/png": "[encoded data removed]"
          },
          "metadata": {}
        },
        {
          "output_type": "display_data",
          "data": {
            "text/plain": [
              "<Figure size 640x480 with 1 Axes>"
            ],
            "image/png": "[encoded data removed]"
          },
          "metadata": {}
        }
      ]
    },
    {
      "cell_type": "code",
      "source": [
        "# Prediction on test data\n",
        "pred_cat = model.predict(X_test, verbose=1)\n",
        "y_te_true = np.argmax(y_test, -1)"
      ],
      "metadata": {
        "id": "4cwW79t-RbSQ",
        "colab": {
          "base_uri": "https://localhost:8080/"
        },
        "outputId": "4cfdf9b6-ebe5-412c-9097-fdb46f756fdd"
      },
      "execution_count": null,
      "outputs": [
        {
          "output_type": "stream",
          "name": "stdout",
          "text": [
            "4/4 [==============================] - 4s 848ms/step\n"
          ]
        }
      ]
    },
    {
      "cell_type": "code",
      "source": [
        "#New classification report\n",
        "from sklearn_crfsuite.utils import flatten\n",
        "from functools import wraps\n",
        "\n",
        "\n",
        "def _flattens_y(func):\n",
        "    @wraps(func)\n",
        "    def wrapper(y_true, y_pred, *args, **kwargs):\n",
        "        y_true_flat = flatten(y_true)\n",
        "        y_pred_flat = flatten(y_pred)\n",
        "        return func(y_true_flat, y_pred_flat, *args, **kwargs)\n",
        "    return wrapper\n",
        "\n",
        "\n",
        "@_flattens_y\n",
        "def flat_classification_report(y_true, y_pred, labels=None, target_names=None, **kwargs):\n",
        "    \"\"\"\n",
        "    Return classification report for sequence items.\n",
        "    \"\"\"\n",
        "    from sklearn import metrics\n",
        "    return metrics.classification_report(y_true, y_pred, labels=labels, target_names=target_names, **kwargs)"
      ],
      "metadata": {
        "id": "Uxrc-aN7drwr"
      },
      "execution_count": null,
      "outputs": []
    },
    {
      "cell_type": "code",
      "source": [
        "#Flat Classification report\n",
        "report = flat_classification_report(y_te_true, pred_cat) #imbalance data, test data doesnot have all the classes\n",
        "report_edited = report.replace(\" 0 \", \" \"+idx2tag[0]+\" \").replace(\" 1 \", \" \"+idx2tag[1]+\"   \").replace(\" 2 \", \" \"+idx2tag[2]+\"\").replace(\" 3 \", \" \"+idx2tag[3]+\"  \")\n",
        "print(report_edited)"
      ],
      "metadata": {
        "colab": {
          "base_uri": "https://localhost:8080/"
        },
        "id": "O56F3ORC1ee3",
        "outputId": "dcf88646-97fd-4a9a-c584-0eaf501e31b3"
      },
      "execution_count": null,
      "outputs": [
        {
          "output_type": "stream",
          "name": "stdout",
          "text": [
            "              precision    recall  f1-score   support\n",
            "\n",
            "           PAD       1.00      1.00      1.00     67429\n",
            "           B-Pin      0.55      0.66      0.60       197\n",
            "           O        1.00      0.99      0.99     15432\n",
            "\n",
            "    accuracy                           1.00     83058\n",
            "   macro avg       0.85      0.89      0.87     83058\n",
            "weighted avg       1.00      1.00      1.00     83058\n",
            "\n"
          ]
        }
      ]
    },
    {
      "cell_type": "code",
      "source": [
        "i = np.random.randint(0,X_test.shape[0]) # choose a random number between 0 and len(X_te)\n",
        "p = model.predict(np.array([X_test[i]]))\n",
        "true = np.argmax(y_test[i], -1)\n",
        "\n",
        "print(\"Sample number {} of {} (Test Set)\".format(i, X_test.shape[0]))\n",
        "# Visualization\n",
        "print(\"{:15}||{:5}||{}\".format(\"Word\", \"True\", \"Pred\"))\n",
        "print(30 * \"=\")\n",
        "for w, t, pred in zip(X_test[i], true, p[0]):\n",
        "    if w != 0:\n",
        "        print(\"{:15}: {:5} {}\".format(words[w-2], idx2tag[t], idx2tag[pred]))"
      ],
      "metadata": {
        "colab": {
          "base_uri": "https://localhost:8080/"
        },
        "id": "TrzNAeODRcep",
        "outputId": "e364d6bb-b419-40fc-8ca0-c50dbe98cc61"
      },
      "execution_count": null,
      "outputs": [
        {
          "output_type": "stream",
          "name": "stdout",
          "text": [
            "1/1 [==============================] - 2s 2s/step\n",
            "Sample number 37 of 109 (Test Set)\n",
            "Word           ||True ||Pred\n",
            "==============================\n",
            "0x400          : O     O\n",
            "(PWROFF_HT)).  : O     O\n",
            "advantage      : O     O\n",
            "(defined       : O     O\n",
            "clean,         : O     O\n",
            "Edge           : O     O\n",
            "LIN),          : O     O\n",
            "power-up.      : O     O\n",
            "locally        : O     O\n",
            "ignored        : O     O\n",
            "Head           : O     O\n",
            "0x400          : O     O\n",
            "integrate      : O     O\n",
            "operation.     : O     O\n",
            "(SR.SV         : O     O\n",
            "Edge           : O     O\n",
            "suitable       : O     O\n",
            "video          : O     O\n",
            "01             : O     O\n",
            "constrained    : O     O\n",
            "kbytes         : O     O\n",
            "Appendix       : O     O\n",
            "Head           : O     O\n",
            "effect         : O     O\n",
            "Evaluation     : O     O\n",
            "0x400          : O     O\n",
            "telephone      : O     O\n",
            "eam            : O     O\n",
            "pre-programmed : O     O\n",
            "(edge          : O     O\n",
            "browser        : O     O\n",
            "Blocks,        : O     O\n",
            "1-1.           : O     O\n",
            "(defined       : O     O\n",
            "(SR.SV         : O     O\n",
            "Get            : O     O\n",
            "MSMM.          : O     O\n",
            "pulses         : O     O\n",
            "(SR.SV         : O     O\n",
            "-4             : O     O\n",
            "(RTC).         : O     O\n",
            "(defined       : O     O\n",
            "bus).          : O     O\n",
            "EWU            : O     O\n",
            "0x400          : O     O\n",
            "With           : O     O\n",
            "advantage      : O     O\n",
            "filtered,      : O     O\n",
            "capacitance    : O     O\n",
            "(defined       : O     O\n",
            "twack          : O     O\n",
            "nous           : O     O\n",
            "Sappor         : O     O\n",
            "advantage      : O     O\n",
            "CONFIG         : O     O\n",
            "stopping       : O     O\n",
            "video          : O     O\n",
            "With           : O     O\n",
            "advantage      : O     O\n",
            "PWROFF)        : O     O\n",
            "kQ).           : O     O\n",
            "(Flash).       : O     O\n",
            "startup;       : O     O\n",
            "0x400          : O     O\n",
            "offset         : O     O\n",
            "Teale          : O     O\n",
            "power-up.      : O     O\n",
            "0x400          : O     O\n",
            "twack          : O     O\n",
            "nous           : O     O\n",
            "s40.00.0C.05.04.00.01.01.00.00.30.00.02.01.41p: O     O\n",
            "With           : O     O\n",
            "off            : O     O\n",
            "42             : O     O\n",
            "|SRf|,         : O     O\n",
            "0x400          : O     O\n",
            "SMSC           : O     O\n",
            "EWU            : O     O\n",
            "0x400          : O     O\n",
            "Edge           : O     O\n",
            "pA)            : O     O\n",
            "0x400          : O     O\n",
            "0x400          : O     O\n",
            "telephone      : O     O\n",
            "FBLOCK_AMP.    : O     O\n",
            "0x400          : O     O\n",
            "telephone      : O     O\n",
            "activity)      : O     O\n",
            "static         : O     O\n",
            "call,          : O     O\n",
            "(SR.SV         : O     O\n",
            "Get            : O     O\n",
            "Bus            : O     O\n",
            "EWU            : O     O\n",
            "0x400          : O     O\n",
            "telephone      : O     O\n",
            "activity)      : O     O\n",
            "10b)           : O     O\n",
            ",              : O     O\n",
            "0x400          : O     O\n",
            "(Shown         : O     O\n",
            "42             : O     O\n",
            "so             : O     O\n",
            "0x400          : O     O\n",
            "telephone      : O     O\n",
            "FBlockID,      : O     O\n",
            "(defined       : O     O\n",
            "(SR.SV         : O     O\n",
            "repair         : O     O\n",
            "One-Time-Programmable: O     O\n",
            "reported       : O     O\n",
            "Blocks,        : O     O\n",
            "0x400          : O     O\n",
            "enabled;       : O     O\n",
            "EWU            : O     O\n",
            "0x400          : O     O\n",
            "(SR.SV         : O     O\n",
            "10.2.15        : O     O\n",
            "0000           : O     O\n",
            "Access'        : O     O\n",
            "42             : O     O\n",
            "0x400          : O     O\n",
            "stopping       : O     O\n",
            "0x400          : O     O\n",
            "(Shown         : O     O\n",
            "advantage      : O     O\n",
            "(defined       : O     O\n",
            "LIN),          : O     O\n",
            "advantage      : O     O\n",
            "WHETHER        : O     O\n",
            "Head           : O     O\n",
            "1.512          : O     O\n",
            "suitable       : O     O\n",
            "-5             : O     PAD\n",
            "advantage      : O     PAD\n",
            "retries.       : O     PAD\n",
            "previous       : O     PAD\n",
            "(defined       : O     PAD\n",
            "(J200)         : O     PAD\n",
            "Nected         : O     PAD\n",
            "static         : O     PAD\n",
            "(SR.LV         : O     PAD\n",
            "0x400          : O     PAD\n",
            "(Shown         : O     PAD\n",
            "Blocks,        : O     PAD\n",
            "solution.      : O     PAD\n",
            "telephone      : O     PAD\n",
            "(RTC).         : O     PAD\n",
            "0x400          : O     PAD\n",
            "Implementing   : O     PAD\n",
            "(RW)           : O     PAD\n",
            "LSR.RESET      : O     PAD\n",
            "configured     : O     PAD\n",
            "(edge          : O     PAD\n",
            "(RTC).         : O     PAD\n",
            "0x400          : O     PAD\n"
          ]
        }
      ]
    }
  ]
}