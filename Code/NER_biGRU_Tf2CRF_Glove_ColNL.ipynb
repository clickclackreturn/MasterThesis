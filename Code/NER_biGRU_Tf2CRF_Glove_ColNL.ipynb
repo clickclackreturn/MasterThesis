{
  "nbformat": 4,
  "nbformat_minor": 0,
  "metadata": {
    "colab": {
      "provenance": []
    },
    "kernelspec": {
      "name": "python3",
      "display_name": "Python 3"
    },
    "language_info": {
      "name": "python"
    },
    "accelerator": "GPU",
    "gpuClass": "standard"
  },
  "cells": [
    {
      "cell_type": "markdown",
      "source": [
        "Inspired By:\\\n",
        "https://github.com/JRC1995/Bi-GRU-CRF-NER\n",
        "\n",
        "https://www.kaggle.com/code/samarthsarin/keras-gru-with-glove-embedding/notebook"
      ],
      "metadata": {
        "id": "dQQC7Hj_iFnc"
      }
    },
    {
      "cell_type": "code",
      "source": [
        "from google.colab import drive\n",
        "drive.mount('/content/drive')"
      ],
      "metadata": {
        "id": "bzyu3ANcpTwG",
        "colab": {
          "base_uri": "https://localhost:8080/"
        },
        "outputId": "757f48ce-37c8-48a3-ec63-578018513ab4"
      },
      "execution_count": null,
      "outputs": [
        {
          "output_type": "stream",
          "name": "stdout",
          "text": [
            "Mounted at /content/drive\n"
          ]
        }
      ]
    },
    {
      "cell_type": "code",
      "source": [
        "!pip install tf2crf"
      ],
      "metadata": {
        "id": "3OY8Cg2AnODr"
      },
      "execution_count": null,
      "outputs": []
    },
    {
      "cell_type": "code",
      "source": [
        "!pip install sklearn_crfsuite"
      ],
      "metadata": {
        "id": "hrRFbKKFdZAE"
      },
      "execution_count": null,
      "outputs": []
    },
    {
      "cell_type": "code",
      "source": [
        "import numpy as np\n",
        "import pandas as pd"
      ],
      "metadata": {
        "id": "CzqUIWrwYjyU"
      },
      "execution_count": null,
      "outputs": []
    },
    {
      "cell_type": "code",
      "source": [
        "#CONLL data\n",
        "class SentenceGetter(object):\n",
        "    \n",
        "    def __init__(self, filenames):\n",
        "        self.sentences_map = {} #\"train\":[], valid\n",
        "        self.filenames = filenames\n",
        "        self.words = set()\n",
        "        self.tags = set()\n",
        "        niter = 0\n",
        "        for filename in filenames:\n",
        "          self.filename = filename\n",
        "          self.sentences = []\n",
        "          with open(self.filename) as f:\n",
        "              sentence = []\n",
        "              for line in f:\n",
        "                  line = line.strip()\n",
        "                  if (len(line) == 0 or line.startswith(\"-DOCSTART-\")):\n",
        "                      if len(sentence) != 0:\n",
        "                        self.sentences.append(sentence)\n",
        "                        sentence = []\n",
        "                      continue\n",
        "                  else:\n",
        "                      ls = line.split(' ')\n",
        "                      word, tag = ls[0],ls[3] #word - - tag\n",
        "                      self.words.add(word)\n",
        "                      self.tags.add(tag)\n",
        "                      sentence.append((word,tag))\n",
        "          if (\"train\" in filename):\n",
        "            self.sentences_map[\"train\"] = self.sentences\n",
        "          elif (\"valid\" in filename):\n",
        "            self.sentences_map[\"valid\"] = self.sentences\n",
        "          else:\n",
        "            self.sentences_map[\"test\"] = self.sentences"
      ],
      "metadata": {
        "id": "Q_Vj6k2hWrHn"
      },
      "execution_count": null,
      "outputs": []
    },
    {
      "cell_type": "code",
      "source": [
        "files = [\"/content/drive/MyDrive/MasterThesis/coNLL/train.txt\", \"/content/drive/MyDrive/MasterThesis/coNLL/valid.txt\"] "
      ],
      "metadata": {
        "id": "1J84ts-Gppz3"
      },
      "execution_count": null,
      "outputs": []
    },
    {
      "cell_type": "code",
      "source": [
        "#CONLL data\n",
        "getter = SentenceGetter(files)\n",
        "sentences_map = getter.sentences_map\n",
        "words = getter.words\n",
        "tags = list(getter.tags)"
      ],
      "metadata": {
        "id": "DuwbbfMQXkMg"
      },
      "execution_count": null,
      "outputs": []
    },
    {
      "cell_type": "code",
      "source": [
        "sentences_map[\"valid\"][1:3]"
      ],
      "metadata": {
        "id": "NfAQKyB5qlHC",
        "colab": {
          "base_uri": "https://localhost:8080/"
        },
        "outputId": "7841f444-3ca8-47bb-af21-1a20696a0fca"
      },
      "execution_count": null,
      "outputs": [
        {
          "output_type": "execute_result",
          "data": {
            "text/plain": [
              "[[('LONDON', 'B-LOC'), ('1996-08-30', 'O')],\n",
              " [('West', 'B-MISC'),\n",
              "  ('Indian', 'I-MISC'),\n",
              "  ('all-rounder', 'O'),\n",
              "  ('Phil', 'B-PER'),\n",
              "  ('Simmons', 'I-PER'),\n",
              "  ('took', 'O'),\n",
              "  ('four', 'O'),\n",
              "  ('for', 'O'),\n",
              "  ('38', 'O'),\n",
              "  ('on', 'O'),\n",
              "  ('Friday', 'O'),\n",
              "  ('as', 'O'),\n",
              "  ('Leicestershire', 'B-ORG'),\n",
              "  ('beat', 'O'),\n",
              "  ('Somerset', 'B-ORG'),\n",
              "  ('by', 'O'),\n",
              "  ('an', 'O'),\n",
              "  ('innings', 'O'),\n",
              "  ('and', 'O'),\n",
              "  ('39', 'O'),\n",
              "  ('runs', 'O'),\n",
              "  ('in', 'O'),\n",
              "  ('two', 'O'),\n",
              "  ('days', 'O'),\n",
              "  ('to', 'O'),\n",
              "  ('take', 'O'),\n",
              "  ('over', 'O'),\n",
              "  ('at', 'O'),\n",
              "  ('the', 'O'),\n",
              "  ('head', 'O'),\n",
              "  ('of', 'O'),\n",
              "  ('the', 'O'),\n",
              "  ('county', 'O'),\n",
              "  ('championship', 'O'),\n",
              "  ('.', 'O')]]"
            ]
          },
          "metadata": {},
          "execution_count": 8
        }
      ]
    },
    {
      "cell_type": "code",
      "source": [
        "tags"
      ],
      "metadata": {
        "colab": {
          "base_uri": "https://localhost:8080/"
        },
        "id": "br4YbzGAq24x",
        "outputId": "b5352040-e654-4595-8c4e-523835b23698"
      },
      "execution_count": null,
      "outputs": [
        {
          "output_type": "execute_result",
          "data": {
            "text/plain": [
              "['I-MISC', 'I-PER', 'I-ORG', 'B-ORG', 'I-LOC', 'B-MISC', 'B-LOC', 'O', 'B-PER']"
            ]
          },
          "metadata": {},
          "execution_count": 8
        }
      ]
    },
    {
      "cell_type": "code",
      "source": [
        "#CONLL data\n",
        "words = list(words)"
      ],
      "metadata": {
        "id": "DElltJ4-XkYd"
      },
      "execution_count": null,
      "outputs": []
    },
    {
      "cell_type": "code",
      "source": [
        "len(words)"
      ],
      "metadata": {
        "colab": {
          "base_uri": "https://localhost:8080/"
        },
        "id": "aKh0vhs9O34N",
        "outputId": "72da3c35-7a9f-40c6-9811-1150724f6892"
      },
      "execution_count": null,
      "outputs": [
        {
          "output_type": "execute_result",
          "data": {
            "text/plain": [
              "26883"
            ]
          },
          "metadata": {},
          "execution_count": 11
        }
      ]
    },
    {
      "cell_type": "code",
      "source": [
        "#ADD PAD to words\n",
        "words.append('PAD')"
      ],
      "metadata": {
        "id": "XIwZsCXOOo-d"
      },
      "execution_count": null,
      "outputs": []
    },
    {
      "cell_type": "code",
      "source": [
        "tags.insert(0,'PAD')"
      ],
      "metadata": {
        "id": "SzMmUvlVjgpv"
      },
      "execution_count": null,
      "outputs": []
    },
    {
      "cell_type": "code",
      "source": [
        "#CONLL data\n",
        "\n",
        "n_words = len(words)\n",
        "n_tags = len(tags)"
      ],
      "metadata": {
        "id": "zpeU1OpJZaCY"
      },
      "execution_count": null,
      "outputs": []
    },
    {
      "cell_type": "code",
      "source": [
        "tags"
      ],
      "metadata": {
        "colab": {
          "base_uri": "https://localhost:8080/"
        },
        "id": "_UJqa777Zcn5",
        "outputId": "774af733-22be-4775-ee47-a6f7d4a8584a"
      },
      "execution_count": null,
      "outputs": [
        {
          "output_type": "execute_result",
          "data": {
            "text/plain": [
              "['PAD',\n",
              " 'I-MISC',\n",
              " 'I-PER',\n",
              " 'I-ORG',\n",
              " 'B-ORG',\n",
              " 'I-LOC',\n",
              " 'B-MISC',\n",
              " 'B-LOC',\n",
              " 'O',\n",
              " 'B-PER']"
            ]
          },
          "metadata": {},
          "execution_count": 15
        }
      ]
    },
    {
      "cell_type": "code",
      "source": [
        "from tqdm import tqdm"
      ],
      "metadata": {
        "id": "kY9Mg-2_wHP7"
      },
      "execution_count": null,
      "outputs": []
    },
    {
      "cell_type": "code",
      "source": [
        "embedding_vector = {}\n",
        "f = open('/content/drive/MyDrive/MasterThesis/Glove/glove.6B.100d.txt') \n",
        "for line in tqdm(f):\n",
        "    vector = line.split(' ')\n",
        "    word = vector[0]\n",
        "    coef = np.asarray(vector[1:],dtype = 'float32')\n",
        "    embedding_vector[word]=coef\n",
        "f.close()\n",
        "print('Number of words found ',len(embedding_vector))"
      ],
      "metadata": {
        "colab": {
          "base_uri": "https://localhost:8080/"
        },
        "id": "ZvBDzF4Vv9qq",
        "outputId": "a9bde4fa-e023-4abf-b676-38ce09a3b9c4"
      },
      "execution_count": null,
      "outputs": [
        {
          "output_type": "stream",
          "name": "stderr",
          "text": [
            "400000it [00:10, 38956.82it/s]"
          ]
        },
        {
          "output_type": "stream",
          "name": "stdout",
          "text": [
            "Number of words found  400000\n"
          ]
        },
        {
          "output_type": "stream",
          "name": "stderr",
          "text": [
            "\n"
          ]
        }
      ]
    },
    {
      "cell_type": "code",
      "source": [
        "from keras.preprocessing.text import Tokenizer"
      ],
      "metadata": {
        "id": "kBuzvgtr4YGp"
      },
      "execution_count": null,
      "outputs": []
    },
    {
      "cell_type": "code",
      "source": [
        "token = Tokenizer()\n",
        "token.fit_on_texts(words)"
      ],
      "metadata": {
        "id": "UGRFkmWI1BoG"
      },
      "execution_count": null,
      "outputs": []
    },
    {
      "cell_type": "code",
      "source": [
        "sequence = token.texts_to_sequences(words)"
      ],
      "metadata": {
        "id": "R2OYIGHcv9ny"
      },
      "execution_count": null,
      "outputs": []
    },
    {
      "cell_type": "code",
      "source": [
        "vocab_size = len(token.word_index)+1"
      ],
      "metadata": {
        "id": "eftWe6Ufv9ay"
      },
      "execution_count": null,
      "outputs": []
    },
    {
      "cell_type": "code",
      "source": [
        "vocab_size"
      ],
      "metadata": {
        "colab": {
          "base_uri": "https://localhost:8080/"
        },
        "id": "0mc4JnGkT4st",
        "outputId": "e0f185e6-4b3f-4aee-d322-0ba5b15e78e0"
      },
      "execution_count": null,
      "outputs": [
        {
          "output_type": "execute_result",
          "data": {
            "text/plain": [
              "19726"
            ]
          },
          "metadata": {},
          "execution_count": 22
        }
      ]
    },
    {
      "cell_type": "code",
      "source": [
        "embedding_matrix = np.zeros((vocab_size,100))\n",
        "for word,i in tqdm(token.word_index.items()):\n",
        "    embedding_vectors = embedding_vector.get(word)\n",
        "    if embedding_vectors is not None:\n",
        "        embedding_matrix[i] = embedding_vector[word]"
      ],
      "metadata": {
        "colab": {
          "base_uri": "https://localhost:8080/"
        },
        "id": "VKY2eVfG5K_w",
        "outputId": "aa584e2f-a4e3-4a98-9654-908cedc1397d"
      },
      "execution_count": null,
      "outputs": [
        {
          "output_type": "stream",
          "name": "stderr",
          "text": [
            "100%|██████████| 19725/19725 [00:00<00:00, 443459.26it/s]\n"
          ]
        }
      ]
    },
    {
      "cell_type": "code",
      "source": [
        "embedding_matrix.shape"
      ],
      "metadata": {
        "colab": {
          "base_uri": "https://localhost:8080/"
        },
        "id": "TLi6zuZvu1GW",
        "outputId": "0242d1b2-7fe3-4e01-e2df-1399de821f87"
      },
      "execution_count": null,
      "outputs": [
        {
          "output_type": "execute_result",
          "data": {
            "text/plain": [
              "(19726, 100)"
            ]
          },
          "metadata": {},
          "execution_count": 24
        }
      ]
    },
    {
      "cell_type": "code",
      "source": [
        "from future.utils import iteritems\n",
        "\n",
        "tag2idx = {t: i for i, t in enumerate(tags)}\n",
        "\n",
        "idx2tag = {v: k for k, v in iteritems(tag2idx)}"
      ],
      "metadata": {
        "id": "oSn2WSh_ZgSl"
      },
      "execution_count": null,
      "outputs": []
    },
    {
      "cell_type": "code",
      "source": [
        "tag2idx"
      ],
      "metadata": {
        "colab": {
          "base_uri": "https://localhost:8080/"
        },
        "id": "zlLJ1eF3kw0j",
        "outputId": "369c91df-89af-4c5d-b84e-27e5e9165bf8"
      },
      "execution_count": null,
      "outputs": [
        {
          "output_type": "execute_result",
          "data": {
            "text/plain": [
              "{'PAD': 0,\n",
              " 'I-MISC': 1,\n",
              " 'I-PER': 2,\n",
              " 'I-ORG': 3,\n",
              " 'B-ORG': 4,\n",
              " 'I-LOC': 5,\n",
              " 'B-MISC': 6,\n",
              " 'B-LOC': 7,\n",
              " 'O': 8,\n",
              " 'B-PER': 9}"
            ]
          },
          "metadata": {},
          "execution_count": 26
        }
      ]
    },
    {
      "cell_type": "code",
      "source": [
        "#CONLL data\n",
        "from tensorflow.keras.preprocessing.sequence import pad_sequences\n",
        "from tensorflow.keras.utils import to_categorical\n",
        "\n",
        "maxlen = max([len(s) for s in sentences_map[\"train\"]])\n",
        "\n",
        "train_data = [[token.word_index.get(w[0].lower()) for w in s if w[0].lower() in token.word_index] for s in sentences_map[\"train\"]]\n",
        "X_train = pad_sequences(maxlen=maxlen, sequences=train_data, dtype='int32', padding=\"post\",value=token.word_index.get('pad')) #embedding_matrix 0 position is blank value\n",
        "y_label_train = [[tag2idx[w[1]] for w in s if w[0].lower() in token.word_index] for s in sentences_map[\"train\"]]\n",
        "train_label = pad_sequences(maxlen=maxlen, sequences=y_label_train, dtype='int32', padding=\"post\", value=tag2idx[\"PAD\"])\n",
        "# One-Hot encode\n",
        "y_train = [to_categorical(i, num_classes=n_tags+1) for i in train_label] \n",
        "\n",
        "val_data = [[token.word_index.get(w[0].lower()) for w in s if w[0].lower() in token.word_index] for s in sentences_map[\"valid\"]]\n",
        "X_val = pad_sequences(maxlen=maxlen, sequences=val_data, dtype='int32', padding=\"post\",value=token.word_index.get('pad'))\n",
        "y_label_val = [[tag2idx[w[1]] for w in s if w[0].lower() in token.word_index] for s in sentences_map[\"valid\"]]\n",
        "val_label = pad_sequences(maxlen=maxlen, sequences=y_label_val, dtype='int32', padding=\"post\", value=tag2idx[\"PAD\"])\n",
        "# One-Hot encode\n",
        "y_val = [to_categorical(i, num_classes=n_tags+1) for i in val_label]\n",
        "\n",
        "getter = SentenceGetter([\"/content/drive/MyDrive/MasterThesis/coNLL/test.txt\"]) \n",
        "sentences_test = getter.sentences_map[\"test\"]\n",
        "test_data = [[token.word_index.get(w[0].lower()) for w in s if w[0].lower() in token.word_index] for s in sentences_test]\n",
        "X_test = pad_sequences(maxlen=maxlen, sequences=test_data, dtype='int32', padding=\"post\",value=token.word_index.get('pad'))\n",
        "y_label_test = [[tag2idx[w[1]] for w in s if w[0].lower() in token.word_index] for s in sentences_test]\n",
        "test_label = pad_sequences(maxlen=maxlen, sequences=y_label_test, dtype='int32', padding=\"post\", value=tag2idx[\"PAD\"])\n",
        "# One-Hot encode\n",
        "y_test = [to_categorical(i, num_classes=n_tags+1) for i in test_label]\n",
        "\n",
        "\n",
        "print(\n",
        "        'train_tokens length:', len(X_train),\n",
        "        '\\nval_tokens length:', len(X_val),\n",
        "        '\\ntest_tokens length:', len(X_test),\n",
        "        '\\ntrain_tags:', len(y_train),\n",
        "        '\\nval_tags:', len(y_val),\n",
        "        '\\ntest_tags:', len(y_test)\n",
        "    )\n"
      ],
      "metadata": {
        "colab": {
          "base_uri": "https://localhost:8080/"
        },
        "id": "h6J20tWoZjva",
        "outputId": "1ba433b4-dbc1-4ef8-af8a-45d9e076d690"
      },
      "execution_count": null,
      "outputs": [
        {
          "output_type": "stream",
          "name": "stdout",
          "text": [
            "train_tokens length: 14041 \n",
            "val_tokens length: 3250 \n",
            "test_tokens length: 3453 \n",
            "train_tags: 14041 \n",
            "val_tags: 3250 \n",
            "test_tags: 3453\n"
          ]
        }
      ]
    },
    {
      "cell_type": "code",
      "source": [
        "X_train.shape"
      ],
      "metadata": {
        "colab": {
          "base_uri": "https://localhost:8080/"
        },
        "id": "OJ-fxomeJ74K",
        "outputId": "f543ee1c-82c2-4504-9997-5fad2b795bf0"
      },
      "execution_count": null,
      "outputs": [
        {
          "output_type": "execute_result",
          "data": {
            "text/plain": [
              "(14041, 113)"
            ]
          },
          "metadata": {},
          "execution_count": 28
        }
      ]
    },
    {
      "cell_type": "code",
      "source": [
        "sentences_map[\"train\"][0]"
      ],
      "metadata": {
        "colab": {
          "base_uri": "https://localhost:8080/"
        },
        "id": "y3uE0AY2Rksl",
        "outputId": "dfe5a9e6-32a9-4765-9c42-f91741df0ef6"
      },
      "execution_count": null,
      "outputs": [
        {
          "output_type": "execute_result",
          "data": {
            "text/plain": [
              "[('EU', 'B-ORG'),\n",
              " ('rejects', 'O'),\n",
              " ('German', 'B-MISC'),\n",
              " ('call', 'O'),\n",
              " ('to', 'O'),\n",
              " ('boycott', 'O'),\n",
              " ('British', 'B-MISC'),\n",
              " ('lamb', 'O'),\n",
              " ('.', 'O')]"
            ]
          },
          "metadata": {},
          "execution_count": 39
        }
      ]
    },
    {
      "cell_type": "code",
      "source": [
        "for token_id, tag in zip(X_train[0], y_train[0]):\n",
        "    print('%s\\t%s' % (token_id, tag))"
      ],
      "metadata": {
        "id": "WtOMEQFIdNNe"
      },
      "execution_count": null,
      "outputs": []
    },
    {
      "cell_type": "markdown",
      "source": [
        "#Model"
      ],
      "metadata": {
        "id": "BSsrdXjWXlbE"
      }
    },
    {
      "cell_type": "code",
      "source": [
        "import tensorflow"
      ],
      "metadata": {
        "id": "nOdEsLKZJsGD"
      },
      "execution_count": null,
      "outputs": []
    },
    {
      "cell_type": "code",
      "source": [
        "from numpy.random import seed\n",
        "seed(1)\n",
        "tensorflow.random.set_seed(2)"
      ],
      "metadata": {
        "id": "AkaIkvtkXp12"
      },
      "execution_count": null,
      "outputs": []
    },
    {
      "cell_type": "code",
      "source": [
        "input_dim = vocab_size\n",
        "input_length = maxlen\n",
        "n_tags = len(tag2idx)\n",
        "print('input_dim: ', input_dim, '\\ninput_length: ', input_length, '\\nn_tags: ', n_tags)"
      ],
      "metadata": {
        "colab": {
          "base_uri": "https://localhost:8080/"
        },
        "id": "umCKjG-aXsej",
        "outputId": "4f03c31e-26d3-4d7c-ec14-c8ce0dc10994"
      },
      "execution_count": null,
      "outputs": [
        {
          "output_type": "stream",
          "name": "stdout",
          "text": [
            "input_dim:  19726 \n",
            "input_length:  113 \n",
            "n_tags:  10\n"
          ]
        }
      ]
    },
    {
      "cell_type": "code",
      "source": [
        "import numpy as np\n",
        "import tensorflow.keras as kk\n",
        "from tensorflow.keras import Sequential, Model, Input\n",
        "from tensorflow.keras.layers import GRU, Embedding, Dense, TimeDistributed, Dropout, Bidirectional\n",
        "from tensorflow.keras.utils import plot_model\n",
        "from tf2crf import CRF, ModelWithCRFLoss"
      ],
      "metadata": {
        "id": "BJXiC6e-XkbY"
      },
      "execution_count": null,
      "outputs": []
    },
    {
      "cell_type": "code",
      "source": [
        "word_embedding_size = 100\n",
        "units_size = 50\n",
        "\n",
        "#input layer\n",
        "input = Input(shape=(maxlen,))\n",
        "\n",
        "# Embedding Layer\n",
        "embed = Embedding(input_dim=input_dim, output_dim=word_embedding_size, weights = [embedding_matrix], input_length =maxlen, mask_zero=True, trainable = False)(input)\n",
        "\n",
        "# BI-LSTM Layer\n",
        "model = Bidirectional(GRU(units=units_size, \n",
        "                           return_sequences=True, \n",
        "                           dropout=0.5, \n",
        "                           recurrent_dropout=0.5, \n",
        "                           kernel_initializer=kk.initializers.he_normal()))(embed)\n",
        "\n",
        "# TimeDistributed Layer\n",
        "model = TimeDistributed(Dense(units_size, activation=\"relu\"))(model) \n",
        "\n",
        "# CRF Layer\n",
        "crf = CRF(units=n_tags)\n",
        "\n",
        "output = crf(model)\n",
        "\n",
        "base_model = Model(input, output)\n",
        "\n",
        "base_model.summary()\n",
        "\n",
        "model = ModelWithCRFLoss(base_model, sparse_target=False)"
      ],
      "metadata": {
        "id": "zbI8r9PdnIjg",
        "colab": {
          "base_uri": "https://localhost:8080/"
        },
        "outputId": "7e3e286f-9389-4582-977b-32e2374355b3"
      },
      "execution_count": null,
      "outputs": [
        {
          "output_type": "stream",
          "name": "stderr",
          "text": [
            "WARNING:tensorflow:Layer gru will not use cuDNN kernels since it doesn't meet the criteria. It will use a generic GPU kernel as fallback when running on GPU.\n",
            "WARNING:tensorflow:Layer gru will not use cuDNN kernels since it doesn't meet the criteria. It will use a generic GPU kernel as fallback when running on GPU.\n",
            "WARNING:tensorflow:Layer gru will not use cuDNN kernels since it doesn't meet the criteria. It will use a generic GPU kernel as fallback when running on GPU.\n"
          ]
        },
        {
          "output_type": "stream",
          "name": "stdout",
          "text": [
            "Model: \"model\"\n",
            "_________________________________________________________________\n",
            " Layer (type)                Output Shape              Param #   \n",
            "=================================================================\n",
            " input_1 (InputLayer)        [(None, 113)]             0         \n",
            "                                                                 \n",
            " embedding (Embedding)       (None, 113, 100)          1972600   \n",
            "                                                                 \n",
            " bidirectional (Bidirectiona  (None, 113, 100)         45600     \n",
            " l)                                                              \n",
            "                                                                 \n",
            " time_distributed (TimeDistr  (None, 113, 50)          5050      \n",
            " ibuted)                                                         \n",
            "                                                                 \n",
            " crf (CRF)                   ((None, 113),             610       \n",
            "                              (None, 113, 10),                   \n",
            "                              (None,),                           \n",
            "                              (10, 10))                          \n",
            "                                                                 \n",
            "=================================================================\n",
            "Total params: 2,023,860\n",
            "Trainable params: 51,260\n",
            "Non-trainable params: 1,972,600\n",
            "_________________________________________________________________\n"
          ]
        }
      ]
    },
    {
      "cell_type": "code",
      "source": [
        "from keras.callbacks import ModelCheckpoint\n",
        "import matplotlib.pyplot as plt\n",
        "\n",
        "#Optimiser \n",
        "adam = kk.optimizers.Adam(learning_rate=0.001, beta_1=0.9, beta_2=0.999)\n",
        "\n",
        "# Compile model\n",
        "# model.compile(optimizer=adam)\n",
        "model.compile(optimizer=\"rmsprop\")\n",
        "\n",
        "\n",
        "\n",
        "# Saving the best model only\n",
        "filepath=\"ner-bi-GRU-tf2crf-model-{accuracy:.2f}.tf\"\n",
        "checkpoint = ModelCheckpoint(filepath, monitor='accuracy', verbose=1, save_best_only=True, mode='max')\n",
        "callbacks_list = [checkpoint]\n",
        "\n",
        "history = model.fit(X_train, np.array(y_train), validation_data = (X_val, np.array(y_val)), batch_size=256, epochs=20, verbose=1, callbacks=callbacks_list)"
      ],
      "metadata": {
        "colab": {
          "base_uri": "https://localhost:8080/"
        },
        "id": "bQrI16lHIU77",
        "outputId": "6905c4d0-01d2-45ea-c140-bcc9248c4804"
      },
      "execution_count": null,
      "outputs": [
        {
          "output_type": "stream",
          "name": "stdout",
          "text": [
            "Epoch 1/20\n",
            "55/55 [==============================] - ETA: 0s - loss: 1.8252 - accuracy: 0.9943\n",
            "Epoch 1: accuracy improved from -inf to 0.99428, saving model to /content/drive/MyDrive/MasterThesis/BiGRU_CRF/CoNLL/Glove/Att_1/ner-bi-GRU-tf2crf-model-0.99.tf\n"
          ]
        },
        {
          "output_type": "stream",
          "name": "stderr",
          "text": [
            "WARNING:tensorflow:Model's `__init__()` arguments contain non-serializable objects. Please implement a `get_config()` method in the subclassed Model for proper saving and loading. Defaulting to empty config.\n",
            "WARNING:tensorflow:Model's `__init__()` arguments contain non-serializable objects. Please implement a `get_config()` method in the subclassed Model for proper saving and loading. Defaulting to empty config.\n",
            "WARNING:absl:Found untraced functions such as dense_1_layer_call_fn, dense_1_layer_call_and_return_conditional_losses while saving (showing 2 of 2). These functions will not be directly callable after loading.\n",
            "WARNING:tensorflow:Model's `__init__()` arguments contain non-serializable objects. Please implement a `get_config()` method in the subclassed Model for proper saving and loading. Defaulting to empty config.\n",
            "WARNING:tensorflow:Model's `__init__()` arguments contain non-serializable objects. Please implement a `get_config()` method in the subclassed Model for proper saving and loading. Defaulting to empty config.\n"
          ]
        },
        {
          "output_type": "stream",
          "name": "stdout",
          "text": [
            "\b\b\b\b\b\b\b\b\b\b\b\b\b\b\b\b\b\b\b\b\b\b\b\b\b\b\b\b\b\b\b\b\b\b\b\b\b\b\b\b\b\b\b\b\b\b\b\b\b\b\b\b\b\b\b\b\b\b\b\b\b\b\b\b\b\b\b\b\b\b\b\b\b\b\b\b\b\b\b\b\b\b\r55/55 [==============================] - 107s 2s/step - loss: 1.8252 - accuracy: 0.9943 - val_loss_val: 2.1348 - val_val_accuracy: 0.9937\n",
            "Epoch 2/20\n",
            "55/55 [==============================] - ETA: 0s - loss: 1.7959 - accuracy: 0.9943\n",
            "Epoch 2: accuracy improved from 0.99428 to 0.99431, saving model to /content/drive/MyDrive/MasterThesis/BiGRU_CRF/CoNLL/Glove/Att_1/ner-bi-GRU-tf2crf-model-0.99.tf\n"
          ]
        },
        {
          "output_type": "stream",
          "name": "stderr",
          "text": [
            "WARNING:tensorflow:Model's `__init__()` arguments contain non-serializable objects. Please implement a `get_config()` method in the subclassed Model for proper saving and loading. Defaulting to empty config.\n",
            "WARNING:tensorflow:Model's `__init__()` arguments contain non-serializable objects. Please implement a `get_config()` method in the subclassed Model for proper saving and loading. Defaulting to empty config.\n",
            "WARNING:absl:Found untraced functions such as dense_1_layer_call_fn, dense_1_layer_call_and_return_conditional_losses while saving (showing 2 of 2). These functions will not be directly callable after loading.\n",
            "WARNING:tensorflow:Model's `__init__()` arguments contain non-serializable objects. Please implement a `get_config()` method in the subclassed Model for proper saving and loading. Defaulting to empty config.\n",
            "WARNING:tensorflow:Model's `__init__()` arguments contain non-serializable objects. Please implement a `get_config()` method in the subclassed Model for proper saving and loading. Defaulting to empty config.\n"
          ]
        },
        {
          "output_type": "stream",
          "name": "stdout",
          "text": [
            "\b\b\b\b\b\b\b\b\b\b\b\b\b\b\b\b\b\b\b\b\b\b\b\b\b\b\b\b\b\b\b\b\b\b\b\b\b\b\b\b\b\b\b\b\b\b\b\b\b\b\b\b\b\b\b\b\b\b\b\b\b\b\b\b\b\b\b\b\b\b\b\b\b\b\b\b\b\b\b\b\b\b\r55/55 [==============================] - 85s 2s/step - loss: 1.7959 - accuracy: 0.9943 - val_loss_val: 2.0872 - val_val_accuracy: 0.9937\n",
            "Epoch 3/20\n",
            "55/55 [==============================] - ETA: 0s - loss: 1.7387 - accuracy: 0.9945\n",
            "Epoch 3: accuracy improved from 0.99431 to 0.99455, saving model to /content/drive/MyDrive/MasterThesis/BiGRU_CRF/CoNLL/Glove/Att_1/ner-bi-GRU-tf2crf-model-0.99.tf\n"
          ]
        },
        {
          "output_type": "stream",
          "name": "stderr",
          "text": [
            "WARNING:tensorflow:Model's `__init__()` arguments contain non-serializable objects. Please implement a `get_config()` method in the subclassed Model for proper saving and loading. Defaulting to empty config.\n",
            "WARNING:tensorflow:Model's `__init__()` arguments contain non-serializable objects. Please implement a `get_config()` method in the subclassed Model for proper saving and loading. Defaulting to empty config.\n",
            "WARNING:absl:Found untraced functions such as dense_1_layer_call_fn, dense_1_layer_call_and_return_conditional_losses while saving (showing 2 of 2). These functions will not be directly callable after loading.\n",
            "WARNING:tensorflow:Model's `__init__()` arguments contain non-serializable objects. Please implement a `get_config()` method in the subclassed Model for proper saving and loading. Defaulting to empty config.\n",
            "WARNING:tensorflow:Model's `__init__()` arguments contain non-serializable objects. Please implement a `get_config()` method in the subclassed Model for proper saving and loading. Defaulting to empty config.\n"
          ]
        },
        {
          "output_type": "stream",
          "name": "stdout",
          "text": [
            "\b\b\b\b\b\b\b\b\b\b\b\b\b\b\b\b\b\b\b\b\b\b\b\b\b\b\b\b\b\b\b\b\b\b\b\b\b\b\b\b\b\b\b\b\b\b\b\b\b\b\b\b\b\b\b\b\b\b\b\b\b\b\b\b\b\b\b\b\b\b\b\b\b\b\b\b\b\b\b\b\b\b\r55/55 [==============================] - 85s 2s/step - loss: 1.7387 - accuracy: 0.9945 - val_loss_val: 2.0422 - val_val_accuracy: 0.9939\n",
            "Epoch 4/20\n",
            "55/55 [==============================] - ETA: 0s - loss: 1.6982 - accuracy: 0.9945\n",
            "Epoch 4: accuracy did not improve from 0.99455\n",
            "55/55 [==============================] - 69s 1s/step - loss: 1.6982 - accuracy: 0.9945 - val_loss_val: 2.0261 - val_val_accuracy: 0.9940\n",
            "Epoch 5/20\n",
            "55/55 [==============================] - ETA: 0s - loss: 1.6609 - accuracy: 0.9947\n",
            "Epoch 5: accuracy improved from 0.99455 to 0.99467, saving model to /content/drive/MyDrive/MasterThesis/BiGRU_CRF/CoNLL/Glove/Att_1/ner-bi-GRU-tf2crf-model-0.99.tf\n"
          ]
        },
        {
          "output_type": "stream",
          "name": "stderr",
          "text": [
            "WARNING:tensorflow:Model's `__init__()` arguments contain non-serializable objects. Please implement a `get_config()` method in the subclassed Model for proper saving and loading. Defaulting to empty config.\n",
            "WARNING:tensorflow:Model's `__init__()` arguments contain non-serializable objects. Please implement a `get_config()` method in the subclassed Model for proper saving and loading. Defaulting to empty config.\n",
            "WARNING:absl:Found untraced functions such as dense_1_layer_call_fn, dense_1_layer_call_and_return_conditional_losses while saving (showing 2 of 2). These functions will not be directly callable after loading.\n",
            "WARNING:tensorflow:Model's `__init__()` arguments contain non-serializable objects. Please implement a `get_config()` method in the subclassed Model for proper saving and loading. Defaulting to empty config.\n",
            "WARNING:tensorflow:Model's `__init__()` arguments contain non-serializable objects. Please implement a `get_config()` method in the subclassed Model for proper saving and loading. Defaulting to empty config.\n"
          ]
        },
        {
          "output_type": "stream",
          "name": "stdout",
          "text": [
            "\b\b\b\b\b\b\b\b\b\b\b\b\b\b\b\b\b\b\b\b\b\b\b\b\b\b\b\b\b\b\b\b\b\b\b\b\b\b\b\b\b\b\b\b\b\b\b\b\b\b\b\b\b\b\b\b\b\b\b\b\b\b\b\b\b\b\b\b\b\b\b\b\b\b\b\b\b\b\b\b\b\b\r55/55 [==============================] - 84s 2s/step - loss: 1.6609 - accuracy: 0.9947 - val_loss_val: 1.9601 - val_val_accuracy: 0.9941\n",
            "Epoch 6/20\n",
            "55/55 [==============================] - ETA: 0s - loss: 1.6151 - accuracy: 0.9947\n",
            "Epoch 6: accuracy improved from 0.99467 to 0.99471, saving model to /content/drive/MyDrive/MasterThesis/BiGRU_CRF/CoNLL/Glove/Att_1/ner-bi-GRU-tf2crf-model-0.99.tf\n"
          ]
        },
        {
          "output_type": "stream",
          "name": "stderr",
          "text": [
            "WARNING:tensorflow:Model's `__init__()` arguments contain non-serializable objects. Please implement a `get_config()` method in the subclassed Model for proper saving and loading. Defaulting to empty config.\n",
            "WARNING:tensorflow:Model's `__init__()` arguments contain non-serializable objects. Please implement a `get_config()` method in the subclassed Model for proper saving and loading. Defaulting to empty config.\n",
            "WARNING:absl:Found untraced functions such as dense_1_layer_call_fn, dense_1_layer_call_and_return_conditional_losses while saving (showing 2 of 2). These functions will not be directly callable after loading.\n",
            "WARNING:tensorflow:Model's `__init__()` arguments contain non-serializable objects. Please implement a `get_config()` method in the subclassed Model for proper saving and loading. Defaulting to empty config.\n",
            "WARNING:tensorflow:Model's `__init__()` arguments contain non-serializable objects. Please implement a `get_config()` method in the subclassed Model for proper saving and loading. Defaulting to empty config.\n"
          ]
        },
        {
          "output_type": "stream",
          "name": "stdout",
          "text": [
            "\b\b\b\b\b\b\b\b\b\b\b\b\b\b\b\b\b\b\b\b\b\b\b\b\b\b\b\b\b\b\b\b\b\b\b\b\b\b\b\b\b\b\b\b\b\b\b\b\b\b\b\b\b\b\b\b\b\b\b\b\b\b\b\b\b\b\b\b\b\b\b\b\b\b\b\b\b\b\b\b\b\b\r55/55 [==============================] - 85s 2s/step - loss: 1.6151 - accuracy: 0.9947 - val_loss_val: 1.9632 - val_val_accuracy: 0.9939\n",
            "Epoch 7/20\n",
            "55/55 [==============================] - ETA: 0s - loss: 1.5791 - accuracy: 0.9949\n",
            "Epoch 7: accuracy improved from 0.99471 to 0.99487, saving model to /content/drive/MyDrive/MasterThesis/BiGRU_CRF/CoNLL/Glove/Att_1/ner-bi-GRU-tf2crf-model-0.99.tf\n"
          ]
        },
        {
          "output_type": "stream",
          "name": "stderr",
          "text": [
            "WARNING:tensorflow:Model's `__init__()` arguments contain non-serializable objects. Please implement a `get_config()` method in the subclassed Model for proper saving and loading. Defaulting to empty config.\n",
            "WARNING:tensorflow:Model's `__init__()` arguments contain non-serializable objects. Please implement a `get_config()` method in the subclassed Model for proper saving and loading. Defaulting to empty config.\n",
            "WARNING:absl:Found untraced functions such as dense_1_layer_call_fn, dense_1_layer_call_and_return_conditional_losses while saving (showing 2 of 2). These functions will not be directly callable after loading.\n",
            "WARNING:tensorflow:Model's `__init__()` arguments contain non-serializable objects. Please implement a `get_config()` method in the subclassed Model for proper saving and loading. Defaulting to empty config.\n",
            "WARNING:tensorflow:Model's `__init__()` arguments contain non-serializable objects. Please implement a `get_config()` method in the subclassed Model for proper saving and loading. Defaulting to empty config.\n"
          ]
        },
        {
          "output_type": "stream",
          "name": "stdout",
          "text": [
            "\b\b\b\b\b\b\b\b\b\b\b\b\b\b\b\b\b\b\b\b\b\b\b\b\b\b\b\b\b\b\b\b\b\b\b\b\b\b\b\b\b\b\b\b\b\b\b\b\b\b\b\b\b\b\b\b\b\b\b\b\b\b\b\b\b\b\b\b\b\b\b\b\b\b\b\b\b\b\b\b\b\b\r55/55 [==============================] - 82s 2s/step - loss: 1.5791 - accuracy: 0.9949 - val_loss_val: 1.9570 - val_val_accuracy: 0.9940\n",
            "Epoch 8/20\n",
            "55/55 [==============================] - ETA: 0s - loss: 1.5571 - accuracy: 0.9948\n",
            "Epoch 8: accuracy did not improve from 0.99487\n",
            "55/55 [==============================] - 70s 1s/step - loss: 1.5571 - accuracy: 0.9948 - val_loss_val: 1.8690 - val_val_accuracy: 0.9942\n",
            "Epoch 9/20\n",
            "55/55 [==============================] - ETA: 0s - loss: 1.5323 - accuracy: 0.9949\n",
            "Epoch 9: accuracy improved from 0.99487 to 0.99489, saving model to /content/drive/MyDrive/MasterThesis/BiGRU_CRF/CoNLL/Glove/Att_1/ner-bi-GRU-tf2crf-model-0.99.tf\n"
          ]
        },
        {
          "output_type": "stream",
          "name": "stderr",
          "text": [
            "WARNING:tensorflow:Model's `__init__()` arguments contain non-serializable objects. Please implement a `get_config()` method in the subclassed Model for proper saving and loading. Defaulting to empty config.\n",
            "WARNING:tensorflow:Model's `__init__()` arguments contain non-serializable objects. Please implement a `get_config()` method in the subclassed Model for proper saving and loading. Defaulting to empty config.\n",
            "WARNING:absl:Found untraced functions such as dense_1_layer_call_fn, dense_1_layer_call_and_return_conditional_losses while saving (showing 2 of 2). These functions will not be directly callable after loading.\n",
            "WARNING:tensorflow:Model's `__init__()` arguments contain non-serializable objects. Please implement a `get_config()` method in the subclassed Model for proper saving and loading. Defaulting to empty config.\n",
            "WARNING:tensorflow:Model's `__init__()` arguments contain non-serializable objects. Please implement a `get_config()` method in the subclassed Model for proper saving and loading. Defaulting to empty config.\n"
          ]
        },
        {
          "output_type": "stream",
          "name": "stdout",
          "text": [
            "\b\b\b\b\b\b\b\b\b\b\b\b\b\b\b\b\b\b\b\b\b\b\b\b\b\b\b\b\b\b\b\b\b\b\b\b\b\b\b\b\b\b\b\b\b\b\b\b\b\b\b\b\b\b\b\b\b\b\b\b\b\b\b\b\b\b\b\b\b\b\b\b\b\b\b\b\b\b\b\b\b\b\r55/55 [==============================] - 84s 2s/step - loss: 1.5323 - accuracy: 0.9949 - val_loss_val: 1.9086 - val_val_accuracy: 0.9942\n",
            "Epoch 10/20\n",
            "55/55 [==============================] - ETA: 0s - loss: 1.5088 - accuracy: 0.9950\n",
            "Epoch 10: accuracy improved from 0.99489 to 0.99505, saving model to /content/drive/MyDrive/MasterThesis/BiGRU_CRF/CoNLL/Glove/Att_1/ner-bi-GRU-tf2crf-model-1.00.tf\n"
          ]
        },
        {
          "output_type": "stream",
          "name": "stderr",
          "text": [
            "WARNING:tensorflow:Model's `__init__()` arguments contain non-serializable objects. Please implement a `get_config()` method in the subclassed Model for proper saving and loading. Defaulting to empty config.\n",
            "WARNING:tensorflow:Model's `__init__()` arguments contain non-serializable objects. Please implement a `get_config()` method in the subclassed Model for proper saving and loading. Defaulting to empty config.\n",
            "WARNING:absl:Found untraced functions such as dense_1_layer_call_fn, dense_1_layer_call_and_return_conditional_losses while saving (showing 2 of 2). These functions will not be directly callable after loading.\n",
            "WARNING:tensorflow:Model's `__init__()` arguments contain non-serializable objects. Please implement a `get_config()` method in the subclassed Model for proper saving and loading. Defaulting to empty config.\n",
            "WARNING:tensorflow:Model's `__init__()` arguments contain non-serializable objects. Please implement a `get_config()` method in the subclassed Model for proper saving and loading. Defaulting to empty config.\n"
          ]
        },
        {
          "output_type": "stream",
          "name": "stdout",
          "text": [
            "\b\b\b\b\b\b\b\b\b\b\b\b\b\b\b\b\b\b\b\b\b\b\b\b\b\b\b\b\b\b\b\b\b\b\b\b\b\b\b\b\b\b\b\b\b\b\b\b\b\b\b\b\b\b\b\b\b\b\b\b\b\b\b\b\b\b\b\b\b\b\b\b\b\b\b\b\b\b\b\b\b\b\r55/55 [==============================] - 84s 2s/step - loss: 1.5088 - accuracy: 0.9950 - val_loss_val: 1.8450 - val_val_accuracy: 0.9940\n",
            "Epoch 11/20\n",
            "55/55 [==============================] - ETA: 0s - loss: 1.4780 - accuracy: 0.9950\n",
            "Epoch 11: accuracy did not improve from 0.99505\n",
            "55/55 [==============================] - 65s 1s/step - loss: 1.4780 - accuracy: 0.9950 - val_loss_val: 1.8282 - val_val_accuracy: 0.9942\n",
            "Epoch 12/20\n",
            "55/55 [==============================] - ETA: 0s - loss: 1.4409 - accuracy: 0.9952\n",
            "Epoch 12: accuracy improved from 0.99505 to 0.99517, saving model to /content/drive/MyDrive/MasterThesis/BiGRU_CRF/CoNLL/Glove/Att_1/ner-bi-GRU-tf2crf-model-1.00.tf\n"
          ]
        },
        {
          "output_type": "stream",
          "name": "stderr",
          "text": [
            "WARNING:tensorflow:Model's `__init__()` arguments contain non-serializable objects. Please implement a `get_config()` method in the subclassed Model for proper saving and loading. Defaulting to empty config.\n",
            "WARNING:tensorflow:Model's `__init__()` arguments contain non-serializable objects. Please implement a `get_config()` method in the subclassed Model for proper saving and loading. Defaulting to empty config.\n",
            "WARNING:absl:Found untraced functions such as dense_1_layer_call_fn, dense_1_layer_call_and_return_conditional_losses while saving (showing 2 of 2). These functions will not be directly callable after loading.\n",
            "WARNING:tensorflow:Model's `__init__()` arguments contain non-serializable objects. Please implement a `get_config()` method in the subclassed Model for proper saving and loading. Defaulting to empty config.\n",
            "WARNING:tensorflow:Model's `__init__()` arguments contain non-serializable objects. Please implement a `get_config()` method in the subclassed Model for proper saving and loading. Defaulting to empty config.\n"
          ]
        },
        {
          "output_type": "stream",
          "name": "stdout",
          "text": [
            "\b\b\b\b\b\b\b\b\b\b\b\b\b\b\b\b\b\b\b\b\b\b\b\b\b\b\b\b\b\b\b\b\b\b\b\b\b\b\b\b\b\b\b\b\b\b\b\b\b\b\b\b\b\b\b\b\b\b\b\b\b\b\b\b\b\b\b\b\b\b\b\b\b\b\b\b\b\b\b\b\b\b\r55/55 [==============================] - 87s 2s/step - loss: 1.4409 - accuracy: 0.9952 - val_loss_val: 1.8317 - val_val_accuracy: 0.9943\n",
            "Epoch 13/20\n",
            "55/55 [==============================] - ETA: 0s - loss: 1.4280 - accuracy: 0.9951\n",
            "Epoch 13: accuracy did not improve from 0.99517\n",
            "55/55 [==============================] - 68s 1s/step - loss: 1.4280 - accuracy: 0.9951 - val_loss_val: 1.7689 - val_val_accuracy: 0.9944\n",
            "Epoch 14/20\n",
            "55/55 [==============================] - ETA: 0s - loss: 1.4009 - accuracy: 0.9953\n",
            "Epoch 14: accuracy improved from 0.99517 to 0.99531, saving model to /content/drive/MyDrive/MasterThesis/BiGRU_CRF/CoNLL/Glove/Att_1/ner-bi-GRU-tf2crf-model-1.00.tf\n"
          ]
        },
        {
          "output_type": "stream",
          "name": "stderr",
          "text": [
            "WARNING:tensorflow:Model's `__init__()` arguments contain non-serializable objects. Please implement a `get_config()` method in the subclassed Model for proper saving and loading. Defaulting to empty config.\n",
            "WARNING:tensorflow:Model's `__init__()` arguments contain non-serializable objects. Please implement a `get_config()` method in the subclassed Model for proper saving and loading. Defaulting to empty config.\n",
            "WARNING:absl:Found untraced functions such as dense_1_layer_call_fn, dense_1_layer_call_and_return_conditional_losses while saving (showing 2 of 2). These functions will not be directly callable after loading.\n",
            "WARNING:tensorflow:Model's `__init__()` arguments contain non-serializable objects. Please implement a `get_config()` method in the subclassed Model for proper saving and loading. Defaulting to empty config.\n",
            "WARNING:tensorflow:Model's `__init__()` arguments contain non-serializable objects. Please implement a `get_config()` method in the subclassed Model for proper saving and loading. Defaulting to empty config.\n"
          ]
        },
        {
          "output_type": "stream",
          "name": "stdout",
          "text": [
            "\b\b\b\b\b\b\b\b\b\b\b\b\b\b\b\b\b\b\b\b\b\b\b\b\b\b\b\b\b\b\b\b\b\b\b\b\b\b\b\b\b\b\b\b\b\b\b\b\b\b\b\b\b\b\b\b\b\b\b\b\b\b\b\b\b\b\b\b\b\b\b\b\b\b\b\b\b\b\b\b\b\b\r55/55 [==============================] - 82s 2s/step - loss: 1.4009 - accuracy: 0.9953 - val_loss_val: 1.7802 - val_val_accuracy: 0.9945\n",
            "Epoch 15/20\n",
            "55/55 [==============================] - ETA: 0s - loss: 1.3847 - accuracy: 0.9952\n",
            "Epoch 15: accuracy did not improve from 0.99531\n",
            "55/55 [==============================] - 67s 1s/step - loss: 1.3847 - accuracy: 0.9952 - val_loss_val: 1.7886 - val_val_accuracy: 0.9944\n",
            "Epoch 16/20\n",
            "55/55 [==============================] - ETA: 0s - loss: 1.3696 - accuracy: 0.9953\n",
            "Epoch 16: accuracy did not improve from 0.99531\n",
            "55/55 [==============================] - 69s 1s/step - loss: 1.3696 - accuracy: 0.9953 - val_loss_val: 1.7830 - val_val_accuracy: 0.9945\n",
            "Epoch 17/20\n",
            "55/55 [==============================] - ETA: 0s - loss: 1.3416 - accuracy: 0.9953\n",
            "Epoch 17: accuracy improved from 0.99531 to 0.99535, saving model to /content/drive/MyDrive/MasterThesis/BiGRU_CRF/CoNLL/Glove/Att_1/ner-bi-GRU-tf2crf-model-1.00.tf\n"
          ]
        },
        {
          "output_type": "stream",
          "name": "stderr",
          "text": [
            "WARNING:tensorflow:Model's `__init__()` arguments contain non-serializable objects. Please implement a `get_config()` method in the subclassed Model for proper saving and loading. Defaulting to empty config.\n",
            "WARNING:tensorflow:Model's `__init__()` arguments contain non-serializable objects. Please implement a `get_config()` method in the subclassed Model for proper saving and loading. Defaulting to empty config.\n",
            "WARNING:absl:Found untraced functions such as dense_1_layer_call_fn, dense_1_layer_call_and_return_conditional_losses while saving (showing 2 of 2). These functions will not be directly callable after loading.\n",
            "WARNING:tensorflow:Model's `__init__()` arguments contain non-serializable objects. Please implement a `get_config()` method in the subclassed Model for proper saving and loading. Defaulting to empty config.\n",
            "WARNING:tensorflow:Model's `__init__()` arguments contain non-serializable objects. Please implement a `get_config()` method in the subclassed Model for proper saving and loading. Defaulting to empty config.\n"
          ]
        },
        {
          "output_type": "stream",
          "name": "stdout",
          "text": [
            "\b\b\b\b\b\b\b\b\b\b\b\b\b\b\b\b\b\b\b\b\b\b\b\b\b\b\b\b\b\b\b\b\b\b\b\b\b\b\b\b\b\b\b\b\b\b\b\b\b\b\b\b\b\b\b\b\b\b\b\b\b\b\b\b\b\b\b\b\b\b\b\b\b\b\b\b\b\b\b\b\b\b\r55/55 [==============================] - 85s 2s/step - loss: 1.3416 - accuracy: 0.9953 - val_loss_val: 1.7770 - val_val_accuracy: 0.9944\n",
            "Epoch 18/20\n",
            "55/55 [==============================] - ETA: 0s - loss: 1.3367 - accuracy: 0.9954\n",
            "Epoch 18: accuracy improved from 0.99535 to 0.99544, saving model to /content/drive/MyDrive/MasterThesis/BiGRU_CRF/CoNLL/Glove/Att_1/ner-bi-GRU-tf2crf-model-1.00.tf\n"
          ]
        },
        {
          "output_type": "stream",
          "name": "stderr",
          "text": [
            "WARNING:tensorflow:Model's `__init__()` arguments contain non-serializable objects. Please implement a `get_config()` method in the subclassed Model for proper saving and loading. Defaulting to empty config.\n",
            "WARNING:tensorflow:Model's `__init__()` arguments contain non-serializable objects. Please implement a `get_config()` method in the subclassed Model for proper saving and loading. Defaulting to empty config.\n",
            "WARNING:absl:Found untraced functions such as dense_1_layer_call_fn, dense_1_layer_call_and_return_conditional_losses while saving (showing 2 of 2). These functions will not be directly callable after loading.\n",
            "WARNING:tensorflow:Model's `__init__()` arguments contain non-serializable objects. Please implement a `get_config()` method in the subclassed Model for proper saving and loading. Defaulting to empty config.\n",
            "WARNING:tensorflow:Model's `__init__()` arguments contain non-serializable objects. Please implement a `get_config()` method in the subclassed Model for proper saving and loading. Defaulting to empty config.\n"
          ]
        },
        {
          "output_type": "stream",
          "name": "stdout",
          "text": [
            "\b\b\b\b\b\b\b\b\b\b\b\b\b\b\b\b\b\b\b\b\b\b\b\b\b\b\b\b\b\b\b\b\b\b\b\b\b\b\b\b\b\b\b\b\b\b\b\b\b\b\b\b\b\b\b\b\b\b\b\b\b\b\b\b\b\b\b\b\b\b\b\b\b\b\b\b\b\b\b\b\b\b\r55/55 [==============================] - 86s 2s/step - loss: 1.3367 - accuracy: 0.9954 - val_loss_val: 1.7170 - val_val_accuracy: 0.9947\n",
            "Epoch 19/20\n",
            "55/55 [==============================] - ETA: 0s - loss: 1.3115 - accuracy: 0.9955\n",
            "Epoch 19: accuracy improved from 0.99544 to 0.99546, saving model to /content/drive/MyDrive/MasterThesis/BiGRU_CRF/CoNLL/Glove/Att_1/ner-bi-GRU-tf2crf-model-1.00.tf\n"
          ]
        },
        {
          "output_type": "stream",
          "name": "stderr",
          "text": [
            "WARNING:tensorflow:Model's `__init__()` arguments contain non-serializable objects. Please implement a `get_config()` method in the subclassed Model for proper saving and loading. Defaulting to empty config.\n",
            "WARNING:tensorflow:Model's `__init__()` arguments contain non-serializable objects. Please implement a `get_config()` method in the subclassed Model for proper saving and loading. Defaulting to empty config.\n",
            "WARNING:absl:Found untraced functions such as dense_1_layer_call_fn, dense_1_layer_call_and_return_conditional_losses while saving (showing 2 of 2). These functions will not be directly callable after loading.\n",
            "WARNING:tensorflow:Model's `__init__()` arguments contain non-serializable objects. Please implement a `get_config()` method in the subclassed Model for proper saving and loading. Defaulting to empty config.\n",
            "WARNING:tensorflow:Model's `__init__()` arguments contain non-serializable objects. Please implement a `get_config()` method in the subclassed Model for proper saving and loading. Defaulting to empty config.\n"
          ]
        },
        {
          "output_type": "stream",
          "name": "stdout",
          "text": [
            "\b\b\b\b\b\b\b\b\b\b\b\b\b\b\b\b\b\b\b\b\b\b\b\b\b\b\b\b\b\b\b\b\b\b\b\b\b\b\b\b\b\b\b\b\b\b\b\b\b\b\b\b\b\b\b\b\b\b\b\b\b\b\b\b\b\b\b\b\b\b\b\b\b\b\b\b\b\b\b\b\b\b\r55/55 [==============================] - 83s 2s/step - loss: 1.3115 - accuracy: 0.9955 - val_loss_val: 1.8012 - val_val_accuracy: 0.9944\n",
            "Epoch 20/20\n",
            "55/55 [==============================] - ETA: 0s - loss: 1.3091 - accuracy: 0.9954\n",
            "Epoch 20: accuracy did not improve from 0.99546\n",
            "55/55 [==============================] - 71s 1s/step - loss: 1.3091 - accuracy: 0.9954 - val_loss_val: 1.6853 - val_val_accuracy: 0.9946\n"
          ]
        }
      ]
    },
    {
      "cell_type": "code",
      "source": [
        "# Plot training & validation accuracy values\n",
        "plt.plot(history.history['accuracy'])\n",
        "plt.plot(history.history['val_val_accuracy'])\n",
        "plt.title('Model accuracy')\n",
        "plt.ylabel('Accuracy')\n",
        "plt.xlabel('Epoch')\n",
        "plt.legend(['Train', 'Test'])\n",
        "plt.show()\n",
        "\n",
        "# Plot training & validation loss values\n",
        "plt.plot(history.history['loss'])\n",
        "plt.plot(history.history['val_loss_val'])\n",
        "plt.title('Model loss')\n",
        "plt.ylabel('Loss')\n",
        "plt.xlabel('Epoch')\n",
        "plt.legend(['Train', 'Test'], loc='upper left')\n",
        "plt.show()"
      ],
      "metadata": {
        "id": "c6y7Bsa6RRf6",
        "colab": {
          "base_uri": "https://localhost:8080/",
          "height": 927
        },
        "outputId": "1301d8d1-95f6-4cc9-fb24-8bb916171ae9"
      },
      "execution_count": null,
      "outputs": [
        {
          "output_type": "display_data",
          "data": {
            "text/plain": [
              "<Figure size 640x480 with 1 Axes>"
            ],
            "image/png": "[encoded data removed]"
          },
          "metadata": {}
        },
        {
          "output_type": "display_data",
          "data": {
            "text/plain": [
              "<Figure size 640x480 with 1 Axes>"
            ],
            "image/png": "[encoded data removed]"
          },
          "metadata": {}
        }
      ]
    },
    {
      "cell_type": "code",
      "source": [
        "# Prediction\n",
        "pred_cat = model.predict(X_test, verbose=1)\n",
        "y_te_true = np.argmax(y_test, -1)"
      ],
      "metadata": {
        "id": "4cwW79t-RbSQ",
        "colab": {
          "base_uri": "https://localhost:8080/"
        },
        "outputId": "e69bdb6f-16eb-48c3-ca53-75383e2635ba"
      },
      "execution_count": null,
      "outputs": [
        {
          "output_type": "stream",
          "name": "stdout",
          "text": [
            "108/108 [==============================] - 18s 159ms/step\n"
          ]
        }
      ]
    },
    {
      "cell_type": "code",
      "source": [
        "#New classification report\n",
        "from sklearn_crfsuite.utils import flatten\n",
        "from functools import wraps\n",
        "\n",
        "\n",
        "def _flattens_y(func):\n",
        "    @wraps(func)\n",
        "    def wrapper(y_true, y_pred, *args, **kwargs):\n",
        "        y_true_flat = flatten(y_true)\n",
        "        y_pred_flat = flatten(y_pred)\n",
        "        return func(y_true_flat, y_pred_flat, *args, **kwargs)\n",
        "    return wrapper\n",
        "\n",
        "\n",
        "@_flattens_y\n",
        "def flat_classification_report(y_true, y_pred, labels=None, target_names=None, **kwargs):\n",
        "    \"\"\"\n",
        "    Return classification report for sequence items.\n",
        "    \"\"\"\n",
        "    from sklearn import metrics\n",
        "    return metrics.classification_report(y_true, y_pred, labels=labels, target_names=target_names, **kwargs)"
      ],
      "metadata": {
        "id": "Uxrc-aN7drwr"
      },
      "execution_count": null,
      "outputs": []
    },
    {
      "cell_type": "code",
      "source": [
        "#Flat Classification report\n",
        "report = flat_classification_report(y_te_true, pred_cat, target_names=tags)\n",
        "print(report)"
      ],
      "metadata": {
        "colab": {
          "base_uri": "https://localhost:8080/"
        },
        "id": "ZYIOtrfT1lXO",
        "outputId": "d9fb3a75-8382-4e73-fe0c-0e14c9e5a63d"
      },
      "execution_count": null,
      "outputs": [
        {
          "output_type": "stream",
          "name": "stdout",
          "text": [
            "              precision    recall  f1-score   support\n",
            "\n",
            "         PAD       1.00      1.00      1.00    355050\n",
            "       B-PER       0.90      0.80      0.85       957\n",
            "      B-MISC       0.85      0.83      0.84       570\n",
            "       B-ORG       0.84      0.80      0.82      1320\n",
            "           O       0.98      0.99      0.99     29260\n",
            "      I-MISC       0.59      0.58      0.58       196\n",
            "       B-LOC       0.87      0.91      0.89      1443\n",
            "       I-LOC       0.73      0.72      0.73       236\n",
            "       I-ORG       0.71      0.68      0.70       737\n",
            "       I-PER       0.74      0.80      0.77       420\n",
            "\n",
            "    accuracy                           1.00    390189\n",
            "   macro avg       0.82      0.81      0.82    390189\n",
            "weighted avg       1.00      1.00      1.00    390189\n",
            "\n"
          ]
        }
      ]
    },
    {
      "cell_type": "code",
      "source": [
        "i = np.random.randint(0,X_test.shape[0]) # choose a random number between 0 and len(X_te)\n",
        "p = model.predict(np.array([X_test[i]]))\n",
        "true = np.argmax(y_test[i], -1)\n",
        "\n",
        "print(\"Sample number {} of {} (Test Set)\".format(i, X_test.shape[0]))\n",
        "# Visualization\n",
        "print(\"{:15}||{:5}||{}\".format(\"Word\", \"True\", \"Pred\"))\n",
        "print(30 * \"=\")\n",
        "for w, t, pred in zip(X_test[i], true, p[0]):\n",
        "    if token.index_word.get(w) != 'pad':\n",
        "        print(\"{:15}: {:5} {}\".format(token.index_word.get(w), idx2tag[t], idx2tag[pred]))"
      ],
      "metadata": {
        "colab": {
          "base_uri": "https://localhost:8080/"
        },
        "id": "TrzNAeODRcep",
        "outputId": "75f992c2-5965-4596-8d2c-c4385fd54800"
      },
      "execution_count": null,
      "outputs": [
        {
          "output_type": "stream",
          "name": "stdout",
          "text": [
            "1/1 [==============================] - 0s 175ms/step\n",
            "Sample number 235 of 3453 (Test Set)\n",
            "Word           ||True ||Pred\n",
            "==============================\n",
            "australia      : B-LOC B-LOC\n",
            "gave           : O     O\n",
            "brian          : B-PER B-PER\n",
            "lara           : I-PER I-PER\n",
            "another        : O     O\n",
            "reason         : O     O\n",
            "to             : O     O\n",
            "be             : O     O\n",
            "unk            : O     O\n",
            "when           : O     O\n",
            "they           : O     O\n",
            "beat           : O     O\n",
            "west           : B-LOC B-LOC\n",
            "indies         : I-LOC I-LOC\n",
            "by             : O     O\n",
            "five           : O     O\n",
            "wickets        : O     O\n",
            "in             : O     O\n",
            "the            : O     O\n",
            "opening        : O     O\n",
            "world          : B-MISC O\n",
            "series         : I-MISC O\n",
            "limited        : O     O\n",
            "overs          : O     O\n",
            "match          : O     O\n",
            "on             : O     O\n",
            "friday         : O     O\n",
            "unk            : O     O\n"
          ]
        }
      ]
    }
  ]
}