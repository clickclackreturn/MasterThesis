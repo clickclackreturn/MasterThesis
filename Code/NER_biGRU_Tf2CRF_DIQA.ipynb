{
  "nbformat": 4,
  "nbformat_minor": 0,
  "metadata": {
    "colab": {
      "provenance": []
    },
    "kernelspec": {
      "name": "python3",
      "display_name": "Python 3"
    },
    "language_info": {
      "name": "python"
    },
    "accelerator": "GPU",
    "gpuClass": "standard"
  },
  "cells": [
    {
      "cell_type": "code",
      "source": [
        "from google.colab import drive\n",
        "drive.mount('/content/drive')"
      ],
      "metadata": {
        "colab": {
          "base_uri": "https://localhost:8080/"
        },
        "id": "sCIw5N3eGrSL",
        "outputId": "a08d5708-a5af-4371-ef5c-13acf52407f1"
      },
      "execution_count": null,
      "outputs": [
        {
          "output_type": "stream",
          "name": "stdout",
          "text": [
            "Mounted at /content/drive\n"
          ]
        }
      ]
    },
    {
      "cell_type": "code",
      "source": [
        "!pip install tf2crf"
      ],
      "metadata": {
        "id": "3OY8Cg2AnODr"
      },
      "execution_count": null,
      "outputs": []
    },
    {
      "cell_type": "code",
      "source": [
        "import numpy as np\n",
        "import pandas as pd"
      ],
      "metadata": {
        "id": "CzqUIWrwYjyU"
      },
      "execution_count": null,
      "outputs": []
    },
    {
      "cell_type": "code",
      "source": [
        "class SentenceGetter(object):\n",
        "    \n",
        "    def __init__(self, filenames_list):\n",
        "        self.sentences = []\n",
        "        self.words = set()\n",
        "        self.tags = set()\n",
        "        for filename in filenames_list:\n",
        "          with open(filename) as f:\n",
        "              sentence = []\n",
        "              for line in f:\n",
        "                  line = line.strip()\n",
        "                  if (len(line) == 0 or line.startswith(\"-DOCSTART-\") or line.startswith(\"......\")):\n",
        "                      if len(sentence) != 0:\n",
        "                        self.sentences.append(sentence)\n",
        "                        sentence = []\n",
        "                      continue\n",
        "                  else:\n",
        "                      ls = line.split(' ')\n",
        "                      word, tag = ls[0],ls[3]\n",
        "                      self.words.add(word)\n",
        "                      self.tags.add(tag)\n",
        "                      sentence.append((word,tag))"
      ],
      "metadata": {
        "id": "Q_Vj6k2hWrHn"
      },
      "execution_count": null,
      "outputs": []
    },
    {
      "cell_type": "code",
      "source": [
        "#MCHP_dataset_1\n",
        "files = ['/content/drive/MyDrive/MasterThesis/NER/MCHP/dataset_1/cn569258-pin.conll', '/content/drive/MyDrive/MasterThesis/NER/MCHP/dataset_2/project-13-at-2022-06-14-08-59-1d16c7ec.conll']\n",
        "getter = SentenceGetter(files)\n",
        "sentences = getter.sentences\n",
        "words = getter.words\n",
        "tags = list(getter.tags)"
      ],
      "metadata": {
        "id": "DuwbbfMQXkMg"
      },
      "execution_count": null,
      "outputs": []
    },
    {
      "cell_type": "code",
      "source": [
        "words = list(words) #set to list convert"
      ],
      "metadata": {
        "id": "DElltJ4-XkYd"
      },
      "execution_count": null,
      "outputs": []
    },
    {
      "cell_type": "code",
      "source": [
        "len(words)"
      ],
      "metadata": {
        "colab": {
          "base_uri": "https://localhost:8080/"
        },
        "id": "Z9-lGL1t2pnE",
        "outputId": "90b46dec-ce6f-4375-970a-ef6d1cf0a105"
      },
      "execution_count": null,
      "outputs": [
        {
          "output_type": "execute_result",
          "data": {
            "text/plain": [
              "10007"
            ]
          },
          "metadata": {},
          "execution_count": 7
        }
      ]
    },
    {
      "cell_type": "code",
      "source": [
        "tags"
      ],
      "metadata": {
        "colab": {
          "base_uri": "https://localhost:8080/"
        },
        "id": "G6n6hJiDu4La",
        "outputId": "40ed55bf-b651-4efb-d79a-517a131c1fe3"
      },
      "execution_count": null,
      "outputs": [
        {
          "output_type": "execute_result",
          "data": {
            "text/plain": [
              "['I-Pin', 'O', 'B-Pin']"
            ]
          },
          "metadata": {},
          "execution_count": 8
        }
      ]
    },
    {
      "cell_type": "code",
      "source": [
        "len(sentences)"
      ],
      "metadata": {
        "colab": {
          "base_uri": "https://localhost:8080/"
        },
        "id": "3gO5Vk4U4s2s",
        "outputId": "8282c15a-bfbf-4252-938c-8e77618315b9"
      },
      "execution_count": null,
      "outputs": [
        {
          "output_type": "execute_result",
          "data": {
            "text/plain": [
              "545"
            ]
          },
          "metadata": {},
          "execution_count": 15
        }
      ]
    },
    {
      "cell_type": "code",
      "source": [
        "tags.insert(0,'PAD')"
      ],
      "metadata": {
        "id": "SzMmUvlVjgpv"
      },
      "execution_count": null,
      "outputs": []
    },
    {
      "cell_type": "code",
      "source": [
        "n_words = len(words)\n",
        "n_tags = len(tags)"
      ],
      "metadata": {
        "id": "zpeU1OpJZaCY"
      },
      "execution_count": null,
      "outputs": []
    },
    {
      "cell_type": "code",
      "source": [
        "n_words, n_tags"
      ],
      "metadata": {
        "colab": {
          "base_uri": "https://localhost:8080/"
        },
        "id": "KyCeDRvvY78Y",
        "outputId": "e8a1b099-3e73-4704-ca95-fc1e627a82ef"
      },
      "execution_count": null,
      "outputs": [
        {
          "output_type": "execute_result",
          "data": {
            "text/plain": [
              "(10007, 4)"
            ]
          },
          "metadata": {},
          "execution_count": 20
        }
      ]
    },
    {
      "cell_type": "code",
      "source": [
        "tags"
      ],
      "metadata": {
        "colab": {
          "base_uri": "https://localhost:8080/"
        },
        "id": "kzX1ndMzkq35",
        "outputId": "68434624-2e0f-441c-b189-62ba44c5043a"
      },
      "execution_count": null,
      "outputs": [
        {
          "output_type": "execute_result",
          "data": {
            "text/plain": [
              "['PAD', 'I-Pin', 'O', 'B-Pin']"
            ]
          },
          "metadata": {},
          "execution_count": 11
        }
      ]
    },
    {
      "cell_type": "code",
      "source": [
        "from future.utils import iteritems\n",
        "\n",
        "word2idx = {w: i+1 for i, w in enumerate(words)}\n",
        "\n",
        "word2idx[\"PAD\"] = 0 # Padding\n",
        "\n",
        "tag2idx = {t: i for i, t in enumerate(tags)}\n",
        "\n",
        "idx2tag = {v: k for k, v in iteritems(tag2idx)}"
      ],
      "metadata": {
        "id": "oSn2WSh_ZgSl"
      },
      "execution_count": null,
      "outputs": []
    },
    {
      "cell_type": "code",
      "source": [
        "tag2idx"
      ],
      "metadata": {
        "colab": {
          "base_uri": "https://localhost:8080/"
        },
        "id": "zlLJ1eF3kw0j",
        "outputId": "6a3fabe7-2477-4955-f41c-a40350838024"
      },
      "execution_count": null,
      "outputs": [
        {
          "output_type": "execute_result",
          "data": {
            "text/plain": [
              "{'PAD': 0, 'I-Pin': 1, 'O': 2, 'B-Pin': 3}"
            ]
          },
          "metadata": {},
          "execution_count": 13
        }
      ]
    },
    {
      "cell_type": "code",
      "source": [
        "#Feature and Label separation\n",
        "from tensorflow.keras.preprocessing.sequence import pad_sequences\n",
        "from tensorflow.keras.utils import to_categorical\n",
        "\n",
        "maxlen = max([len(s) for s in sentences])\n",
        "\n",
        "total_feature = [[word2idx[w[0]] for w in s] for s in sentences]\n",
        "X = pad_sequences(maxlen=maxlen, sequences=total_feature, dtype='int32', padding=\"post\", value=word2idx[\"PAD\"])\n",
        "total_label = [[tag2idx[w[1]] for w in s] for s in sentences]\n",
        "y_label = pad_sequences(maxlen=maxlen, sequences=total_label, dtype='int32', padding=\"post\", value=tag2idx[\"PAD\"])\n",
        "\n",
        "Y = [to_categorical(i, num_classes=n_tags) for i in y_label]"
      ],
      "metadata": {
        "id": "TTcPODfsvt5K"
      },
      "execution_count": null,
      "outputs": []
    },
    {
      "cell_type": "code",
      "source": [
        "print(\n",
        "        'X_tokens length:', len(X),\n",
        "        '\\nY_tags:', len(Y)\n",
        "    )"
      ],
      "metadata": {
        "colab": {
          "base_uri": "https://localhost:8080/"
        },
        "id": "rRQC9ndXxbtO",
        "outputId": "4186f46b-543b-4193-f227-5014498e948e"
      },
      "execution_count": null,
      "outputs": [
        {
          "output_type": "stream",
          "name": "stdout",
          "text": [
            "X_tokens length: 545 \n",
            "Y_tags: 545\n"
          ]
        }
      ]
    },
    {
      "cell_type": "code",
      "source": [
        "for token, tag in zip(X[0], Y[0]):\n",
        "    print('%s\\t%s' % (token, tag))"
      ],
      "metadata": {
        "id": "WtOMEQFIdNNe"
      },
      "execution_count": null,
      "outputs": []
    },
    {
      "cell_type": "code",
      "source": [
        "#devide the data into train test valid\n",
        "#choosing 70, 20, 10 ratio\n",
        "\n",
        "from sklearn.model_selection import train_test_split\n",
        "X_data, X_test, Y_data, y_test = train_test_split(X,Y,test_size=0.20,shuffle=True, random_state=42)\n",
        "X_train, X_val, y_train, y_val = train_test_split(X_data,Y_data,test_size=0.10,shuffle=True, random_state=42)\n",
        "\n",
        "\n",
        "print(\n",
        "        '\\X_tokens length:', len(X),\n",
        "        '\\ntrain_tokens length:', len(X_train),\n",
        "        '\\nval_tokens length:', len(X_val),\n",
        "        '\\ntest_tokens length:', len(X_test),\n",
        "        '\\n\\nY_tags length:', len(Y),\n",
        "        '\\ntrain_tags:', len(y_train),\n",
        "        '\\nval_tags:', len(y_val),\n",
        "        '\\ntest_tags:', len(y_test)\n",
        "    )"
      ],
      "metadata": {
        "colab": {
          "base_uri": "https://localhost:8080/"
        },
        "id": "CbIF0r4CyJVj",
        "outputId": "d0d83fab-41b3-4c27-825c-131e16e2db16"
      },
      "execution_count": null,
      "outputs": [
        {
          "output_type": "stream",
          "name": "stdout",
          "text": [
            "\\X_tokens length: 545 \n",
            "train_tokens length: 392 \n",
            "val_tokens length: 44 \n",
            "test_tokens length: 109 \n",
            "\n",
            "Y_tags length: 545 \n",
            "train_tags: 392 \n",
            "val_tags: 44 \n",
            "test_tags: 109\n"
          ]
        }
      ]
    },
    {
      "cell_type": "code",
      "source": [
        "np.array(y_test).shape"
      ],
      "metadata": {
        "colab": {
          "base_uri": "https://localhost:8080/"
        },
        "id": "Ru9sw-txOBwp",
        "outputId": "db469083-376a-4c91-cb84-0f9d0c817099"
      },
      "execution_count": null,
      "outputs": [
        {
          "output_type": "execute_result",
          "data": {
            "text/plain": [
              "(109, 762, 4)"
            ]
          },
          "metadata": {},
          "execution_count": 26
        }
      ]
    },
    {
      "cell_type": "markdown",
      "source": [
        "#Model"
      ],
      "metadata": {
        "id": "BSsrdXjWXlbE"
      }
    },
    {
      "cell_type": "code",
      "source": [
        "import tensorflow"
      ],
      "metadata": {
        "id": "nOdEsLKZJsGD"
      },
      "execution_count": null,
      "outputs": []
    },
    {
      "cell_type": "code",
      "source": [
        "from numpy.random import seed\n",
        "seed(1)\n",
        "tensorflow.random.set_seed(2)"
      ],
      "metadata": {
        "id": "AkaIkvtkXp12"
      },
      "execution_count": null,
      "outputs": []
    },
    {
      "cell_type": "code",
      "source": [
        "input_dim = n_words+1\n",
        "input_length = maxlen\n",
        "n_tags = len(tag2idx)\n",
        "print('input_dim: ', input_dim, '\\ninput_length: ', input_length, '\\nn_tags: ', n_tags)"
      ],
      "metadata": {
        "colab": {
          "base_uri": "https://localhost:8080/"
        },
        "id": "umCKjG-aXsej",
        "outputId": "da9df135-dcad-4e28-b2cd-f6a941458d84"
      },
      "execution_count": null,
      "outputs": [
        {
          "output_type": "stream",
          "name": "stdout",
          "text": [
            "input_dim:  10008 \n",
            "input_length:  762 \n",
            "n_tags:  4\n"
          ]
        }
      ]
    },
    {
      "cell_type": "code",
      "source": [
        "import numpy as np\n",
        "import tensorflow.keras as kk\n",
        "from tensorflow.keras import Sequential, Model, Input\n",
        "from tensorflow.keras.layers import GRU, Embedding, Dense, TimeDistributed, Dropout, Bidirectional\n",
        "from tensorflow.keras.utils import plot_model\n",
        "from tf2crf import CRF, ModelWithCRFLoss"
      ],
      "metadata": {
        "id": "BJXiC6e-XkbY"
      },
      "execution_count": null,
      "outputs": []
    },
    {
      "cell_type": "code",
      "source": [
        "word_embedding_size = 40\n",
        "\n",
        "units_size = 50\n",
        "\n",
        "#input layer\n",
        "input = Input(shape=(maxlen,))\n",
        "\n",
        "# Embedding Layer\n",
        "embed = Embedding(input_dim=input_dim, output_dim=word_embedding_size, input_length=maxlen, mask_zero=True)(input)#Construct the sequence of layers-functional api\n",
        "\n",
        "# BI-LSTM Layer\n",
        "model = Bidirectional(GRU(units=units_size, \n",
        "                           return_sequences=True, \n",
        "                           dropout=0.5, \n",
        "                           recurrent_dropout=0.5, \n",
        "                           kernel_initializer=kk.initializers.he_normal()))(embed)\n",
        "\n",
        "# TimeDistributed Layer\n",
        "model = TimeDistributed(Dense(units_size, activation=\"relu\"))(model) \n",
        "\n",
        "# CRF Layer\n",
        "crf = CRF(units=n_tags)\n",
        "\n",
        "output = crf(model)\n",
        "\n",
        "base_model = Model(input, output)\n",
        "base_model.summary()\n",
        "\n",
        "#***********Tf2CRF model with CRF loss implementation************#\n",
        "\n",
        "model = ModelWithCRFLoss(base_model, sparse_target=False)"
      ],
      "metadata": {
        "colab": {
          "base_uri": "https://localhost:8080/"
        },
        "id": "zbI8r9PdnIjg",
        "outputId": "3fd5f17f-74bc-4bc3-82f1-a9da112d304a"
      },
      "execution_count": null,
      "outputs": [
        {
          "output_type": "stream",
          "name": "stdout",
          "text": [
            "Model: \"model\"\n",
            "_________________________________________________________________\n",
            " Layer (type)                Output Shape              Param #   \n",
            "=================================================================\n",
            " input_1 (InputLayer)        [(None, 762)]             0         \n",
            "                                                                 \n",
            " embedding (Embedding)       (None, 762, 40)           400320    \n",
            "                                                                 \n",
            " bidirectional (Bidirectiona  (None, 762, 100)         27600     \n",
            " l)                                                              \n",
            "                                                                 \n",
            " time_distributed (TimeDistr  (None, 762, 50)          5050      \n",
            " ibuted)                                                         \n",
            "                                                                 \n",
            " crf (CRF)                   ((None, 762),             220       \n",
            "                              (None, 762, 4),                    \n",
            "                              (None,),                           \n",
            "                              (4, 4))                            \n",
            "                                                                 \n",
            "=================================================================\n",
            "Total params: 433,190\n",
            "Trainable params: 433,190\n",
            "Non-trainable params: 0\n",
            "_________________________________________________________________\n"
          ]
        }
      ]
    },
    {
      "cell_type": "code",
      "source": [
        "from keras.callbacks import ModelCheckpoint\n",
        "\n",
        "#Optimiser \n",
        "# adam = tf.keras.optimizers.Adam(learning_rate=0.001, beta_1=0.9, beta_2=0.999)\n",
        "\n",
        "# Compile model\n",
        "# model.compile(optimizer=adam)\n",
        "\n",
        "\n",
        "model.compile(optimizer=\"rmsprop\")\n",
        "\n",
        "\n",
        "\n",
        "# Saving the best model only\n",
        "filepath=\"ner-bi-gru-tf2crf-model-{accuracy:.2f}.tf\"\n",
        "checkpoint = ModelCheckpoint(filepath, monitor='accuracy', verbose=1, save_best_only=True, mode='max')\n",
        "callbacks_list = [checkpoint]\n",
        "\n",
        "history = model.fit(X_train, np.array(y_train), validation_data = (X_val, np.array(y_val)), batch_size=32, epochs=15, verbose=1, callbacks=callbacks_list)"
      ],
      "metadata": {
        "colab": {
          "base_uri": "https://localhost:8080/"
        },
        "id": "bQrI16lHIU77",
        "outputId": "257985b5-47eb-4ac9-82b9-046d5f5aa36b"
      },
      "execution_count": null,
      "outputs": [
        {
          "output_type": "stream",
          "name": "stdout",
          "text": [
            "Epoch 1/15\n",
            "13/13 [==============================] - ETA: 0s - loss: 175.9023 - accuracy: 0.6734\n",
            "Epoch 1: accuracy improved from -inf to 0.67340, saving model to ner-bi-gru-tf2crf-model-0.67.tf\n"
          ]
        },
        {
          "output_type": "stream",
          "name": "stderr",
          "text": [
            "WARNING:tensorflow:Model's `__init__()` arguments contain non-serializable objects. Please implement a `get_config()` method in the subclassed Model for proper saving and loading. Defaulting to empty config.\n",
            "WARNING:tensorflow:Model's `__init__()` arguments contain non-serializable objects. Please implement a `get_config()` method in the subclassed Model for proper saving and loading. Defaulting to empty config.\n",
            "WARNING:absl:Found untraced functions such as _update_step_xla, dense_1_layer_call_fn, dense_1_layer_call_and_return_conditional_losses while saving (showing 3 of 3). These functions will not be directly callable after loading.\n",
            "WARNING:tensorflow:Model's `__init__()` arguments contain non-serializable objects. Please implement a `get_config()` method in the subclassed Model for proper saving and loading. Defaulting to empty config.\n",
            "WARNING:tensorflow:Model's `__init__()` arguments contain non-serializable objects. Please implement a `get_config()` method in the subclassed Model for proper saving and loading. Defaulting to empty config.\n"
          ]
        },
        {
          "output_type": "stream",
          "name": "stdout",
          "text": [
            "\b\b\b\b\b\b\b\b\b\b\b\b\b\b\b\b\b\b\b\b\b\b\b\b\b\b\b\b\b\b\b\b\b\b\b\b\b\b\b\b\b\b\b\b\b\b\b\b\b\b\b\b\b\b\b\b\b\b\b\b\b\b\b\b\b\b\b\b\b\b\b\b\b\b\b\b\b\b\b\b\b\b\b\b\r13/13 [==============================] - 78s 5s/step - loss: 175.9023 - accuracy: 0.6734 - val_loss_val: 22.3279 - val_val_accuracy: 0.9830\n",
            "Epoch 2/15\n",
            "13/13 [==============================] - ETA: 0s - loss: 16.8826 - accuracy: 0.9868\n",
            "Epoch 2: accuracy improved from 0.67340 to 0.98675, saving model to ner-bi-gru-tf2crf-model-0.99.tf\n"
          ]
        },
        {
          "output_type": "stream",
          "name": "stderr",
          "text": [
            "WARNING:tensorflow:Model's `__init__()` arguments contain non-serializable objects. Please implement a `get_config()` method in the subclassed Model for proper saving and loading. Defaulting to empty config.\n",
            "WARNING:tensorflow:Model's `__init__()` arguments contain non-serializable objects. Please implement a `get_config()` method in the subclassed Model for proper saving and loading. Defaulting to empty config.\n",
            "WARNING:absl:Found untraced functions such as _update_step_xla, dense_1_layer_call_fn, dense_1_layer_call_and_return_conditional_losses while saving (showing 3 of 3). These functions will not be directly callable after loading.\n",
            "WARNING:tensorflow:Model's `__init__()` arguments contain non-serializable objects. Please implement a `get_config()` method in the subclassed Model for proper saving and loading. Defaulting to empty config.\n",
            "WARNING:tensorflow:Model's `__init__()` arguments contain non-serializable objects. Please implement a `get_config()` method in the subclassed Model for proper saving and loading. Defaulting to empty config.\n"
          ]
        },
        {
          "output_type": "stream",
          "name": "stdout",
          "text": [
            "\b\b\b\b\b\b\b\b\b\b\b\b\b\b\b\b\b\b\b\b\b\b\b\b\b\b\b\b\b\b\b\b\b\b\b\b\b\b\b\b\b\b\b\b\b\b\b\b\b\b\b\b\b\b\b\b\b\b\b\b\b\b\b\b\b\b\b\b\b\b\b\b\b\b\b\b\b\b\b\b\b\b\b\r13/13 [==============================] - 52s 4s/step - loss: 16.8826 - accuracy: 0.9868 - val_loss_val: 19.9523 - val_val_accuracy: 0.9830\n",
            "Epoch 3/15\n",
            "13/13 [==============================] - ETA: 0s - loss: 15.0550 - accuracy: 0.9868\n",
            "Epoch 3: accuracy improved from 0.98675 to 0.98681, saving model to ner-bi-gru-tf2crf-model-0.99.tf\n"
          ]
        },
        {
          "output_type": "stream",
          "name": "stderr",
          "text": [
            "WARNING:tensorflow:Model's `__init__()` arguments contain non-serializable objects. Please implement a `get_config()` method in the subclassed Model for proper saving and loading. Defaulting to empty config.\n",
            "WARNING:tensorflow:Model's `__init__()` arguments contain non-serializable objects. Please implement a `get_config()` method in the subclassed Model for proper saving and loading. Defaulting to empty config.\n",
            "WARNING:absl:Found untraced functions such as _update_step_xla, dense_1_layer_call_fn, dense_1_layer_call_and_return_conditional_losses while saving (showing 3 of 3). These functions will not be directly callable after loading.\n",
            "WARNING:tensorflow:Model's `__init__()` arguments contain non-serializable objects. Please implement a `get_config()` method in the subclassed Model for proper saving and loading. Defaulting to empty config.\n",
            "WARNING:tensorflow:Model's `__init__()` arguments contain non-serializable objects. Please implement a `get_config()` method in the subclassed Model for proper saving and loading. Defaulting to empty config.\n"
          ]
        },
        {
          "output_type": "stream",
          "name": "stdout",
          "text": [
            "\b\b\b\b\b\b\b\b\b\b\b\b\b\b\b\b\b\b\b\b\b\b\b\b\b\b\b\b\b\b\b\b\b\b\b\b\b\b\b\b\b\b\b\b\b\b\b\b\b\b\b\b\b\b\b\b\b\b\b\b\b\b\b\b\b\b\b\b\b\b\b\b\b\b\b\b\b\b\b\b\b\b\b\r13/13 [==============================] - 53s 4s/step - loss: 15.0550 - accuracy: 0.9868 - val_loss_val: 19.1294 - val_val_accuracy: 0.9830\n",
            "Epoch 4/15\n",
            "13/13 [==============================] - ETA: 0s - loss: 11.7308 - accuracy: 0.9869\n",
            "Epoch 4: accuracy improved from 0.98681 to 0.98695, saving model to ner-bi-gru-tf2crf-model-0.99.tf\n"
          ]
        },
        {
          "output_type": "stream",
          "name": "stderr",
          "text": [
            "WARNING:tensorflow:Model's `__init__()` arguments contain non-serializable objects. Please implement a `get_config()` method in the subclassed Model for proper saving and loading. Defaulting to empty config.\n",
            "WARNING:tensorflow:Model's `__init__()` arguments contain non-serializable objects. Please implement a `get_config()` method in the subclassed Model for proper saving and loading. Defaulting to empty config.\n",
            "WARNING:absl:Found untraced functions such as _update_step_xla, dense_1_layer_call_fn, dense_1_layer_call_and_return_conditional_losses while saving (showing 3 of 3). These functions will not be directly callable after loading.\n",
            "WARNING:tensorflow:Model's `__init__()` arguments contain non-serializable objects. Please implement a `get_config()` method in the subclassed Model for proper saving and loading. Defaulting to empty config.\n",
            "WARNING:tensorflow:Model's `__init__()` arguments contain non-serializable objects. Please implement a `get_config()` method in the subclassed Model for proper saving and loading. Defaulting to empty config.\n"
          ]
        },
        {
          "output_type": "stream",
          "name": "stdout",
          "text": [
            "\b\b\b\b\b\b\b\b\b\b\b\b\b\b\b\b\b\b\b\b\b\b\b\b\b\b\b\b\b\b\b\b\b\b\b\b\b\b\b\b\b\b\b\b\b\b\b\b\b\b\b\b\b\b\b\b\b\b\b\b\b\b\b\b\b\b\b\b\b\b\b\b\b\b\b\b\b\b\b\b\b\b\b\r13/13 [==============================] - 57s 5s/step - loss: 11.7308 - accuracy: 0.9869 - val_loss_val: 13.9356 - val_val_accuracy: 0.9832\n",
            "Epoch 5/15\n",
            "13/13 [==============================] - ETA: 0s - loss: 9.6737 - accuracy: 0.9871\n",
            "Epoch 5: accuracy improved from 0.98695 to 0.98713, saving model to ner-bi-gru-tf2crf-model-0.99.tf\n"
          ]
        },
        {
          "output_type": "stream",
          "name": "stderr",
          "text": [
            "WARNING:tensorflow:Model's `__init__()` arguments contain non-serializable objects. Please implement a `get_config()` method in the subclassed Model for proper saving and loading. Defaulting to empty config.\n",
            "WARNING:tensorflow:Model's `__init__()` arguments contain non-serializable objects. Please implement a `get_config()` method in the subclassed Model for proper saving and loading. Defaulting to empty config.\n",
            "WARNING:absl:Found untraced functions such as _update_step_xla, dense_1_layer_call_fn, dense_1_layer_call_and_return_conditional_losses while saving (showing 3 of 3). These functions will not be directly callable after loading.\n",
            "WARNING:tensorflow:Model's `__init__()` arguments contain non-serializable objects. Please implement a `get_config()` method in the subclassed Model for proper saving and loading. Defaulting to empty config.\n",
            "WARNING:tensorflow:Model's `__init__()` arguments contain non-serializable objects. Please implement a `get_config()` method in the subclassed Model for proper saving and loading. Defaulting to empty config.\n"
          ]
        },
        {
          "output_type": "stream",
          "name": "stdout",
          "text": [
            "\b\b\b\b\b\b\b\b\b\b\b\b\b\b\b\b\b\b\b\b\b\b\b\b\b\b\b\b\b\b\b\b\b\b\b\b\b\b\b\b\b\b\b\b\b\b\b\b\b\b\b\b\b\b\b\b\b\b\b\b\b\b\b\b\b\b\b\b\b\b\b\b\b\b\b\b\b\b\b\b\b\b\r13/13 [==============================] - 52s 4s/step - loss: 9.6737 - accuracy: 0.9871 - val_loss_val: 11.1469 - val_val_accuracy: 0.9832\n",
            "Epoch 6/15\n",
            "13/13 [==============================] - ETA: 0s - loss: 7.5624 - accuracy: 0.9878\n",
            "Epoch 6: accuracy improved from 0.98713 to 0.98778, saving model to ner-bi-gru-tf2crf-model-0.99.tf\n"
          ]
        },
        {
          "output_type": "stream",
          "name": "stderr",
          "text": [
            "WARNING:tensorflow:Model's `__init__()` arguments contain non-serializable objects. Please implement a `get_config()` method in the subclassed Model for proper saving and loading. Defaulting to empty config.\n",
            "WARNING:tensorflow:Model's `__init__()` arguments contain non-serializable objects. Please implement a `get_config()` method in the subclassed Model for proper saving and loading. Defaulting to empty config.\n",
            "WARNING:absl:Found untraced functions such as _update_step_xla, dense_1_layer_call_fn, dense_1_layer_call_and_return_conditional_losses while saving (showing 3 of 3). These functions will not be directly callable after loading.\n",
            "WARNING:tensorflow:Model's `__init__()` arguments contain non-serializable objects. Please implement a `get_config()` method in the subclassed Model for proper saving and loading. Defaulting to empty config.\n",
            "WARNING:tensorflow:Model's `__init__()` arguments contain non-serializable objects. Please implement a `get_config()` method in the subclassed Model for proper saving and loading. Defaulting to empty config.\n"
          ]
        },
        {
          "output_type": "stream",
          "name": "stdout",
          "text": [
            "\b\b\b\b\b\b\b\b\b\b\b\b\b\b\b\b\b\b\b\b\b\b\b\b\b\b\b\b\b\b\b\b\b\b\b\b\b\b\b\b\b\b\b\b\b\b\b\b\b\b\b\b\b\b\b\b\b\b\b\b\b\b\b\b\b\b\b\b\b\b\b\b\b\b\b\b\b\b\b\b\b\b\r13/13 [==============================] - 53s 4s/step - loss: 7.5624 - accuracy: 0.9878 - val_loss_val: 8.4348 - val_val_accuracy: 0.9841\n",
            "Epoch 7/15\n",
            "13/13 [==============================] - ETA: 0s - loss: 5.8059 - accuracy: 0.9898\n",
            "Epoch 7: accuracy improved from 0.98778 to 0.98981, saving model to ner-bi-gru-tf2crf-model-0.99.tf\n"
          ]
        },
        {
          "output_type": "stream",
          "name": "stderr",
          "text": [
            "WARNING:tensorflow:Model's `__init__()` arguments contain non-serializable objects. Please implement a `get_config()` method in the subclassed Model for proper saving and loading. Defaulting to empty config.\n",
            "WARNING:tensorflow:Model's `__init__()` arguments contain non-serializable objects. Please implement a `get_config()` method in the subclassed Model for proper saving and loading. Defaulting to empty config.\n",
            "WARNING:absl:Found untraced functions such as _update_step_xla, dense_1_layer_call_fn, dense_1_layer_call_and_return_conditional_losses while saving (showing 3 of 3). These functions will not be directly callable after loading.\n",
            "WARNING:tensorflow:Model's `__init__()` arguments contain non-serializable objects. Please implement a `get_config()` method in the subclassed Model for proper saving and loading. Defaulting to empty config.\n",
            "WARNING:tensorflow:Model's `__init__()` arguments contain non-serializable objects. Please implement a `get_config()` method in the subclassed Model for proper saving and loading. Defaulting to empty config.\n"
          ]
        },
        {
          "output_type": "stream",
          "name": "stdout",
          "text": [
            "\b\b\b\b\b\b\b\b\b\b\b\b\b\b\b\b\b\b\b\b\b\b\b\b\b\b\b\b\b\b\b\b\b\b\b\b\b\b\b\b\b\b\b\b\b\b\b\b\b\b\b\b\b\b\b\b\b\b\b\b\b\b\b\b\b\b\b\b\b\b\b\b\b\b\b\b\b\b\b\b\b\b\r13/13 [==============================] - 53s 4s/step - loss: 5.8059 - accuracy: 0.9898 - val_loss_val: 6.9532 - val_val_accuracy: 0.9872\n",
            "Epoch 8/15\n",
            "13/13 [==============================] - ETA: 0s - loss: 4.3241 - accuracy: 0.9919\n",
            "Epoch 8: accuracy improved from 0.98981 to 0.99187, saving model to ner-bi-gru-tf2crf-model-0.99.tf\n"
          ]
        },
        {
          "output_type": "stream",
          "name": "stderr",
          "text": [
            "WARNING:tensorflow:Model's `__init__()` arguments contain non-serializable objects. Please implement a `get_config()` method in the subclassed Model for proper saving and loading. Defaulting to empty config.\n",
            "WARNING:tensorflow:Model's `__init__()` arguments contain non-serializable objects. Please implement a `get_config()` method in the subclassed Model for proper saving and loading. Defaulting to empty config.\n",
            "WARNING:absl:Found untraced functions such as _update_step_xla, dense_1_layer_call_fn, dense_1_layer_call_and_return_conditional_losses while saving (showing 3 of 3). These functions will not be directly callable after loading.\n",
            "WARNING:tensorflow:Model's `__init__()` arguments contain non-serializable objects. Please implement a `get_config()` method in the subclassed Model for proper saving and loading. Defaulting to empty config.\n",
            "WARNING:tensorflow:Model's `__init__()` arguments contain non-serializable objects. Please implement a `get_config()` method in the subclassed Model for proper saving and loading. Defaulting to empty config.\n"
          ]
        },
        {
          "output_type": "stream",
          "name": "stdout",
          "text": [
            "\b\b\b\b\b\b\b\b\b\b\b\b\b\b\b\b\b\b\b\b\b\b\b\b\b\b\b\b\b\b\b\b\b\b\b\b\b\b\b\b\b\b\b\b\b\b\b\b\b\b\b\b\b\b\b\b\b\b\b\b\b\b\b\b\b\b\b\b\b\b\b\b\b\b\b\b\b\b\b\b\b\b\r13/13 [==============================] - 52s 4s/step - loss: 4.3241 - accuracy: 0.9919 - val_loss_val: 5.9903 - val_val_accuracy: 0.9902\n",
            "Epoch 9/15\n",
            "13/13 [==============================] - ETA: 0s - loss: 3.8290 - accuracy: 0.9926\n",
            "Epoch 9: accuracy improved from 0.99187 to 0.99257, saving model to ner-bi-gru-tf2crf-model-0.99.tf\n"
          ]
        },
        {
          "output_type": "stream",
          "name": "stderr",
          "text": [
            "WARNING:tensorflow:Model's `__init__()` arguments contain non-serializable objects. Please implement a `get_config()` method in the subclassed Model for proper saving and loading. Defaulting to empty config.\n",
            "WARNING:tensorflow:Model's `__init__()` arguments contain non-serializable objects. Please implement a `get_config()` method in the subclassed Model for proper saving and loading. Defaulting to empty config.\n",
            "WARNING:absl:Found untraced functions such as _update_step_xla, dense_1_layer_call_fn, dense_1_layer_call_and_return_conditional_losses while saving (showing 3 of 3). These functions will not be directly callable after loading.\n",
            "WARNING:tensorflow:Model's `__init__()` arguments contain non-serializable objects. Please implement a `get_config()` method in the subclassed Model for proper saving and loading. Defaulting to empty config.\n",
            "WARNING:tensorflow:Model's `__init__()` arguments contain non-serializable objects. Please implement a `get_config()` method in the subclassed Model for proper saving and loading. Defaulting to empty config.\n"
          ]
        },
        {
          "output_type": "stream",
          "name": "stdout",
          "text": [
            "\b\b\b\b\b\b\b\b\b\b\b\b\b\b\b\b\b\b\b\b\b\b\b\b\b\b\b\b\b\b\b\b\b\b\b\b\b\b\b\b\b\b\b\b\b\b\b\b\b\b\b\b\b\b\b\b\b\b\b\b\b\b\b\b\b\b\b\b\b\b\b\b\b\b\b\b\b\b\b\b\b\b\r13/13 [==============================] - 52s 4s/step - loss: 3.8290 - accuracy: 0.9926 - val_loss_val: 5.7323 - val_val_accuracy: 0.9895\n",
            "Epoch 10/15\n",
            "13/13 [==============================] - ETA: 0s - loss: 3.5271 - accuracy: 0.9940\n",
            "Epoch 10: accuracy improved from 0.99257 to 0.99400, saving model to ner-bi-gru-tf2crf-model-0.99.tf\n"
          ]
        },
        {
          "output_type": "stream",
          "name": "stderr",
          "text": [
            "WARNING:tensorflow:Model's `__init__()` arguments contain non-serializable objects. Please implement a `get_config()` method in the subclassed Model for proper saving and loading. Defaulting to empty config.\n",
            "WARNING:tensorflow:Model's `__init__()` arguments contain non-serializable objects. Please implement a `get_config()` method in the subclassed Model for proper saving and loading. Defaulting to empty config.\n",
            "WARNING:absl:Found untraced functions such as _update_step_xla, dense_1_layer_call_fn, dense_1_layer_call_and_return_conditional_losses while saving (showing 3 of 3). These functions will not be directly callable after loading.\n",
            "WARNING:tensorflow:Model's `__init__()` arguments contain non-serializable objects. Please implement a `get_config()` method in the subclassed Model for proper saving and loading. Defaulting to empty config.\n",
            "WARNING:tensorflow:Model's `__init__()` arguments contain non-serializable objects. Please implement a `get_config()` method in the subclassed Model for proper saving and loading. Defaulting to empty config.\n"
          ]
        },
        {
          "output_type": "stream",
          "name": "stdout",
          "text": [
            "\b\b\b\b\b\b\b\b\b\b\b\b\b\b\b\b\b\b\b\b\b\b\b\b\b\b\b\b\b\b\b\b\b\b\b\b\b\b\b\b\b\b\b\b\b\b\b\b\b\b\b\b\b\b\b\b\b\b\b\b\b\b\b\b\b\b\b\b\b\b\b\b\b\b\b\b\b\b\b\b\b\b\r13/13 [==============================] - 51s 4s/step - loss: 3.5271 - accuracy: 0.9940 - val_loss_val: 9.4904 - val_val_accuracy: 0.9849\n",
            "Epoch 11/15\n",
            "13/13 [==============================] - ETA: 0s - loss: 3.3222 - accuracy: 0.9939\n",
            "Epoch 11: accuracy did not improve from 0.99400\n",
            "13/13 [==============================] - 33s 2s/step - loss: 3.3222 - accuracy: 0.9939 - val_loss_val: 5.4701 - val_val_accuracy: 0.9911\n",
            "Epoch 12/15\n",
            "13/13 [==============================] - ETA: 0s - loss: 2.7776 - accuracy: 0.9949\n",
            "Epoch 12: accuracy improved from 0.99400 to 0.99490, saving model to ner-bi-gru-tf2crf-model-0.99.tf\n"
          ]
        },
        {
          "output_type": "stream",
          "name": "stderr",
          "text": [
            "WARNING:tensorflow:Model's `__init__()` arguments contain non-serializable objects. Please implement a `get_config()` method in the subclassed Model for proper saving and loading. Defaulting to empty config.\n",
            "WARNING:tensorflow:Model's `__init__()` arguments contain non-serializable objects. Please implement a `get_config()` method in the subclassed Model for proper saving and loading. Defaulting to empty config.\n",
            "WARNING:absl:Found untraced functions such as _update_step_xla, dense_1_layer_call_fn, dense_1_layer_call_and_return_conditional_losses while saving (showing 3 of 3). These functions will not be directly callable after loading.\n",
            "WARNING:tensorflow:Model's `__init__()` arguments contain non-serializable objects. Please implement a `get_config()` method in the subclassed Model for proper saving and loading. Defaulting to empty config.\n",
            "WARNING:tensorflow:Model's `__init__()` arguments contain non-serializable objects. Please implement a `get_config()` method in the subclassed Model for proper saving and loading. Defaulting to empty config.\n"
          ]
        },
        {
          "output_type": "stream",
          "name": "stdout",
          "text": [
            "\b\b\b\b\b\b\b\b\b\b\b\b\b\b\b\b\b\b\b\b\b\b\b\b\b\b\b\b\b\b\b\b\b\b\b\b\b\b\b\b\b\b\b\b\b\b\b\b\b\b\b\b\b\b\b\b\b\b\b\b\b\b\b\b\b\b\b\b\b\b\b\b\b\b\b\b\b\b\b\b\b\b\r13/13 [==============================] - 52s 4s/step - loss: 2.7776 - accuracy: 0.9949 - val_loss_val: 5.5696 - val_val_accuracy: 0.9907\n",
            "Epoch 13/15\n",
            "13/13 [==============================] - ETA: 0s - loss: 2.6044 - accuracy: 0.9951\n",
            "Epoch 13: accuracy improved from 0.99490 to 0.99506, saving model to ner-bi-gru-tf2crf-model-1.00.tf\n"
          ]
        },
        {
          "output_type": "stream",
          "name": "stderr",
          "text": [
            "WARNING:tensorflow:Model's `__init__()` arguments contain non-serializable objects. Please implement a `get_config()` method in the subclassed Model for proper saving and loading. Defaulting to empty config.\n",
            "WARNING:tensorflow:Model's `__init__()` arguments contain non-serializable objects. Please implement a `get_config()` method in the subclassed Model for proper saving and loading. Defaulting to empty config.\n",
            "WARNING:absl:Found untraced functions such as _update_step_xla, dense_1_layer_call_fn, dense_1_layer_call_and_return_conditional_losses while saving (showing 3 of 3). These functions will not be directly callable after loading.\n",
            "WARNING:tensorflow:Model's `__init__()` arguments contain non-serializable objects. Please implement a `get_config()` method in the subclassed Model for proper saving and loading. Defaulting to empty config.\n",
            "WARNING:tensorflow:Model's `__init__()` arguments contain non-serializable objects. Please implement a `get_config()` method in the subclassed Model for proper saving and loading. Defaulting to empty config.\n"
          ]
        },
        {
          "output_type": "stream",
          "name": "stdout",
          "text": [
            "\b\b\b\b\b\b\b\b\b\b\b\b\b\b\b\b\b\b\b\b\b\b\b\b\b\b\b\b\b\b\b\b\b\b\b\b\b\b\b\b\b\b\b\b\b\b\b\b\b\b\b\b\b\b\b\b\b\b\b\b\b\b\b\b\b\b\b\b\b\b\b\b\b\b\b\b\b\b\b\b\b\b\r13/13 [==============================] - 52s 4s/step - loss: 2.6044 - accuracy: 0.9951 - val_loss_val: 5.2139 - val_val_accuracy: 0.9917\n",
            "Epoch 14/15\n",
            "13/13 [==============================] - ETA: 0s - loss: 2.4534 - accuracy: 0.9956\n",
            "Epoch 14: accuracy improved from 0.99506 to 0.99555, saving model to ner-bi-gru-tf2crf-model-1.00.tf\n"
          ]
        },
        {
          "output_type": "stream",
          "name": "stderr",
          "text": [
            "WARNING:tensorflow:Model's `__init__()` arguments contain non-serializable objects. Please implement a `get_config()` method in the subclassed Model for proper saving and loading. Defaulting to empty config.\n",
            "WARNING:tensorflow:Model's `__init__()` arguments contain non-serializable objects. Please implement a `get_config()` method in the subclassed Model for proper saving and loading. Defaulting to empty config.\n",
            "WARNING:absl:Found untraced functions such as _update_step_xla, dense_1_layer_call_fn, dense_1_layer_call_and_return_conditional_losses while saving (showing 3 of 3). These functions will not be directly callable after loading.\n",
            "WARNING:tensorflow:Model's `__init__()` arguments contain non-serializable objects. Please implement a `get_config()` method in the subclassed Model for proper saving and loading. Defaulting to empty config.\n",
            "WARNING:tensorflow:Model's `__init__()` arguments contain non-serializable objects. Please implement a `get_config()` method in the subclassed Model for proper saving and loading. Defaulting to empty config.\n"
          ]
        },
        {
          "output_type": "stream",
          "name": "stdout",
          "text": [
            "\b\b\b\b\b\b\b\b\b\b\b\b\b\b\b\b\b\b\b\b\b\b\b\b\b\b\b\b\b\b\b\b\b\b\b\b\b\b\b\b\b\b\b\b\b\b\b\b\b\b\b\b\b\b\b\b\b\b\b\b\b\b\b\b\b\b\b\b\b\b\b\b\b\b\b\b\b\b\b\b\b\b\r13/13 [==============================] - 52s 4s/step - loss: 2.4534 - accuracy: 0.9956 - val_loss_val: 5.5259 - val_val_accuracy: 0.9920\n",
            "Epoch 15/15\n",
            "13/13 [==============================] - ETA: 0s - loss: 2.3471 - accuracy: 0.9958\n",
            "Epoch 15: accuracy improved from 0.99555 to 0.99584, saving model to ner-bi-gru-tf2crf-model-1.00.tf\n"
          ]
        },
        {
          "output_type": "stream",
          "name": "stderr",
          "text": [
            "WARNING:tensorflow:Model's `__init__()` arguments contain non-serializable objects. Please implement a `get_config()` method in the subclassed Model for proper saving and loading. Defaulting to empty config.\n",
            "WARNING:tensorflow:Model's `__init__()` arguments contain non-serializable objects. Please implement a `get_config()` method in the subclassed Model for proper saving and loading. Defaulting to empty config.\n",
            "WARNING:absl:Found untraced functions such as _update_step_xla, dense_1_layer_call_fn, dense_1_layer_call_and_return_conditional_losses while saving (showing 3 of 3). These functions will not be directly callable after loading.\n",
            "WARNING:tensorflow:Model's `__init__()` arguments contain non-serializable objects. Please implement a `get_config()` method in the subclassed Model for proper saving and loading. Defaulting to empty config.\n",
            "WARNING:tensorflow:Model's `__init__()` arguments contain non-serializable objects. Please implement a `get_config()` method in the subclassed Model for proper saving and loading. Defaulting to empty config.\n"
          ]
        },
        {
          "output_type": "stream",
          "name": "stdout",
          "text": [
            "\b\b\b\b\b\b\b\b\b\b\b\b\b\b\b\b\b\b\b\b\b\b\b\b\b\b\b\b\b\b\b\b\b\b\b\b\b\b\b\b\b\b\b\b\b\b\b\b\b\b\b\b\b\b\b\b\b\b\b\b\b\b\b\b\b\b\b\b\b\b\b\b\b\b\b\b\b\b\b\b\b\b\r13/13 [==============================] - 52s 4s/step - loss: 2.3471 - accuracy: 0.9958 - val_loss_val: 5.5517 - val_val_accuracy: 0.9915\n"
          ]
        }
      ]
    },
    {
      "cell_type": "code",
      "source": [
        "import matplotlib.pyplot as plt\n",
        "\n",
        "# Plot training & validation accuracy values\n",
        "plt.plot(history.history['accuracy'])\n",
        "plt.plot(history.history['val_val_accuracy'])\n",
        "plt.title('Model accuracy')\n",
        "plt.ylabel('Accuracy')\n",
        "plt.xlabel('Epoch')\n",
        "plt.legend(['Train', 'Test'])\n",
        "plt.show()\n",
        "\n",
        "# Plot training & validation loss values\n",
        "plt.plot(history.history['loss'])\n",
        "plt.plot(history.history['val_loss_val'])\n",
        "plt.title('Model loss')\n",
        "plt.ylabel('Loss')\n",
        "plt.xlabel('Epoch')\n",
        "plt.legend(['Train', 'Test'], loc='upper left')\n",
        "plt.show()"
      ],
      "metadata": {
        "id": "c6y7Bsa6RRf6",
        "colab": {
          "base_uri": "https://localhost:8080/",
          "height": 927
        },
        "outputId": "f6b172aa-d972-4578-db31-27521d59685d"
      },
      "execution_count": null,
      "outputs": [
        {
          "output_type": "display_data",
          "data": {
            "text/plain": [
              "<Figure size 640x480 with 1 Axes>"
            ],
            "image/png": "[encoded data removed]"
          },
          "metadata": {}
        },
        {
          "output_type": "display_data",
          "data": {
            "text/plain": [
              "<Figure size 640x480 with 1 Axes>"
            ],
            "image/png": "[encoded data removed]"
          },
          "metadata": {}
        }
      ]
    },
    {
      "cell_type": "code",
      "source": [
        "# Prediction\n",
        "pred_cat = model.predict(X_test, verbose=1)\n",
        "y_te_true = np.argmax(y_test, axis=-1)"
      ],
      "metadata": {
        "id": "4cwW79t-RbSQ",
        "colab": {
          "base_uri": "https://localhost:8080/"
        },
        "outputId": "9105d40e-02da-4845-f3a4-5fd0314555c6"
      },
      "execution_count": null,
      "outputs": [
        {
          "output_type": "stream",
          "name": "stdout",
          "text": [
            "4/4 [==============================] - 2s 292ms/step\n"
          ]
        }
      ]
    },
    {
      "cell_type": "code",
      "source": [
        "!pip install sklearn_crfsuite"
      ],
      "metadata": {
        "id": "hrRFbKKFdZAE",
        "colab": {
          "base_uri": "https://localhost:8080/"
        },
        "outputId": "c580a7b8-e73d-42d6-9ad7-4a20efe2d7e3"
      },
      "execution_count": null,
      "outputs": [
        {
          "output_type": "stream",
          "name": "stdout",
          "text": [
            "Looking in indexes: https://pypi.org/simple, https://us-python.pkg.dev/colab-wheels/public/simple/\n",
            "Collecting sklearn_crfsuite\n",
            "  Downloading sklearn_crfsuite-0.3.6-py2.py3-none-any.whl (12 kB)\n",
            "Requirement already satisfied: six in /usr/local/lib/python3.10/dist-packages (from sklearn_crfsuite) (1.16.0)\n",
            "Collecting python-crfsuite>=0.8.3\n",
            "  Downloading python_crfsuite-0.9.9-cp310-cp310-manylinux_2_17_x86_64.manylinux2014_x86_64.whl (993 kB)\n",
            "\u001b[2K     \u001b[90m━━━━━━━━━━━━━━━━━━━━━━━━━━━━━━━━━━━━━━\u001b[0m \u001b[32m993.5/993.5 kB\u001b[0m \u001b[31m19.7 MB/s\u001b[0m eta \u001b[36m0:00:00\u001b[0m\n",
            "\u001b[?25hRequirement already satisfied: tabulate in /usr/local/lib/python3.10/dist-packages (from sklearn_crfsuite) (0.8.10)\n",
            "Requirement already satisfied: tqdm>=2.0 in /usr/local/lib/python3.10/dist-packages (from sklearn_crfsuite) (4.65.0)\n",
            "Installing collected packages: python-crfsuite, sklearn_crfsuite\n",
            "Successfully installed python-crfsuite-0.9.9 sklearn_crfsuite-0.3.6\n"
          ]
        }
      ]
    },
    {
      "cell_type": "code",
      "source": [
        "#New classification report\n",
        "from sklearn_crfsuite.utils import flatten\n",
        "from functools import wraps\n",
        "\n",
        "\n",
        "def _flattens_y(func):\n",
        "    @wraps(func)\n",
        "    def wrapper(y_true, y_pred, *args, **kwargs):\n",
        "        y_true_flat = flatten(y_true)\n",
        "        y_pred_flat = flatten(y_pred)\n",
        "        return func(y_true_flat, y_pred_flat, *args, **kwargs)\n",
        "    return wrapper\n",
        "\n",
        "\n",
        "@_flattens_y\n",
        "def flat_classification_report(y_true, y_pred, labels=None, target_names=None, **kwargs):\n",
        "    \"\"\"\n",
        "    Return classification report for sequence items.\n",
        "    \"\"\"\n",
        "    from sklearn import metrics\n",
        "    print(labels,target_names)\n",
        "    return metrics.classification_report(y_true, y_pred, labels=labels, target_names=target_names, **kwargs)"
      ],
      "metadata": {
        "id": "Uxrc-aN7drwr"
      },
      "execution_count": null,
      "outputs": []
    },
    {
      "cell_type": "code",
      "source": [
        "#Flat Classification report\n",
        "report = flat_classification_report(y_te_true, pred_cat) #imbalance data, test data doesnot have all the classes\n",
        "# report = flat_classification_report(y_te_true, pred_cat, target_names=tags)\n",
        "report_edited = report.replace(\" 0 \", \" \"+idx2tag[0]+\"  \").replace(\" 1 \", \" \"+idx2tag[1]+\"\").replace(\" 2 \", \" \"+idx2tag[2]+\"   \").replace(\" 3 \", \" \"+idx2tag[3]+\"\")\n",
        "print(report_edited)"
      ],
      "metadata": {
        "colab": {
          "base_uri": "https://localhost:8080/"
        },
        "id": "VH1YoW6LJJR_",
        "outputId": "d626fe82-ad1c-4c6f-90bf-3693ecbbb931"
      },
      "execution_count": null,
      "outputs": [
        {
          "output_type": "stream",
          "name": "stdout",
          "text": [
            "None None\n",
            "              precision    recall  f1-score   support\n",
            "\n",
            "           PAD        1.00      1.00      1.00     64447\n",
            "           O         1.00      0.99      1.00     18353\n",
            "           B-Pin      0.69      0.84      0.76       258\n",
            "\n",
            "    accuracy                           1.00     83058\n",
            "   macro avg       0.90      0.95      0.92     83058\n",
            "weighted avg       1.00      1.00      1.00     83058\n",
            "\n"
          ]
        }
      ]
    },
    {
      "cell_type": "code",
      "source": [
        "i = np.random.randint(0,X_test.shape[0]) # choose a random number between 0 and len(X_te)\n",
        "p = model.predict(np.array([X_test[i]]))\n",
        "true = np.argmax(y_test[i], -1)\n",
        "\n",
        "print(\"Sample number {} of {} (Test Set)\".format(i, X_test.shape[0]))\n",
        "# Visualization\n",
        "print(\"{:15}||{:5}||{}\".format(\"Word\", \"True\", \"Pred\"))\n",
        "print(30 * \"=\")\n",
        "for w, t, pred in zip(X_test[i], true, p[0]):\n",
        "    if w != 0:\n",
        "        print(\"{:15}: {:5} {}\".format(words[w-2], idx2tag[t], idx2tag[pred]))"
      ],
      "metadata": {
        "id": "TrzNAeODRcep",
        "colab": {
          "base_uri": "https://localhost:8080/"
        },
        "outputId": "bca090e6-62df-4713-941a-7bdb4bd85bcc"
      },
      "execution_count": null,
      "outputs": [
        {
          "output_type": "stream",
          "name": "stdout",
          "text": [
            "1/1 [==============================] - 1s 1s/step\n",
            "Sample number 37 of 218 (Test Set)\n",
            "Word           ||True ||Pred\n",
            "==============================\n",
            "identically    : O     O\n",
            "(NetworkMaster : O     O\n",
            "triggered.     : O     O\n",
            "integrator.    : O     O\n",
            "cur-           : O     O\n",
            "NOT            : O     O\n",
            "5-6:           : O     O\n",
            "interface)     : O     O\n",
            "incorporates   : O     O\n",
            "cur-           : O     O\n",
            "notice         : O     O\n",
            "Technical      : O     O\n",
            "interface)     : O     O\n",
            "Center         : O     O\n",
            "Restructured   : O     O\n",
            "Controlled     : O     O\n",
            "notice         : O     O\n",
            "W              : O     O\n",
            "empty          : O     O\n",
            "power-up;      : O     O\n",
            "Again          : O     O\n",
            "stable         : O     O\n",
            "3-8;           : O     O\n",
            "well           : O     O\n",
            "adjust2.h,     : O     O\n",
            "Restructured   : O     O\n",
            "inating        : O     O\n",
            "find           : O     O\n",
            "terminate      : O     O\n",
            "CRS_CLOSE      : O     O\n",
            "cur-           : O     O\n",
            "))             : O     O\n",
            "3-8;           : O     O\n",
            "Write          : O     O\n",
            "Restructured   : O     O\n",
            "reset;         : O     O\n",
            "(NetworkMaster : O     O\n",
            "NOT            : O     O\n",
            "I2C            : O     O\n",
            "Controlled     : O     O\n",
            "1.1:           : O     O\n",
            "integrator.    : O     O\n",
            "regis-         : O     O\n",
            "active,        : O     O\n",
            "512            : O     O\n",
            "detected.      : O     O\n",
            "tepyy          : O     O\n",
            "cur-           : O     O\n",
            "find           : O     O\n",
            "terminate      : O     O\n",
            "channels       : O     O\n",
            "3-8;           : O     O\n",
            "XML.           : O     O\n",
            "risen          : O     O\n",
            "5-2            : O     O\n",
            "notice         : O     O\n",
            "Or             : O     O\n",
            "drawn          : O     O\n",
            "adjust2.h,     : O     O\n",
            "read)          : O     O\n",
            "Controlled     : O     O\n",
            "risen          : O     O\n",
            "3-8;           : O     O\n",
            "TIMING         : O     O\n",
            "Background     : O     O\n",
            "cur-           : O     O\n",
            "9.4.1          : O     O\n",
            "State),        : O     O\n",
            "FAILED         : O     O\n",
            "risen          : O     O\n",
            "unsuccesstully : O     O\n",
            "Operating      : O     O\n",
            "applications,  : O     O\n",
            "adjust2.h,     : O     O\n",
            "Cable          : O     O\n",
            "ePhy           : O     O\n",
            "add            : O     O\n",
            "config         : O     O\n",
            "9-5.           : O     O\n",
            "5-2            : O     O\n",
            "notice         : O     O\n",
            "PHY)           : O     O\n",
            "adjust2.h,     : O     O\n",
            "byte;          : O     O\n",
            "Get,           : O     O\n",
            "requested      : O     O\n",
            "terminate      : O     O\n",
            "5-6:           : O     O\n",
            "adjust2.h,     : O     O\n",
            "[1]            : O     O\n",
            "Restructured   : O     O\n",
            "cur-           : O     O\n",
            "unsuccesstully : O     O\n",
            "Operating      : O     O\n",
            "applications,  : O     O\n",
            "ware,          : O     O\n",
            "cur-           : O     O\n",
            "Operating      : O     O\n",
            "adjust2.h,     : O     O\n",
            "incorporates   : O     O\n",
            "AL             : O     O\n",
            "Car            : O     O\n",
            "cur-           : O     O\n",
            "Circuitry)     : O     O\n",
            "adjust2.h,     : O     O\n",
            "(no            : O     O\n",
            "tSTAT_INACT    : O     O\n",
            "{,Parameter}   : O     O\n",
            "Buffer).       : O     O\n",
            "stable         : O     O\n",
            "MID0           : O     O\n",
            "triggered.     : O     O\n",
            "5-6:           : O     O\n",
            "interface)     : O     O\n",
            "mended,        : O     O\n",
            "FAILED         : O     O\n",
            "cur-           : O     O\n",
            "Operating      : O     O\n",
            "control-       : O     O\n",
            "Controlled     : O     O\n",
            "Other          : O     O\n",
            "(NetOn),       : O     O\n",
            "incorporates   : O     O\n",
            "reception      : O     O\n",
            "Restructured   : O     O\n",
            "port           : O     O\n",
            "risen          : O     O\n",
            "5-2            : O     O\n",
            "notice         : O     O\n",
            "PHY)           : O     O\n",
            "(MR),          : O     O\n",
            "3-8;           : O     O\n",
            "Restructured   : O     O\n",
            "cur-           : O     O\n",
            "Operation),    : O     O\n",
            "terminate      : O     O\n",
            "adjust2.h,     : O     O\n",
            "participant).  : O     O\n",
            "FAILED         : O     O\n",
            "3-8;           : O     O\n",
            "Car            : O     O\n",
            "incorporates   : O     O\n",
            "integrator.    : O     O\n",
            "IOC;           : O     O\n",
            "9-5.           : O     O\n",
            "find           : O     O\n",
            "terminate      : O     O\n",
            "channels       : O     O\n",
            "3-8;           : O     O\n",
            "(RESET         : O     O\n",
            "cur-           : O     O\n",
            "notice         : O     O\n",
            "Technical      : O     O\n",
            "hundreds       : O     O\n",
            "5-6:           : O     O\n",
            "(MNS_MASTER,   : O     O\n",
            "NOT            : O     O\n",
            "C2             : O     O\n",
            "stacks.        : O     O\n",
            "capacitance    : O     O\n",
            "Controlled     : O     O\n",
            "regarding      : O     O\n",
            "Controlled     : O     O\n",
            "cur-           : O     O\n",
            "(RBD).         : O     O\n",
            "Operating      : O     O\n",
            "3-8;           : O     O\n",
            "Restructured   : O     O\n",
            "reset;         : O     O\n",
            "(NetworkMaster : O     O\n",
            "NOT            : O     O\n",
            "(TLIMLO)       : O     O\n",
            "WriteLCD       : O     O\n",
            "cur-           : O     O\n",
            "notice         : O     O\n",
            "Technical      : O     O\n",
            "terminate      : O     O\n",
            "adjust2.h,     : O     O\n",
            "[1]            : O     O\n",
            "Restructured   : O     O\n",
            "cur-           : O     O\n",
            "unsuccesstully : O     O\n",
            "Operating      : O     O\n",
            "applications,  : O     O\n",
            "E              : O     O\n",
            "stacks.        : O     O\n",
            "XML.           : O     O\n",
            "cur-           : O     O\n",
            "5-2            : O     O\n",
            "notice         : O     O\n",
            "Or             : O     O\n",
            "(J17),         : O     O\n",
            "Wrapper        : O     O\n",
            "TO             : O     O\n",
            "Restructured   : O     O\n",
            "risen          : O     O\n",
            "8.0            : O     O\n",
            "transmitting.  : O     O\n",
            "female         : O     O\n",
            "I              : O     O\n",
            "Controlled     : O     O\n",
            "cur-           : O     O\n",
            "layer,         : O     O\n",
            "notice         : O     O\n",
            "addresses.     : O     O\n",
            "2.0            : O     O\n",
            "Get,           : O     O\n",
            "peripheral     : O     O\n",
            "DSF)           : O     O\n",
            "non-MOST       : O     O\n",
            "VDDU_OUT       : O     O\n",
            "never          : O     O\n",
            "monitoring.    : O     O\n",
            "stable         : O     O\n",
            "peripheral     : O     O\n",
            "DSF)           : O     O\n",
            "(QOS)          : O     O\n",
            "risen          : O     O\n",
            "RESR           : O     O\n",
            "integrator.    : O     O\n",
            "bits)          : O     O\n",
            "showing        : O     O\n",
            "way.           : O     O\n",
            "super          : O     O\n",
            "nom            : O     O\n",
            "FAILED         : O     O\n",
            "cur-           : O     O\n",
            "mechanisms,    : O     O\n",
            "exchanged      : O     O\n",
            "stabilize.     : O     O\n",
            "risen          : O     O\n",
            "3-8;           : O     O\n",
            "Get,           : O     O\n",
            "utilize        : O     O\n",
            "participate    : O     O\n",
            "cleanly,       : O     O\n",
            "include        : O     O\n",
            "DSF)           : O     O\n",
            "Measured       : O     O\n",
            "callback       : O     O\n",
            "Providing      : O     O\n",
            "BL             : O     O\n",
            "trademarks     : O     O\n",
            "crosses        : O     O\n",
            "Restructured   : O     O\n",
            "finished;      : O     O\n",
            "pEL)           : O     O\n",
            "(NetworkMaster : O     O\n",
            "NOT            : O     O\n",
            "(TLIMLO)       : O     O\n"
          ]
        }
      ]
    }
  ]
}