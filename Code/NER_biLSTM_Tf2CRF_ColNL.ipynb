{
  "nbformat": 4,
  "nbformat_minor": 0,
  "metadata": {
    "colab": {
      "provenance": []
    },
    "kernelspec": {
      "name": "python3",
      "display_name": "Python 3"
    },
    "language_info": {
      "name": "python"
    },
    "accelerator": "GPU",
    "gpuClass": "standard"
  },
  "cells": [
    {
      "cell_type": "markdown",
      "source": [
        "Inspired By:\\\n",
        "https://github.com/Utkarsh07/NLP_ASSIGNMENT-NER-Bi-LSTM-CRF/blob/master/ner.ipynb"
      ],
      "metadata": {
        "id": "dQQC7Hj_iFnc"
      }
    },
    {
      "cell_type": "code",
      "source": [
        "from google.colab import drive\n",
        "drive.mount('/content/drive')"
      ],
      "metadata": {
        "colab": {
          "base_uri": "https://localhost:8080/"
        },
        "id": "bzyu3ANcpTwG",
        "outputId": "6bb76e89-6bc3-4c64-ef54-a593e869f080"
      },
      "execution_count": null,
      "outputs": [
        {
          "output_type": "stream",
          "name": "stdout",
          "text": [
            "Mounted at /content/drive\n"
          ]
        }
      ]
    },
    {
      "cell_type": "code",
      "source": [
        "!pip install tf2crf"
      ],
      "metadata": {
        "id": "3OY8Cg2AnODr"
      },
      "execution_count": null,
      "outputs": []
    },
    {
      "cell_type": "code",
      "source": [
        "!pip install sklearn_crfsuite"
      ],
      "metadata": {
        "id": "hrRFbKKFdZAE",
        "colab": {
          "base_uri": "https://localhost:8080/"
        },
        "outputId": "19d7a4b2-80f4-4b91-fcef-a979321d51f3"
      },
      "execution_count": null,
      "outputs": [
        {
          "output_type": "stream",
          "name": "stdout",
          "text": [
            "Looking in indexes: https://pypi.org/simple, https://us-python.pkg.dev/colab-wheels/public/simple/\n",
            "Requirement already satisfied: sklearn_crfsuite in /usr/local/lib/python3.10/dist-packages (0.3.6)\n",
            "Requirement already satisfied: six in /usr/local/lib/python3.10/dist-packages (from sklearn_crfsuite) (1.16.0)\n",
            "Requirement already satisfied: tqdm>=2.0 in /usr/local/lib/python3.10/dist-packages (from sklearn_crfsuite) (4.65.0)\n",
            "Requirement already satisfied: python-crfsuite>=0.8.3 in /usr/local/lib/python3.10/dist-packages (from sklearn_crfsuite) (0.9.9)\n",
            "Requirement already satisfied: tabulate in /usr/local/lib/python3.10/dist-packages (from sklearn_crfsuite) (0.8.10)\n"
          ]
        }
      ]
    },
    {
      "cell_type": "code",
      "source": [
        "import numpy as np\n",
        "import pandas as pd"
      ],
      "metadata": {
        "id": "CzqUIWrwYjyU"
      },
      "execution_count": null,
      "outputs": []
    },
    {
      "cell_type": "code",
      "source": [
        "#CONLL data\n",
        "class SentenceGetter(object):\n",
        "    \n",
        "    def __init__(self, filenames):\n",
        "        self.sentences_map = {} #\"train\":[], valid\n",
        "        self.filenames = filenames\n",
        "        self.words = set()\n",
        "        self.tags = set()\n",
        "        niter = 0\n",
        "        for filename in filenames:\n",
        "          self.filename = filename\n",
        "          self.sentences = []\n",
        "          with open(self.filename) as f:\n",
        "              sentence = []\n",
        "              for line in f:\n",
        "                  line = line.strip()\n",
        "                  if (len(line) == 0 or line.startswith(\"-DOCSTART-\")):\n",
        "                      if len(sentence) != 0:\n",
        "                        self.sentences.append(sentence)\n",
        "                        sentence = []\n",
        "                      continue\n",
        "                  else:\n",
        "                      ls = line.split(' ')\n",
        "                      word, tag = ls[0],ls[3] #word - - tag\n",
        "                      self.words.add(word)\n",
        "                      self.tags.add(tag)\n",
        "                      sentence.append((word,tag))\n",
        "          if (\"train\" in filename):\n",
        "            self.sentences_map[\"train\"] = self.sentences\n",
        "          elif (\"valid\" in filename):\n",
        "            self.sentences_map[\"valid\"] = self.sentences\n",
        "          else:\n",
        "            self.sentences_map[\"test\"] = self.sentences"
      ],
      "metadata": {
        "id": "Q_Vj6k2hWrHn"
      },
      "execution_count": null,
      "outputs": []
    },
    {
      "cell_type": "code",
      "source": [
        "files = [\"/content/drive/MyDrive/MasterThesis/coNLL/train.txt\", \"/content/drive/MyDrive/MasterThesis/coNLL/valid.txt\"]"
      ],
      "metadata": {
        "id": "1J84ts-Gppz3"
      },
      "execution_count": null,
      "outputs": []
    },
    {
      "cell_type": "code",
      "source": [
        "#CONLL data\n",
        "getter = SentenceGetter(files)\n",
        "sentences_map = getter.sentences_map\n",
        "words = getter.words\n",
        "tags = list(getter.tags)"
      ],
      "metadata": {
        "id": "DuwbbfMQXkMg"
      },
      "execution_count": null,
      "outputs": []
    },
    {
      "cell_type": "code",
      "source": [
        "sentences_map[\"valid\"][1:3]"
      ],
      "metadata": {
        "id": "NfAQKyB5qlHC"
      },
      "execution_count": null,
      "outputs": []
    },
    {
      "cell_type": "code",
      "source": [
        "tags"
      ],
      "metadata": {
        "colab": {
          "base_uri": "https://localhost:8080/"
        },
        "id": "br4YbzGAq24x",
        "outputId": "429ed383-f871-4c7e-e5fd-4c0bd931fd9c"
      },
      "execution_count": null,
      "outputs": [
        {
          "output_type": "execute_result",
          "data": {
            "text/plain": [
              "['B-ORG', 'B-LOC', 'B-PER', 'O', 'I-ORG', 'I-LOC', 'I-MISC', 'I-PER', 'B-MISC']"
            ]
          },
          "metadata": {},
          "execution_count": 12
        }
      ]
    },
    {
      "cell_type": "code",
      "source": [
        "#CONLL data\n",
        "words = list(words)"
      ],
      "metadata": {
        "id": "DElltJ4-XkYd"
      },
      "execution_count": null,
      "outputs": []
    },
    {
      "cell_type": "code",
      "source": [
        "tags.insert(0,'PAD')"
      ],
      "metadata": {
        "id": "SzMmUvlVjgpv"
      },
      "execution_count": null,
      "outputs": []
    },
    {
      "cell_type": "code",
      "source": [
        "tags"
      ],
      "metadata": {
        "colab": {
          "base_uri": "https://localhost:8080/"
        },
        "id": "_UJqa777Zcn5",
        "outputId": "8a1a897b-61f3-4645-fe25-18f504cddeaa"
      },
      "execution_count": null,
      "outputs": [
        {
          "output_type": "execute_result",
          "data": {
            "text/plain": [
              "['PAD',\n",
              " 'B-ORG',\n",
              " 'B-LOC',\n",
              " 'B-PER',\n",
              " 'O',\n",
              " 'I-ORG',\n",
              " 'I-LOC',\n",
              " 'I-MISC',\n",
              " 'I-PER',\n",
              " 'B-MISC']"
            ]
          },
          "metadata": {},
          "execution_count": 16
        }
      ]
    },
    {
      "cell_type": "code",
      "source": [
        "from future.utils import iteritems\n",
        "\n",
        "word2idx = {w: i+2 for i, w in enumerate(words)}\n",
        "word2idx[\"PAD\"] = 0 # Padding\n",
        "word2idx[\"UNK\"] = 1 # Unknown\n",
        "\n",
        "tag2idx = {t: i for i, t in enumerate(tags)}\n",
        "\n",
        "idx2tag = {v: k for k, v in iteritems(tag2idx)}"
      ],
      "metadata": {
        "id": "oSn2WSh_ZgSl"
      },
      "execution_count": null,
      "outputs": []
    },
    {
      "cell_type": "code",
      "source": [
        "#CONLL data\n",
        "\n",
        "n_words = len(words)\n",
        "n_tags = len(tags)"
      ],
      "metadata": {
        "id": "zpeU1OpJZaCY"
      },
      "execution_count": null,
      "outputs": []
    },
    {
      "cell_type": "code",
      "source": [
        "tag2idx"
      ],
      "metadata": {
        "colab": {
          "base_uri": "https://localhost:8080/"
        },
        "id": "zlLJ1eF3kw0j",
        "outputId": "ba6d1066-37eb-4a60-c3a7-912f90126c27"
      },
      "execution_count": null,
      "outputs": [
        {
          "output_type": "execute_result",
          "data": {
            "text/plain": [
              "{'PAD': 0,\n",
              " 'B-ORG': 1,\n",
              " 'B-LOC': 2,\n",
              " 'B-PER': 3,\n",
              " 'O': 4,\n",
              " 'I-ORG': 5,\n",
              " 'I-LOC': 6,\n",
              " 'I-MISC': 7,\n",
              " 'I-PER': 8,\n",
              " 'B-MISC': 9}"
            ]
          },
          "metadata": {},
          "execution_count": 18
        }
      ]
    },
    {
      "cell_type": "code",
      "source": [
        "#CONLL data\n",
        "from tensorflow.keras.preprocessing.sequence import pad_sequences\n",
        "from tensorflow.keras.utils import to_categorical\n",
        "from sklearn.model_selection import train_test_split\n",
        "\n",
        "maxlen = max([len(s) for s in sentences_map[\"train\"]])\n",
        "\n",
        "train_data = [[word2idx[w[0]] for w in s] for s in sentences_map[\"train\"]]\n",
        "X_train = pad_sequences(maxlen=maxlen, sequences=train_data, dtype='int32', padding=\"post\",value=word2idx[\"PAD\"])\n",
        "y_label_train = [[tag2idx[w[1]] for w in s] for s in sentences_map[\"train\"]]\n",
        "train_label = pad_sequences(maxlen=maxlen, sequences=y_label_train, dtype='int32', padding=\"post\", value=tag2idx[\"PAD\"])\n",
        "# One-Hot encode\n",
        "y_train = [to_categorical(i, num_classes=n_tags) for i in train_label]\n",
        "\n",
        "\n",
        "val_data = [[word2idx[w[0]] for w in s] for s in sentences_map[\"valid\"]]\n",
        "\n",
        "X_val = pad_sequences(maxlen=maxlen, sequences=val_data, dtype='int32', padding=\"post\",value=word2idx[\"PAD\"])\n",
        "y_label_val = [[tag2idx[w[1]] for w in s] for s in sentences_map[\"valid\"]]\n",
        "val_label = pad_sequences(maxlen=maxlen, sequences=y_label_val, dtype='int32', padding=\"post\", value=tag2idx[\"PAD\"])\n",
        "# One-Hot encode\n",
        "y_val = [to_categorical(i, num_classes=n_tags) for i in val_label]\n",
        "\n",
        "getter = SentenceGetter([\"/content/drive/MyDrive/MasterThesis/coNLL/test.txt\"])\n",
        "sentences_test = getter.sentences_map[\"test\"]\n",
        "test_data = [[word2idx[w[0]] if w[0] in word2idx else word2idx[\"UNK\"] for w in s] for s in sentences_test]\n",
        "X_test = pad_sequences(maxlen=maxlen, sequences=test_data, dtype='int32', padding=\"post\",value=word2idx[\"PAD\"])\n",
        "y_label_test = [[tag2idx[w[1]] for w in s] for s in sentences_test]\n",
        "test_label = pad_sequences(maxlen=maxlen, sequences=y_label_test, dtype='int32', padding=\"post\", value=tag2idx[\"PAD\"])\n",
        "# One-Hot encode\n",
        "y_test = [to_categorical(i, num_classes=n_tags) for i in test_label]\n",
        "\n",
        "\n",
        "print(\n",
        "        'train_tokens length:', len(X_train),\n",
        "        '\\nval_tokens length:', len(X_val),\n",
        "        '\\ntest_tokens length:', len(X_test),\n",
        "        '\\ntrain_tags:', len(y_train),\n",
        "        '\\nval_tags:', len(y_val),\n",
        "        '\\ntest_tags:', len(y_test)\n",
        "    )\n"
      ],
      "metadata": {
        "colab": {
          "base_uri": "https://localhost:8080/"
        },
        "id": "h6J20tWoZjva",
        "outputId": "876e9dbf-7120-44d1-ac03-945da2f9e475"
      },
      "execution_count": null,
      "outputs": [
        {
          "output_type": "stream",
          "name": "stdout",
          "text": [
            "train_tokens length: 14041 \n",
            "val_tokens length: 3250 \n",
            "test_tokens length: 3453 \n",
            "train_tags: 14041 \n",
            "val_tags: 3250 \n",
            "test_tags: 3453\n"
          ]
        }
      ]
    },
    {
      "cell_type": "code",
      "source": [
        "for token, tag in zip(X_train[0], y_train[0]):\n",
        "    print('%s\\t%s' % (token, tag))"
      ],
      "metadata": {
        "id": "WtOMEQFIdNNe"
      },
      "execution_count": null,
      "outputs": []
    },
    {
      "cell_type": "markdown",
      "source": [
        "#Model"
      ],
      "metadata": {
        "id": "BSsrdXjWXlbE"
      }
    },
    {
      "cell_type": "code",
      "source": [
        "import tensorflow"
      ],
      "metadata": {
        "id": "nOdEsLKZJsGD"
      },
      "execution_count": null,
      "outputs": []
    },
    {
      "cell_type": "code",
      "source": [
        "from numpy.random import seed\n",
        "seed(1)\n",
        "tensorflow.random.set_seed(2)"
      ],
      "metadata": {
        "id": "AkaIkvtkXp12"
      },
      "execution_count": null,
      "outputs": []
    },
    {
      "cell_type": "code",
      "source": [
        "input_dim = n_words\n",
        "input_length = maxlen\n",
        "n_tags = len(tag2idx)\n",
        "print('input_dim: ', input_dim, '\\ninput_length: ', input_length, '\\nn_tags: ', n_tags)"
      ],
      "metadata": {
        "colab": {
          "base_uri": "https://localhost:8080/"
        },
        "id": "umCKjG-aXsej",
        "outputId": "7fe006c0-6c06-47d3-ba73-3f685737dc7d"
      },
      "execution_count": null,
      "outputs": [
        {
          "output_type": "stream",
          "name": "stdout",
          "text": [
            "input_dim:  26885 \n",
            "input_length:  113 \n",
            "n_tags:  10\n"
          ]
        }
      ]
    },
    {
      "cell_type": "code",
      "source": [
        "import numpy as np\n",
        "import tensorflow.keras as kk\n",
        "from tensorflow.keras import Sequential, Model, Input\n",
        "from tensorflow.keras.layers import LSTM, Embedding, Dense, TimeDistributed, Dropout, Bidirectional\n",
        "from tensorflow.keras.utils import plot_model\n",
        "from tf2crf import CRF, ModelWithCRFLoss"
      ],
      "metadata": {
        "id": "BJXiC6e-XkbY"
      },
      "execution_count": null,
      "outputs": []
    },
    {
      "cell_type": "code",
      "source": [
        "word_embedding_size = 40\n",
        "units_size = 50\n",
        "\n",
        "#input layer\n",
        "input = Input(shape=(maxlen,))\n",
        "\n",
        "# Embedding Layer\n",
        "embed = Embedding(input_dim=input_dim, output_dim=word_embedding_size, input_length=maxlen, mask_zero=True)(input)#Construct the sequence of layers-functional api\n",
        "\n",
        "# BI-LSTM Layer\n",
        "model = Bidirectional(LSTM(units=units_size, \n",
        "                           return_sequences=True, \n",
        "                           dropout=0.5, \n",
        "                           recurrent_dropout=0.5, \n",
        "                           kernel_initializer=kk.initializers.he_normal()))(embed)\n",
        "\n",
        "# TimeDistributed Layer\n",
        "model = TimeDistributed(Dense(units_size, activation=\"relu\"))(model) \n",
        "\n",
        "# CRF Layer\n",
        "crf = CRF(units=n_tags)\n",
        "\n",
        "output = crf(model)\n",
        "\n",
        "base_model = Model(input, output)\n",
        "base_model.summary()\n",
        "\n",
        "model = ModelWithCRFLoss(base_model, sparse_target=False)"
      ],
      "metadata": {
        "colab": {
          "base_uri": "https://localhost:8080/"
        },
        "id": "zbI8r9PdnIjg",
        "outputId": "a8764c2a-7347-4e85-a8e9-0edc5d664c9c"
      },
      "execution_count": null,
      "outputs": [
        {
          "output_type": "stream",
          "name": "stderr",
          "text": [
            "WARNING:tensorflow:Layer lstm will not use cuDNN kernels since it doesn't meet the criteria. It will use a generic GPU kernel as fallback when running on GPU.\n",
            "WARNING:tensorflow:Layer lstm will not use cuDNN kernels since it doesn't meet the criteria. It will use a generic GPU kernel as fallback when running on GPU.\n",
            "WARNING:tensorflow:Layer lstm will not use cuDNN kernels since it doesn't meet the criteria. It will use a generic GPU kernel as fallback when running on GPU.\n"
          ]
        },
        {
          "output_type": "stream",
          "name": "stdout",
          "text": [
            "Model: \"model\"\n",
            "_________________________________________________________________\n",
            " Layer (type)                Output Shape              Param #   \n",
            "=================================================================\n",
            " input_1 (InputLayer)        [(None, 113)]             0         \n",
            "                                                                 \n",
            " embedding (Embedding)       (None, 113, 40)           1075400   \n",
            "                                                                 \n",
            " bidirectional (Bidirectiona  (None, 113, 100)         36400     \n",
            " l)                                                              \n",
            "                                                                 \n",
            " time_distributed (TimeDistr  (None, 113, 50)          5050      \n",
            " ibuted)                                                         \n",
            "                                                                 \n",
            " crf (CRF)                   ((None, 113),             610       \n",
            "                              (None, 113, 10),                   \n",
            "                              (None,),                           \n",
            "                              (10, 10))                          \n",
            "                                                                 \n",
            "=================================================================\n",
            "Total params: 1,117,460\n",
            "Trainable params: 1,117,460\n",
            "Non-trainable params: 0\n",
            "_________________________________________________________________\n"
          ]
        }
      ]
    },
    {
      "cell_type": "code",
      "source": [
        "from keras.callbacks import ModelCheckpoint\n",
        "import matplotlib.pyplot as plt\n",
        "\n",
        "#Optimiser \n",
        "# adam = tf.keras.optimizers.Adam(learning_rate=0.001, beta_1=0.9, beta_2=0.999)\n",
        "\n",
        "# Compile model\n",
        "# model.compile(optimizer='adam')\n",
        "model.compile(optimizer=\"rmsprop\")\n",
        "\n",
        "\n",
        "# Saving the best model only\n",
        "filepath=\"ner-bi-lstm-tf2crf-model-{accuracy:.2f}.tf\"\n",
        "checkpoint = ModelCheckpoint(filepath, monitor='accuracy', verbose=1, save_best_only=True, mode='max')\n",
        "callbacks_list = [checkpoint]\n",
        "\n",
        "history = model.fit(X_train, np.array(y_train), validation_data = (X_val, np.array(y_val)), batch_size=256, epochs=20, verbose=1, callbacks=callbacks_list)"
      ],
      "metadata": {
        "colab": {
          "base_uri": "https://localhost:8080/"
        },
        "id": "bQrI16lHIU77",
        "outputId": "7df5b353-4de5-4b37-e2f3-c8f1ef58ed5c"
      },
      "execution_count": null,
      "outputs": [
        {
          "output_type": "stream",
          "name": "stdout",
          "text": [
            "Epoch 1/20\n",
            "55/55 [==============================] - ETA: 0s - loss: 14.4033 - accuracy: 0.7484\n",
            "Epoch 1: accuracy improved from -inf to 0.74843, saving model to ner-bi-lstm-tf2crf-model-0.75.tf\n"
          ]
        },
        {
          "output_type": "stream",
          "name": "stderr",
          "text": [
            "WARNING:tensorflow:Model's `__init__()` arguments contain non-serializable objects. Please implement a `get_config()` method in the subclassed Model for proper saving and loading. Defaulting to empty config.\n",
            "WARNING:tensorflow:Model's `__init__()` arguments contain non-serializable objects. Please implement a `get_config()` method in the subclassed Model for proper saving and loading. Defaulting to empty config.\n",
            "WARNING:absl:Found untraced functions such as dense_1_layer_call_fn, dense_1_layer_call_and_return_conditional_losses while saving (showing 2 of 2). These functions will not be directly callable after loading.\n",
            "WARNING:tensorflow:Model's `__init__()` arguments contain non-serializable objects. Please implement a `get_config()` method in the subclassed Model for proper saving and loading. Defaulting to empty config.\n",
            "WARNING:tensorflow:Model's `__init__()` arguments contain non-serializable objects. Please implement a `get_config()` method in the subclassed Model for proper saving and loading. Defaulting to empty config.\n"
          ]
        },
        {
          "output_type": "stream",
          "name": "stdout",
          "text": [
            "\b\b\b\b\b\b\b\b\b\b\b\b\b\b\b\b\b\b\b\b\b\b\b\b\b\b\b\b\b\b\b\b\b\b\b\b\b\b\b\b\b\b\b\b\b\b\b\b\b\b\b\b\b\b\b\b\b\b\b\b\b\b\b\b\b\b\b\b\b\b\b\b\b\b\b\b\b\b\b\b\b\b\b\r55/55 [==============================] - 124s 2s/step - loss: 14.4033 - accuracy: 0.7484 - val_loss_val: 11.0697 - val_val_accuracy: 0.8326\n",
            "Epoch 2/20\n",
            "55/55 [==============================] - ETA: 0s - loss: 8.1777 - accuracy: 0.8359\n",
            "Epoch 2: accuracy improved from 0.74843 to 0.83587, saving model to ner-bi-lstm-tf2crf-model-0.84.tf\n"
          ]
        },
        {
          "output_type": "stream",
          "name": "stderr",
          "text": [
            "WARNING:tensorflow:Model's `__init__()` arguments contain non-serializable objects. Please implement a `get_config()` method in the subclassed Model for proper saving and loading. Defaulting to empty config.\n",
            "WARNING:tensorflow:Model's `__init__()` arguments contain non-serializable objects. Please implement a `get_config()` method in the subclassed Model for proper saving and loading. Defaulting to empty config.\n",
            "WARNING:absl:Found untraced functions such as dense_1_layer_call_fn, dense_1_layer_call_and_return_conditional_losses while saving (showing 2 of 2). These functions will not be directly callable after loading.\n",
            "WARNING:tensorflow:Model's `__init__()` arguments contain non-serializable objects. Please implement a `get_config()` method in the subclassed Model for proper saving and loading. Defaulting to empty config.\n",
            "WARNING:tensorflow:Model's `__init__()` arguments contain non-serializable objects. Please implement a `get_config()` method in the subclassed Model for proper saving and loading. Defaulting to empty config.\n"
          ]
        },
        {
          "output_type": "stream",
          "name": "stdout",
          "text": [
            "\b\b\b\b\b\b\b\b\b\b\b\b\b\b\b\b\b\b\b\b\b\b\b\b\b\b\b\b\b\b\b\b\b\b\b\b\b\b\b\b\b\b\b\b\b\b\b\b\b\b\b\b\b\b\b\b\b\b\b\b\b\b\b\b\b\b\b\b\b\b\b\b\b\b\b\b\b\b\b\b\b\b\r55/55 [==============================] - 102s 2s/step - loss: 8.1777 - accuracy: 0.8359 - val_loss_val: 7.6566 - val_val_accuracy: 0.8461\n",
            "Epoch 3/20\n",
            "55/55 [==============================] - ETA: 0s - loss: 5.6515 - accuracy: 0.8659\n",
            "Epoch 3: accuracy improved from 0.83587 to 0.86588, saving model to ner-bi-lstm-tf2crf-model-0.87.tf\n"
          ]
        },
        {
          "output_type": "stream",
          "name": "stderr",
          "text": [
            "WARNING:tensorflow:Model's `__init__()` arguments contain non-serializable objects. Please implement a `get_config()` method in the subclassed Model for proper saving and loading. Defaulting to empty config.\n",
            "WARNING:tensorflow:Model's `__init__()` arguments contain non-serializable objects. Please implement a `get_config()` method in the subclassed Model for proper saving and loading. Defaulting to empty config.\n",
            "WARNING:absl:Found untraced functions such as dense_1_layer_call_fn, dense_1_layer_call_and_return_conditional_losses while saving (showing 2 of 2). These functions will not be directly callable after loading.\n",
            "WARNING:tensorflow:Model's `__init__()` arguments contain non-serializable objects. Please implement a `get_config()` method in the subclassed Model for proper saving and loading. Defaulting to empty config.\n",
            "WARNING:tensorflow:Model's `__init__()` arguments contain non-serializable objects. Please implement a `get_config()` method in the subclassed Model for proper saving and loading. Defaulting to empty config.\n"
          ]
        },
        {
          "output_type": "stream",
          "name": "stdout",
          "text": [
            "\b\b\b\b\b\b\b\b\b\b\b\b\b\b\b\b\b\b\b\b\b\b\b\b\b\b\b\b\b\b\b\b\b\b\b\b\b\b\b\b\b\b\b\b\b\b\b\b\b\b\b\b\b\b\b\b\b\b\b\b\b\b\b\b\b\b\b\b\b\b\b\b\b\b\b\b\b\b\b\b\b\b\r55/55 [==============================] - 104s 2s/step - loss: 5.6515 - accuracy: 0.8659 - val_loss_val: 6.2021 - val_val_accuracy: 0.8763\n",
            "Epoch 4/20\n",
            "55/55 [==============================] - ETA: 0s - loss: 4.2291 - accuracy: 0.9066\n",
            "Epoch 4: accuracy improved from 0.86588 to 0.90656, saving model to ner-bi-lstm-tf2crf-model-0.91.tf\n"
          ]
        },
        {
          "output_type": "stream",
          "name": "stderr",
          "text": [
            "WARNING:tensorflow:Model's `__init__()` arguments contain non-serializable objects. Please implement a `get_config()` method in the subclassed Model for proper saving and loading. Defaulting to empty config.\n",
            "WARNING:tensorflow:Model's `__init__()` arguments contain non-serializable objects. Please implement a `get_config()` method in the subclassed Model for proper saving and loading. Defaulting to empty config.\n",
            "WARNING:absl:Found untraced functions such as dense_1_layer_call_fn, dense_1_layer_call_and_return_conditional_losses while saving (showing 2 of 2). These functions will not be directly callable after loading.\n",
            "WARNING:tensorflow:Model's `__init__()` arguments contain non-serializable objects. Please implement a `get_config()` method in the subclassed Model for proper saving and loading. Defaulting to empty config.\n",
            "WARNING:tensorflow:Model's `__init__()` arguments contain non-serializable objects. Please implement a `get_config()` method in the subclassed Model for proper saving and loading. Defaulting to empty config.\n"
          ]
        },
        {
          "output_type": "stream",
          "name": "stdout",
          "text": [
            "\b\b\b\b\b\b\b\b\b\b\b\b\b\b\b\b\b\b\b\b\b\b\b\b\b\b\b\b\b\b\b\b\b\b\b\b\b\b\b\b\b\b\b\b\b\b\b\b\b\b\b\b\b\b\b\b\b\b\b\b\b\b\b\b\b\b\b\b\b\b\b\b\b\b\b\b\b\b\b\b\b\b\r55/55 [==============================] - 102s 2s/step - loss: 4.2291 - accuracy: 0.9066 - val_loss_val: 5.3197 - val_val_accuracy: 0.9019\n",
            "Epoch 5/20\n",
            "55/55 [==============================] - ETA: 0s - loss: 3.1457 - accuracy: 0.9338\n",
            "Epoch 5: accuracy improved from 0.90656 to 0.93381, saving model to ner-bi-lstm-tf2crf-model-0.93.tf\n"
          ]
        },
        {
          "output_type": "stream",
          "name": "stderr",
          "text": [
            "WARNING:tensorflow:Model's `__init__()` arguments contain non-serializable objects. Please implement a `get_config()` method in the subclassed Model for proper saving and loading. Defaulting to empty config.\n",
            "WARNING:tensorflow:Model's `__init__()` arguments contain non-serializable objects. Please implement a `get_config()` method in the subclassed Model for proper saving and loading. Defaulting to empty config.\n",
            "WARNING:absl:Found untraced functions such as dense_1_layer_call_fn, dense_1_layer_call_and_return_conditional_losses while saving (showing 2 of 2). These functions will not be directly callable after loading.\n",
            "WARNING:tensorflow:Model's `__init__()` arguments contain non-serializable objects. Please implement a `get_config()` method in the subclassed Model for proper saving and loading. Defaulting to empty config.\n",
            "WARNING:tensorflow:Model's `__init__()` arguments contain non-serializable objects. Please implement a `get_config()` method in the subclassed Model for proper saving and loading. Defaulting to empty config.\n"
          ]
        },
        {
          "output_type": "stream",
          "name": "stdout",
          "text": [
            "\b\b\b\b\b\b\b\b\b\b\b\b\b\b\b\b\b\b\b\b\b\b\b\b\b\b\b\b\b\b\b\b\b\b\b\b\b\b\b\b\b\b\b\b\b\b\b\b\b\b\b\b\b\b\b\b\b\b\b\b\b\b\b\b\b\b\b\b\b\b\b\b\b\b\b\b\b\b\b\b\b\b\r55/55 [==============================] - 107s 2s/step - loss: 3.1457 - accuracy: 0.9338 - val_loss_val: 4.5861 - val_val_accuracy: 0.9176\n",
            "Epoch 6/20\n",
            "55/55 [==============================] - ETA: 0s - loss: 2.3472 - accuracy: 0.9526\n",
            "Epoch 6: accuracy improved from 0.93381 to 0.95256, saving model to ner-bi-lstm-tf2crf-model-0.95.tf\n"
          ]
        },
        {
          "output_type": "stream",
          "name": "stderr",
          "text": [
            "WARNING:tensorflow:Model's `__init__()` arguments contain non-serializable objects. Please implement a `get_config()` method in the subclassed Model for proper saving and loading. Defaulting to empty config.\n",
            "WARNING:tensorflow:Model's `__init__()` arguments contain non-serializable objects. Please implement a `get_config()` method in the subclassed Model for proper saving and loading. Defaulting to empty config.\n",
            "WARNING:absl:Found untraced functions such as dense_1_layer_call_fn, dense_1_layer_call_and_return_conditional_losses while saving (showing 2 of 2). These functions will not be directly callable after loading.\n",
            "WARNING:tensorflow:Model's `__init__()` arguments contain non-serializable objects. Please implement a `get_config()` method in the subclassed Model for proper saving and loading. Defaulting to empty config.\n",
            "WARNING:tensorflow:Model's `__init__()` arguments contain non-serializable objects. Please implement a `get_config()` method in the subclassed Model for proper saving and loading. Defaulting to empty config.\n"
          ]
        },
        {
          "output_type": "stream",
          "name": "stdout",
          "text": [
            "\b\b\b\b\b\b\b\b\b\b\b\b\b\b\b\b\b\b\b\b\b\b\b\b\b\b\b\b\b\b\b\b\b\b\b\b\b\b\b\b\b\b\b\b\b\b\b\b\b\b\b\b\b\b\b\b\b\b\b\b\b\b\b\b\b\b\b\b\b\b\b\b\b\b\b\b\b\b\b\b\b\b\r55/55 [==============================] - 100s 2s/step - loss: 2.3472 - accuracy: 0.9526 - val_loss_val: 4.1053 - val_val_accuracy: 0.9266\n",
            "Epoch 7/20\n",
            "55/55 [==============================] - ETA: 0s - loss: 1.7540 - accuracy: 0.9662\n",
            "Epoch 7: accuracy improved from 0.95256 to 0.96623, saving model to ner-bi-lstm-tf2crf-model-0.97.tf\n"
          ]
        },
        {
          "output_type": "stream",
          "name": "stderr",
          "text": [
            "WARNING:tensorflow:Model's `__init__()` arguments contain non-serializable objects. Please implement a `get_config()` method in the subclassed Model for proper saving and loading. Defaulting to empty config.\n",
            "WARNING:tensorflow:Model's `__init__()` arguments contain non-serializable objects. Please implement a `get_config()` method in the subclassed Model for proper saving and loading. Defaulting to empty config.\n",
            "WARNING:absl:Found untraced functions such as dense_1_layer_call_fn, dense_1_layer_call_and_return_conditional_losses while saving (showing 2 of 2). These functions will not be directly callable after loading.\n",
            "WARNING:tensorflow:Model's `__init__()` arguments contain non-serializable objects. Please implement a `get_config()` method in the subclassed Model for proper saving and loading. Defaulting to empty config.\n",
            "WARNING:tensorflow:Model's `__init__()` arguments contain non-serializable objects. Please implement a `get_config()` method in the subclassed Model for proper saving and loading. Defaulting to empty config.\n"
          ]
        },
        {
          "output_type": "stream",
          "name": "stdout",
          "text": [
            "\b\b\b\b\b\b\b\b\b\b\b\b\b\b\b\b\b\b\b\b\b\b\b\b\b\b\b\b\b\b\b\b\b\b\b\b\b\b\b\b\b\b\b\b\b\b\b\b\b\b\b\b\b\b\b\b\b\b\b\b\b\b\b\b\b\b\b\b\b\b\b\b\b\b\b\b\b\b\b\b\b\b\r55/55 [==============================] - 100s 2s/step - loss: 1.7540 - accuracy: 0.9662 - val_loss_val: 3.6872 - val_val_accuracy: 0.9380\n",
            "Epoch 8/20\n",
            "55/55 [==============================] - ETA: 0s - loss: 1.3336 - accuracy: 0.9754\n",
            "Epoch 8: accuracy improved from 0.96623 to 0.97541, saving model to ner-bi-lstm-tf2crf-model-0.98.tf\n"
          ]
        },
        {
          "output_type": "stream",
          "name": "stderr",
          "text": [
            "WARNING:tensorflow:Model's `__init__()` arguments contain non-serializable objects. Please implement a `get_config()` method in the subclassed Model for proper saving and loading. Defaulting to empty config.\n",
            "WARNING:tensorflow:Model's `__init__()` arguments contain non-serializable objects. Please implement a `get_config()` method in the subclassed Model for proper saving and loading. Defaulting to empty config.\n",
            "WARNING:absl:Found untraced functions such as dense_1_layer_call_fn, dense_1_layer_call_and_return_conditional_losses while saving (showing 2 of 2). These functions will not be directly callable after loading.\n",
            "WARNING:tensorflow:Model's `__init__()` arguments contain non-serializable objects. Please implement a `get_config()` method in the subclassed Model for proper saving and loading. Defaulting to empty config.\n",
            "WARNING:tensorflow:Model's `__init__()` arguments contain non-serializable objects. Please implement a `get_config()` method in the subclassed Model for proper saving and loading. Defaulting to empty config.\n"
          ]
        },
        {
          "output_type": "stream",
          "name": "stdout",
          "text": [
            "\b\b\b\b\b\b\b\b\b\b\b\b\b\b\b\b\b\b\b\b\b\b\b\b\b\b\b\b\b\b\b\b\b\b\b\b\b\b\b\b\b\b\b\b\b\b\b\b\b\b\b\b\b\b\b\b\b\b\b\b\b\b\b\b\b\b\b\b\b\b\b\b\b\b\b\b\b\b\b\b\b\b\r55/55 [==============================] - 102s 2s/step - loss: 1.3336 - accuracy: 0.9754 - val_loss_val: 3.4575 - val_val_accuracy: 0.9390\n",
            "Epoch 9/20\n",
            "55/55 [==============================] - ETA: 0s - loss: 1.0487 - accuracy: 0.9810\n",
            "Epoch 9: accuracy improved from 0.97541 to 0.98100, saving model to ner-bi-lstm-tf2crf-model-0.98.tf\n"
          ]
        },
        {
          "output_type": "stream",
          "name": "stderr",
          "text": [
            "WARNING:tensorflow:Model's `__init__()` arguments contain non-serializable objects. Please implement a `get_config()` method in the subclassed Model for proper saving and loading. Defaulting to empty config.\n",
            "WARNING:tensorflow:Model's `__init__()` arguments contain non-serializable objects. Please implement a `get_config()` method in the subclassed Model for proper saving and loading. Defaulting to empty config.\n",
            "WARNING:absl:Found untraced functions such as dense_1_layer_call_fn, dense_1_layer_call_and_return_conditional_losses while saving (showing 2 of 2). These functions will not be directly callable after loading.\n",
            "WARNING:tensorflow:Model's `__init__()` arguments contain non-serializable objects. Please implement a `get_config()` method in the subclassed Model for proper saving and loading. Defaulting to empty config.\n",
            "WARNING:tensorflow:Model's `__init__()` arguments contain non-serializable objects. Please implement a `get_config()` method in the subclassed Model for proper saving and loading. Defaulting to empty config.\n"
          ]
        },
        {
          "output_type": "stream",
          "name": "stdout",
          "text": [
            "\b\b\b\b\b\b\b\b\b\b\b\b\b\b\b\b\b\b\b\b\b\b\b\b\b\b\b\b\b\b\b\b\b\b\b\b\b\b\b\b\b\b\b\b\b\b\b\b\b\b\b\b\b\b\b\b\b\b\b\b\b\b\b\b\b\b\b\b\b\b\b\b\b\b\b\b\b\b\b\b\b\b\r55/55 [==============================] - 98s 2s/step - loss: 1.0487 - accuracy: 0.9810 - val_loss_val: 3.2441 - val_val_accuracy: 0.9411\n",
            "Epoch 10/20\n",
            "55/55 [==============================] - ETA: 0s - loss: 0.8317 - accuracy: 0.9848\n",
            "Epoch 10: accuracy improved from 0.98100 to 0.98483, saving model to ner-bi-lstm-tf2crf-model-0.98.tf\n"
          ]
        },
        {
          "output_type": "stream",
          "name": "stderr",
          "text": [
            "WARNING:tensorflow:Model's `__init__()` arguments contain non-serializable objects. Please implement a `get_config()` method in the subclassed Model for proper saving and loading. Defaulting to empty config.\n",
            "WARNING:tensorflow:Model's `__init__()` arguments contain non-serializable objects. Please implement a `get_config()` method in the subclassed Model for proper saving and loading. Defaulting to empty config.\n",
            "WARNING:absl:Found untraced functions such as dense_1_layer_call_fn, dense_1_layer_call_and_return_conditional_losses while saving (showing 2 of 2). These functions will not be directly callable after loading.\n",
            "WARNING:tensorflow:Model's `__init__()` arguments contain non-serializable objects. Please implement a `get_config()` method in the subclassed Model for proper saving and loading. Defaulting to empty config.\n",
            "WARNING:tensorflow:Model's `__init__()` arguments contain non-serializable objects. Please implement a `get_config()` method in the subclassed Model for proper saving and loading. Defaulting to empty config.\n"
          ]
        },
        {
          "output_type": "stream",
          "name": "stdout",
          "text": [
            "\b\b\b\b\b\b\b\b\b\b\b\b\b\b\b\b\b\b\b\b\b\b\b\b\b\b\b\b\b\b\b\b\b\b\b\b\b\b\b\b\b\b\b\b\b\b\b\b\b\b\b\b\b\b\b\b\b\b\b\b\b\b\b\b\b\b\b\b\b\b\b\b\b\b\b\b\b\b\b\b\b\b\r55/55 [==============================] - 106s 2s/step - loss: 0.8317 - accuracy: 0.9848 - val_loss_val: 3.0517 - val_val_accuracy: 0.9452\n",
            "Epoch 11/20\n",
            "55/55 [==============================] - ETA: 0s - loss: 0.6943 - accuracy: 0.9875\n",
            "Epoch 11: accuracy improved from 0.98483 to 0.98749, saving model to ner-bi-lstm-tf2crf-model-0.99.tf\n"
          ]
        },
        {
          "output_type": "stream",
          "name": "stderr",
          "text": [
            "WARNING:tensorflow:Model's `__init__()` arguments contain non-serializable objects. Please implement a `get_config()` method in the subclassed Model for proper saving and loading. Defaulting to empty config.\n",
            "WARNING:tensorflow:Model's `__init__()` arguments contain non-serializable objects. Please implement a `get_config()` method in the subclassed Model for proper saving and loading. Defaulting to empty config.\n",
            "WARNING:absl:Found untraced functions such as dense_1_layer_call_fn, dense_1_layer_call_and_return_conditional_losses while saving (showing 2 of 2). These functions will not be directly callable after loading.\n",
            "WARNING:tensorflow:Model's `__init__()` arguments contain non-serializable objects. Please implement a `get_config()` method in the subclassed Model for proper saving and loading. Defaulting to empty config.\n",
            "WARNING:tensorflow:Model's `__init__()` arguments contain non-serializable objects. Please implement a `get_config()` method in the subclassed Model for proper saving and loading. Defaulting to empty config.\n"
          ]
        },
        {
          "output_type": "stream",
          "name": "stdout",
          "text": [
            "\b\b\b\b\b\b\b\b\b\b\b\b\b\b\b\b\b\b\b\b\b\b\b\b\b\b\b\b\b\b\b\b\b\b\b\b\b\b\b\b\b\b\b\b\b\b\b\b\b\b\b\b\b\b\b\b\b\b\b\b\b\b\b\b\b\b\b\b\b\b\b\b\b\b\b\b\b\b\b\b\b\b\r55/55 [==============================] - 99s 2s/step - loss: 0.6943 - accuracy: 0.9875 - val_loss_val: 3.0607 - val_val_accuracy: 0.9471\n",
            "Epoch 12/20\n",
            "55/55 [==============================] - ETA: 0s - loss: 0.5810 - accuracy: 0.9893\n",
            "Epoch 12: accuracy improved from 0.98749 to 0.98933, saving model to ner-bi-lstm-tf2crf-model-0.99.tf\n"
          ]
        },
        {
          "output_type": "stream",
          "name": "stderr",
          "text": [
            "WARNING:tensorflow:Model's `__init__()` arguments contain non-serializable objects. Please implement a `get_config()` method in the subclassed Model for proper saving and loading. Defaulting to empty config.\n",
            "WARNING:tensorflow:Model's `__init__()` arguments contain non-serializable objects. Please implement a `get_config()` method in the subclassed Model for proper saving and loading. Defaulting to empty config.\n",
            "WARNING:absl:Found untraced functions such as dense_1_layer_call_fn, dense_1_layer_call_and_return_conditional_losses while saving (showing 2 of 2). These functions will not be directly callable after loading.\n",
            "WARNING:tensorflow:Model's `__init__()` arguments contain non-serializable objects. Please implement a `get_config()` method in the subclassed Model for proper saving and loading. Defaulting to empty config.\n",
            "WARNING:tensorflow:Model's `__init__()` arguments contain non-serializable objects. Please implement a `get_config()` method in the subclassed Model for proper saving and loading. Defaulting to empty config.\n"
          ]
        },
        {
          "output_type": "stream",
          "name": "stdout",
          "text": [
            "\b\b\b\b\b\b\b\b\b\b\b\b\b\b\b\b\b\b\b\b\b\b\b\b\b\b\b\b\b\b\b\b\b\b\b\b\b\b\b\b\b\b\b\b\b\b\b\b\b\b\b\b\b\b\b\b\b\b\b\b\b\b\b\b\b\b\b\b\b\b\b\b\b\b\b\b\b\b\b\b\b\b\r55/55 [==============================] - 99s 2s/step - loss: 0.5810 - accuracy: 0.9893 - val_loss_val: 2.9510 - val_val_accuracy: 0.9476\n",
            "Epoch 13/20\n",
            "55/55 [==============================] - ETA: 0s - loss: 0.5097 - accuracy: 0.9903\n",
            "Epoch 13: accuracy improved from 0.98933 to 0.99035, saving model to ner-bi-lstm-tf2crf-model-0.99.tf\n"
          ]
        },
        {
          "output_type": "stream",
          "name": "stderr",
          "text": [
            "WARNING:tensorflow:Model's `__init__()` arguments contain non-serializable objects. Please implement a `get_config()` method in the subclassed Model for proper saving and loading. Defaulting to empty config.\n",
            "WARNING:tensorflow:Model's `__init__()` arguments contain non-serializable objects. Please implement a `get_config()` method in the subclassed Model for proper saving and loading. Defaulting to empty config.\n",
            "WARNING:absl:Found untraced functions such as dense_1_layer_call_fn, dense_1_layer_call_and_return_conditional_losses while saving (showing 2 of 2). These functions will not be directly callable after loading.\n",
            "WARNING:tensorflow:Model's `__init__()` arguments contain non-serializable objects. Please implement a `get_config()` method in the subclassed Model for proper saving and loading. Defaulting to empty config.\n",
            "WARNING:tensorflow:Model's `__init__()` arguments contain non-serializable objects. Please implement a `get_config()` method in the subclassed Model for proper saving and loading. Defaulting to empty config.\n"
          ]
        },
        {
          "output_type": "stream",
          "name": "stdout",
          "text": [
            "\b\b\b\b\b\b\b\b\b\b\b\b\b\b\b\b\b\b\b\b\b\b\b\b\b\b\b\b\b\b\b\b\b\b\b\b\b\b\b\b\b\b\b\b\b\b\b\b\b\b\b\b\b\b\b\b\b\b\b\b\b\b\b\b\b\b\b\b\b\b\b\b\b\b\b\b\b\b\b\b\b\b\r55/55 [==============================] - 99s 2s/step - loss: 0.5097 - accuracy: 0.9903 - val_loss_val: 2.8720 - val_val_accuracy: 0.9492\n",
            "Epoch 14/20\n",
            "55/55 [==============================] - ETA: 0s - loss: 0.4411 - accuracy: 0.9916\n",
            "Epoch 14: accuracy improved from 0.99035 to 0.99156, saving model to ner-bi-lstm-tf2crf-model-0.99.tf\n"
          ]
        },
        {
          "output_type": "stream",
          "name": "stderr",
          "text": [
            "WARNING:tensorflow:Model's `__init__()` arguments contain non-serializable objects. Please implement a `get_config()` method in the subclassed Model for proper saving and loading. Defaulting to empty config.\n",
            "WARNING:tensorflow:Model's `__init__()` arguments contain non-serializable objects. Please implement a `get_config()` method in the subclassed Model for proper saving and loading. Defaulting to empty config.\n",
            "WARNING:absl:Found untraced functions such as dense_1_layer_call_fn, dense_1_layer_call_and_return_conditional_losses while saving (showing 2 of 2). These functions will not be directly callable after loading.\n",
            "WARNING:tensorflow:Model's `__init__()` arguments contain non-serializable objects. Please implement a `get_config()` method in the subclassed Model for proper saving and loading. Defaulting to empty config.\n",
            "WARNING:tensorflow:Model's `__init__()` arguments contain non-serializable objects. Please implement a `get_config()` method in the subclassed Model for proper saving and loading. Defaulting to empty config.\n"
          ]
        },
        {
          "output_type": "stream",
          "name": "stdout",
          "text": [
            "\b\b\b\b\b\b\b\b\b\b\b\b\b\b\b\b\b\b\b\b\b\b\b\b\b\b\b\b\b\b\b\b\b\b\b\b\b\b\b\b\b\b\b\b\b\b\b\b\b\b\b\b\b\b\b\b\b\b\b\b\b\b\b\b\b\b\b\b\b\b\b\b\b\b\b\b\b\b\b\b\b\b\r55/55 [==============================] - 99s 2s/step - loss: 0.4411 - accuracy: 0.9916 - val_loss_val: 2.8022 - val_val_accuracy: 0.9491\n",
            "Epoch 15/20\n",
            "55/55 [==============================] - ETA: 0s - loss: 0.3921 - accuracy: 0.9926\n",
            "Epoch 15: accuracy improved from 0.99156 to 0.99255, saving model to ner-bi-lstm-tf2crf-model-0.99.tf\n"
          ]
        },
        {
          "output_type": "stream",
          "name": "stderr",
          "text": [
            "WARNING:tensorflow:Model's `__init__()` arguments contain non-serializable objects. Please implement a `get_config()` method in the subclassed Model for proper saving and loading. Defaulting to empty config.\n",
            "WARNING:tensorflow:Model's `__init__()` arguments contain non-serializable objects. Please implement a `get_config()` method in the subclassed Model for proper saving and loading. Defaulting to empty config.\n",
            "WARNING:absl:Found untraced functions such as dense_1_layer_call_fn, dense_1_layer_call_and_return_conditional_losses while saving (showing 2 of 2). These functions will not be directly callable after loading.\n",
            "WARNING:tensorflow:Model's `__init__()` arguments contain non-serializable objects. Please implement a `get_config()` method in the subclassed Model for proper saving and loading. Defaulting to empty config.\n",
            "WARNING:tensorflow:Model's `__init__()` arguments contain non-serializable objects. Please implement a `get_config()` method in the subclassed Model for proper saving and loading. Defaulting to empty config.\n"
          ]
        },
        {
          "output_type": "stream",
          "name": "stdout",
          "text": [
            "\b\b\b\b\b\b\b\b\b\b\b\b\b\b\b\b\b\b\b\b\b\b\b\b\b\b\b\b\b\b\b\b\b\b\b\b\b\b\b\b\b\b\b\b\b\b\b\b\b\b\b\b\b\b\b\b\b\b\b\b\b\b\b\b\b\b\b\b\b\b\b\b\b\b\b\b\b\b\b\b\b\b\r55/55 [==============================] - 99s 2s/step - loss: 0.3921 - accuracy: 0.9926 - val_loss_val: 2.8301 - val_val_accuracy: 0.9477\n",
            "Epoch 16/20\n",
            "55/55 [==============================] - ETA: 0s - loss: 0.3379 - accuracy: 0.9935\n",
            "Epoch 16: accuracy improved from 0.99255 to 0.99346, saving model to ner-bi-lstm-tf2crf-model-0.99.tf\n"
          ]
        },
        {
          "output_type": "stream",
          "name": "stderr",
          "text": [
            "WARNING:tensorflow:Model's `__init__()` arguments contain non-serializable objects. Please implement a `get_config()` method in the subclassed Model for proper saving and loading. Defaulting to empty config.\n",
            "WARNING:tensorflow:Model's `__init__()` arguments contain non-serializable objects. Please implement a `get_config()` method in the subclassed Model for proper saving and loading. Defaulting to empty config.\n",
            "WARNING:absl:Found untraced functions such as dense_1_layer_call_fn, dense_1_layer_call_and_return_conditional_losses while saving (showing 2 of 2). These functions will not be directly callable after loading.\n",
            "WARNING:tensorflow:Model's `__init__()` arguments contain non-serializable objects. Please implement a `get_config()` method in the subclassed Model for proper saving and loading. Defaulting to empty config.\n",
            "WARNING:tensorflow:Model's `__init__()` arguments contain non-serializable objects. Please implement a `get_config()` method in the subclassed Model for proper saving and loading. Defaulting to empty config.\n"
          ]
        },
        {
          "output_type": "stream",
          "name": "stdout",
          "text": [
            "\b\b\b\b\b\b\b\b\b\b\b\b\b\b\b\b\b\b\b\b\b\b\b\b\b\b\b\b\b\b\b\b\b\b\b\b\b\b\b\b\b\b\b\b\b\b\b\b\b\b\b\b\b\b\b\b\b\b\b\b\b\b\b\b\b\b\b\b\b\b\b\b\b\b\b\b\b\b\b\b\b\b\r55/55 [==============================] - 97s 2s/step - loss: 0.3379 - accuracy: 0.9935 - val_loss_val: 2.8715 - val_val_accuracy: 0.9500\n",
            "Epoch 17/20\n",
            "55/55 [==============================] - ETA: 0s - loss: 0.3055 - accuracy: 0.9939\n",
            "Epoch 17: accuracy improved from 0.99346 to 0.99393, saving model to ner-bi-lstm-tf2crf-model-0.99.tf\n"
          ]
        },
        {
          "output_type": "stream",
          "name": "stderr",
          "text": [
            "WARNING:tensorflow:Model's `__init__()` arguments contain non-serializable objects. Please implement a `get_config()` method in the subclassed Model for proper saving and loading. Defaulting to empty config.\n",
            "WARNING:tensorflow:Model's `__init__()` arguments contain non-serializable objects. Please implement a `get_config()` method in the subclassed Model for proper saving and loading. Defaulting to empty config.\n",
            "WARNING:absl:Found untraced functions such as dense_1_layer_call_fn, dense_1_layer_call_and_return_conditional_losses while saving (showing 2 of 2). These functions will not be directly callable after loading.\n",
            "WARNING:tensorflow:Model's `__init__()` arguments contain non-serializable objects. Please implement a `get_config()` method in the subclassed Model for proper saving and loading. Defaulting to empty config.\n",
            "WARNING:tensorflow:Model's `__init__()` arguments contain non-serializable objects. Please implement a `get_config()` method in the subclassed Model for proper saving and loading. Defaulting to empty config.\n"
          ]
        },
        {
          "output_type": "stream",
          "name": "stdout",
          "text": [
            "\b\b\b\b\b\b\b\b\b\b\b\b\b\b\b\b\b\b\b\b\b\b\b\b\b\b\b\b\b\b\b\b\b\b\b\b\b\b\b\b\b\b\b\b\b\b\b\b\b\b\b\b\b\b\b\b\b\b\b\b\b\b\b\b\b\b\b\b\b\b\b\b\b\b\b\b\b\b\b\b\b\b\r55/55 [==============================] - 98s 2s/step - loss: 0.3055 - accuracy: 0.9939 - val_loss_val: 2.8035 - val_val_accuracy: 0.9512\n",
            "Epoch 18/20\n",
            "55/55 [==============================] - ETA: 0s - loss: 0.2780 - accuracy: 0.9945\n",
            "Epoch 18: accuracy improved from 0.99393 to 0.99448, saving model to ner-bi-lstm-tf2crf-model-0.99.tf\n"
          ]
        },
        {
          "output_type": "stream",
          "name": "stderr",
          "text": [
            "WARNING:tensorflow:Model's `__init__()` arguments contain non-serializable objects. Please implement a `get_config()` method in the subclassed Model for proper saving and loading. Defaulting to empty config.\n",
            "WARNING:tensorflow:Model's `__init__()` arguments contain non-serializable objects. Please implement a `get_config()` method in the subclassed Model for proper saving and loading. Defaulting to empty config.\n",
            "WARNING:absl:Found untraced functions such as dense_1_layer_call_fn, dense_1_layer_call_and_return_conditional_losses while saving (showing 2 of 2). These functions will not be directly callable after loading.\n",
            "WARNING:tensorflow:Model's `__init__()` arguments contain non-serializable objects. Please implement a `get_config()` method in the subclassed Model for proper saving and loading. Defaulting to empty config.\n",
            "WARNING:tensorflow:Model's `__init__()` arguments contain non-serializable objects. Please implement a `get_config()` method in the subclassed Model for proper saving and loading. Defaulting to empty config.\n"
          ]
        },
        {
          "output_type": "stream",
          "name": "stdout",
          "text": [
            "\b\b\b\b\b\b\b\b\b\b\b\b\b\b\b\b\b\b\b\b\b\b\b\b\b\b\b\b\b\b\b\b\b\b\b\b\b\b\b\b\b\b\b\b\b\b\b\b\b\b\b\b\b\b\b\b\b\b\b\b\b\b\b\b\b\b\b\b\b\b\b\b\b\b\b\b\b\b\b\b\b\b\r55/55 [==============================] - 98s 2s/step - loss: 0.2780 - accuracy: 0.9945 - val_loss_val: 2.8199 - val_val_accuracy: 0.9525\n",
            "Epoch 19/20\n",
            "55/55 [==============================] - ETA: 0s - loss: 0.2519 - accuracy: 0.9950\n",
            "Epoch 19: accuracy improved from 0.99448 to 0.99495, saving model to ner-bi-lstm-tf2crf-model-0.99.tf\n"
          ]
        },
        {
          "output_type": "stream",
          "name": "stderr",
          "text": [
            "WARNING:tensorflow:Model's `__init__()` arguments contain non-serializable objects. Please implement a `get_config()` method in the subclassed Model for proper saving and loading. Defaulting to empty config.\n",
            "WARNING:tensorflow:Model's `__init__()` arguments contain non-serializable objects. Please implement a `get_config()` method in the subclassed Model for proper saving and loading. Defaulting to empty config.\n",
            "WARNING:absl:Found untraced functions such as dense_1_layer_call_fn, dense_1_layer_call_and_return_conditional_losses while saving (showing 2 of 2). These functions will not be directly callable after loading.\n",
            "WARNING:tensorflow:Model's `__init__()` arguments contain non-serializable objects. Please implement a `get_config()` method in the subclassed Model for proper saving and loading. Defaulting to empty config.\n",
            "WARNING:tensorflow:Model's `__init__()` arguments contain non-serializable objects. Please implement a `get_config()` method in the subclassed Model for proper saving and loading. Defaulting to empty config.\n"
          ]
        },
        {
          "output_type": "stream",
          "name": "stdout",
          "text": [
            "\b\b\b\b\b\b\b\b\b\b\b\b\b\b\b\b\b\b\b\b\b\b\b\b\b\b\b\b\b\b\b\b\b\b\b\b\b\b\b\b\b\b\b\b\b\b\b\b\b\b\b\b\b\b\b\b\b\b\b\b\b\b\b\b\b\b\b\b\b\b\b\b\b\b\b\b\b\b\b\b\b\b\r55/55 [==============================] - 98s 2s/step - loss: 0.2519 - accuracy: 0.9950 - val_loss_val: 2.7607 - val_val_accuracy: 0.9511\n",
            "Epoch 20/20\n",
            "55/55 [==============================] - ETA: 0s - loss: 0.2242 - accuracy: 0.9956\n",
            "Epoch 20: accuracy improved from 0.99495 to 0.99556, saving model to ner-bi-lstm-tf2crf-model-1.00.tf\n"
          ]
        },
        {
          "output_type": "stream",
          "name": "stderr",
          "text": [
            "WARNING:tensorflow:Model's `__init__()` arguments contain non-serializable objects. Please implement a `get_config()` method in the subclassed Model for proper saving and loading. Defaulting to empty config.\n",
            "WARNING:tensorflow:Model's `__init__()` arguments contain non-serializable objects. Please implement a `get_config()` method in the subclassed Model for proper saving and loading. Defaulting to empty config.\n",
            "WARNING:absl:Found untraced functions such as dense_1_layer_call_fn, dense_1_layer_call_and_return_conditional_losses while saving (showing 2 of 2). These functions will not be directly callable after loading.\n",
            "WARNING:tensorflow:Model's `__init__()` arguments contain non-serializable objects. Please implement a `get_config()` method in the subclassed Model for proper saving and loading. Defaulting to empty config.\n",
            "WARNING:tensorflow:Model's `__init__()` arguments contain non-serializable objects. Please implement a `get_config()` method in the subclassed Model for proper saving and loading. Defaulting to empty config.\n"
          ]
        },
        {
          "output_type": "stream",
          "name": "stdout",
          "text": [
            "\b\b\b\b\b\b\b\b\b\b\b\b\b\b\b\b\b\b\b\b\b\b\b\b\b\b\b\b\b\b\b\b\b\b\b\b\b\b\b\b\b\b\b\b\b\b\b\b\b\b\b\b\b\b\b\b\b\b\b\b\b\b\b\b\b\b\b\b\b\b\b\b\b\b\b\b\b\b\b\b\b\b\r55/55 [==============================] - 99s 2s/step - loss: 0.2242 - accuracy: 0.9956 - val_loss_val: 2.8101 - val_val_accuracy: 0.9506\n"
          ]
        }
      ]
    },
    {
      "cell_type": "code",
      "source": [
        "# Plot training & validation accuracy values\n",
        "plt.plot(history.history['accuracy'])\n",
        "plt.plot(history.history['val_val_accuracy'])\n",
        "plt.title('Model accuracy')\n",
        "plt.ylabel('Accuracy')\n",
        "plt.xlabel('Epoch')\n",
        "plt.legend(['Train', 'Test'])\n",
        "plt.show()\n",
        "\n",
        "# Plot training & validation loss values\n",
        "plt.plot(history.history['loss'])\n",
        "plt.plot(history.history['val_loss_val'])\n",
        "plt.title('Model loss')\n",
        "plt.ylabel('Loss')\n",
        "plt.xlabel('Epoch')\n",
        "plt.legend(['Train', 'Test'], loc='upper left')\n",
        "plt.show()"
      ],
      "metadata": {
        "colab": {
          "base_uri": "https://localhost:8080/",
          "height": 927
        },
        "id": "c6y7Bsa6RRf6",
        "outputId": "f7cf04c3-59d5-4a1b-95e3-db5a9886817b"
      },
      "execution_count": null,
      "outputs": [
        {
          "output_type": "display_data",
          "data": {
            "text/plain": [
              "<Figure size 640x480 with 1 Axes>"
            ],
            "image/png": "[encoded data removed]"
          },
          "metadata": {}
        },
        {
          "output_type": "display_data",
          "data": {
            "text/plain": [
              "<Figure size 640x480 with 1 Axes>"
            ],
            "image/png": "[encoded data removed]"
          },
          "metadata": {}
        }
      ]
    },
    {
      "cell_type": "code",
      "source": [
        "# Prediction\n",
        "pred_cat = model.predict(X_test, verbose=1)\n",
        "y_te_true = np.argmax(y_test, -1)"
      ],
      "metadata": {
        "id": "4cwW79t-RbSQ",
        "colab": {
          "base_uri": "https://localhost:8080/"
        },
        "outputId": "10199ded-42de-4570-ea60-00955d30b7de"
      },
      "execution_count": null,
      "outputs": [
        {
          "output_type": "stream",
          "name": "stdout",
          "text": [
            "108/108 [==============================] - 17s 146ms/step\n"
          ]
        }
      ]
    },
    {
      "cell_type": "code",
      "source": [
        "#New classification report\n",
        "from sklearn_crfsuite.utils import flatten\n",
        "from functools import wraps\n",
        "\n",
        "\n",
        "def _flattens_y(func):\n",
        "    @wraps(func)\n",
        "    def wrapper(y_true, y_pred, *args, **kwargs):\n",
        "        y_true_flat = flatten(y_true)\n",
        "        y_pred_flat = flatten(y_pred)\n",
        "        return func(y_true_flat, y_pred_flat, *args, **kwargs)\n",
        "    return wrapper\n",
        "\n",
        "\n",
        "@_flattens_y\n",
        "def flat_classification_report(y_true, y_pred, labels=None, target_names=None, **kwargs):\n",
        "    \"\"\"\n",
        "    Return classification report for sequence items.\n",
        "    \"\"\"\n",
        "    from sklearn import metrics\n",
        "    return metrics.classification_report(y_true, y_pred, labels=labels, target_names=target_names, **kwargs)"
      ],
      "metadata": {
        "id": "Uxrc-aN7drwr"
      },
      "execution_count": null,
      "outputs": []
    },
    {
      "cell_type": "code",
      "source": [
        "#Flat Classification report for Validation Data\n",
        "report = flat_classification_report(y_te_true, pred_cat, target_names=tags)\n",
        "print(report)"
      ],
      "metadata": {
        "colab": {
          "base_uri": "https://localhost:8080/"
        },
        "id": "u7Z__o0agD0V",
        "outputId": "94758fd5-5040-46a2-f8a7-7a032a346015"
      },
      "execution_count": null,
      "outputs": [
        {
          "output_type": "stream",
          "name": "stdout",
          "text": [
            "              precision    recall  f1-score   support\n",
            "\n",
            "         PAD       1.00      1.00      1.00    343765\n",
            "       B-ORG       0.84      0.69      0.76      1660\n",
            "       B-LOC       0.89      0.82      0.86      1667\n",
            "       B-PER       0.84      0.72      0.77      1616\n",
            "           O       0.97      0.98      0.97     38316\n",
            "       I-ORG       0.77      0.75      0.76       835\n",
            "       I-LOC       0.45      0.71      0.55       257\n",
            "      I-MISC       0.63      0.64      0.63       216\n",
            "       I-PER       0.86      0.81      0.83      1155\n",
            "      B-MISC       0.84      0.74      0.79       702\n",
            "\n",
            "    accuracy                           0.99    390189\n",
            "   macro avg       0.81      0.79      0.79    390189\n",
            "weighted avg       0.99      0.99      0.99    390189\n",
            "\n"
          ]
        }
      ]
    },
    {
      "cell_type": "code",
      "source": [
        "i = np.random.randint(0,X_test.shape[0]) # choose a random number between 0 and len(X_te)\n",
        "p = model.predict(np.array([X_test[i]]))\n",
        "true = np.argmax(y_test[i], -1)\n",
        "\n",
        "print(\"Sample number {} of {} (Test Set)\".format(i, X_test.shape[0]))\n",
        "# Visualization\n",
        "print(\"{:15}||{:5}||{}\".format(\"Word\", \"True\", \"Pred\"))\n",
        "print(30 * \"=\")\n",
        "for w, t, pred in zip(X_test[i], true, p[0]):\n",
        "    if w != 0:\n",
        "        print(\"{:15}: {:5} {}\".format(words[w-2], idx2tag[t], idx2tag[pred]))"
      ],
      "metadata": {
        "colab": {
          "base_uri": "https://localhost:8080/"
        },
        "id": "TrzNAeODRcep",
        "outputId": "807dd85c-1b49-47ff-c2a7-2e9bc15cf26e"
      },
      "execution_count": null,
      "outputs": [
        {
          "output_type": "stream",
          "name": "stdout",
          "text": [
            "1/1 [==============================] - 0s 190ms/step\n",
            "Sample number 1061 of 3453 (Test Set)\n",
            "Word           ||True ||Pred\n",
            "==============================\n",
            "Before         : O     O\n",
            "212-859-1650   : B-PER B-ORG\n",
            "'s             : O     O\n",
            "statement      : O     O\n",
            ",              : O     O\n",
            "Major          : B-PER B-ORG\n",
            "had            : O     O\n",
            "a              : O     O\n",
            "212-859-1650   : O     B-ORG\n",
            "majority       : O     O\n",
            "in             : O     O\n",
            "the            : O     O\n",
            "212-859-1650   : O     B-ORG\n",
            "House          : B-ORG I-ORG\n",
            "of             : I-ORG O\n",
            "Commons        : I-ORG B-ORG\n",
            "lower          : O     O\n",
            "house          : O     O\n",
            "of             : O     O\n",
            "parliament     : O     O\n",
            ".              : O     O\n"
          ]
        }
      ]
    }
  ]
}