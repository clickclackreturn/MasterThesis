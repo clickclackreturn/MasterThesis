{
  "nbformat": 4,
  "nbformat_minor": 0,
  "metadata": {
    "colab": {
      "provenance": [],
      "gpuType": "T4"
    },
    "kernelspec": {
      "name": "python3",
      "display_name": "Python 3"
    },
    "language_info": {
      "name": "python"
    },
    "accelerator": "GPU",
    "gpuClass": "standard"
  },
  "cells": [
    {
      "cell_type": "markdown",
      "source": [
        "Inspired By:\\\n",
        "https://github.com/JRC1995/Bi-GRU-CRF-NER\n",
        "\n",
        "https://www.kaggle.com/code/samarthsarin/keras-gru-with-glove-embedding/notebook"
      ],
      "metadata": {
        "id": "dQQC7Hj_iFnc"
      }
    },
    {
      "cell_type": "code",
      "source": [
        "from google.colab import drive\n",
        "drive.mount('/content/drive')"
      ],
      "metadata": {
        "colab": {
          "base_uri": "https://localhost:8080/"
        },
        "id": "bzyu3ANcpTwG",
        "outputId": "c117695b-d6ff-46cf-e06e-961f7f9380c1"
      },
      "execution_count": null,
      "outputs": [
        {
          "output_type": "stream",
          "name": "stdout",
          "text": [
            "Mounted at /content/drive\n"
          ]
        }
      ]
    },
    {
      "cell_type": "code",
      "source": [
        "!pip install tf2crf"
      ],
      "metadata": {
        "id": "3OY8Cg2AnODr"
      },
      "execution_count": null,
      "outputs": []
    },
    {
      "cell_type": "code",
      "source": [
        "!pip install sklearn_crfsuite"
      ],
      "metadata": {
        "id": "hrRFbKKFdZAE"
      },
      "execution_count": null,
      "outputs": []
    },
    {
      "cell_type": "code",
      "source": [
        "import numpy as np\n",
        "import pandas as pd"
      ],
      "metadata": {
        "id": "CzqUIWrwYjyU"
      },
      "execution_count": null,
      "outputs": []
    },
    {
      "cell_type": "code",
      "source": [
        "#CONLL data\n",
        "class SentenceGetter(object):\n",
        "    \n",
        "    def __init__(self, filenames):\n",
        "        self.sentences_map = {} #\"train\":[], valid\n",
        "        self.filenames = filenames\n",
        "        self.words = set()\n",
        "        self.tags = set()\n",
        "        niter = 0\n",
        "        for filename in filenames:\n",
        "          self.filename = filename\n",
        "          self.sentences = []\n",
        "          with open(self.filename) as f:\n",
        "              sentence = []\n",
        "              for line in f:\n",
        "                  line = line.strip()\n",
        "                  if (len(line) == 0 or line.startswith(\"-DOCSTART-\")):\n",
        "                      if len(sentence) != 0:\n",
        "                        self.sentences.append(sentence)\n",
        "                        sentence = []\n",
        "                      continue\n",
        "                  else:\n",
        "                      ls = line.split(' ')\n",
        "                      word, tag = ls[0],ls[3] #word - - tag\n",
        "                      self.words.add(word)\n",
        "                      self.tags.add(tag)\n",
        "                      sentence.append((word,tag))\n",
        "          if (\"train\" in filename):\n",
        "            self.sentences_map[\"train\"] = self.sentences\n",
        "          elif (\"valid\" in filename):\n",
        "            self.sentences_map[\"valid\"] = self.sentences\n",
        "          else:\n",
        "            self.sentences_map[\"test\"] = self.sentences"
      ],
      "metadata": {
        "id": "Q_Vj6k2hWrHn"
      },
      "execution_count": null,
      "outputs": []
    },
    {
      "cell_type": "code",
      "source": [
        "files = [\"/content/drive/MyDrive/MasterThesis/coNLL/train.txt\", \"/content/drive/MyDrive/MasterThesis/coNLL/valid.txt\"] "
      ],
      "metadata": {
        "id": "1J84ts-Gppz3"
      },
      "execution_count": null,
      "outputs": []
    },
    {
      "cell_type": "code",
      "source": [
        "#CONLL data\n",
        "getter = SentenceGetter(files)\n",
        "sentences_map = getter.sentences_map\n",
        "words = getter.words\n",
        "tags = list(getter.tags)"
      ],
      "metadata": {
        "id": "DuwbbfMQXkMg"
      },
      "execution_count": null,
      "outputs": []
    },
    {
      "cell_type": "code",
      "source": [
        "sentences_map[\"valid\"][1:3]"
      ],
      "metadata": {
        "id": "NfAQKyB5qlHC"
      },
      "execution_count": null,
      "outputs": []
    },
    {
      "cell_type": "code",
      "source": [
        "tags"
      ],
      "metadata": {
        "colab": {
          "base_uri": "https://localhost:8080/"
        },
        "id": "br4YbzGAq24x",
        "outputId": "27b308ef-faba-47ea-9cc4-fcee3559280f"
      },
      "execution_count": null,
      "outputs": [
        {
          "output_type": "execute_result",
          "data": {
            "text/plain": [
              "['B-MISC', 'I-PER', 'O', 'I-MISC', 'I-ORG', 'B-LOC', 'I-LOC', 'B-PER', 'B-ORG']"
            ]
          },
          "metadata": {},
          "execution_count": 9
        }
      ]
    },
    {
      "cell_type": "code",
      "source": [
        "#CONLL data\n",
        "words = list(words)"
      ],
      "metadata": {
        "id": "DElltJ4-XkYd"
      },
      "execution_count": null,
      "outputs": []
    },
    {
      "cell_type": "code",
      "source": [
        "len(words)"
      ],
      "metadata": {
        "colab": {
          "base_uri": "https://localhost:8080/"
        },
        "id": "aKh0vhs9O34N",
        "outputId": "bee3d8ab-367a-4056-fdf2-836c4efef1c2"
      },
      "execution_count": null,
      "outputs": [
        {
          "output_type": "execute_result",
          "data": {
            "text/plain": [
              "26883"
            ]
          },
          "metadata": {},
          "execution_count": 11
        }
      ]
    },
    {
      "cell_type": "code",
      "source": [
        "#ADD PAD to words\n",
        "words.append('PAD')"
      ],
      "metadata": {
        "id": "XIwZsCXOOo-d"
      },
      "execution_count": null,
      "outputs": []
    },
    {
      "cell_type": "code",
      "source": [
        "tags.insert(0,'PAD')"
      ],
      "metadata": {
        "id": "SzMmUvlVjgpv"
      },
      "execution_count": null,
      "outputs": []
    },
    {
      "cell_type": "code",
      "source": [
        "#CONLL data\n",
        "\n",
        "n_words = len(words)\n",
        "n_tags = len(tags)"
      ],
      "metadata": {
        "id": "zpeU1OpJZaCY"
      },
      "execution_count": null,
      "outputs": []
    },
    {
      "cell_type": "code",
      "source": [
        "tags"
      ],
      "metadata": {
        "colab": {
          "base_uri": "https://localhost:8080/"
        },
        "id": "_UJqa777Zcn5",
        "outputId": "744129b3-2768-46b8-fba7-d238c4fd8b7d"
      },
      "execution_count": null,
      "outputs": [
        {
          "output_type": "execute_result",
          "data": {
            "text/plain": [
              "['PAD',\n",
              " 'B-MISC',\n",
              " 'I-PER',\n",
              " 'O',\n",
              " 'I-MISC',\n",
              " 'I-ORG',\n",
              " 'B-LOC',\n",
              " 'I-LOC',\n",
              " 'B-PER',\n",
              " 'B-ORG']"
            ]
          },
          "metadata": {},
          "execution_count": 17
        }
      ]
    },
    {
      "cell_type": "code",
      "source": [
        "from tqdm import tqdm"
      ],
      "metadata": {
        "id": "kY9Mg-2_wHP7"
      },
      "execution_count": null,
      "outputs": []
    },
    {
      "cell_type": "code",
      "source": [
        "embedding_vector = {}\n",
        "f = open('/content/drive/MyDrive/MasterThesis/Glove/glove.6B.100d.txt')\n",
        "for line in tqdm(f):\n",
        "    vector = line.split(' ')\n",
        "    word = vector[0]\n",
        "    coef = np.asarray(vector[1:],dtype = 'float32')\n",
        "    embedding_vector[word]=coef\n",
        "f.close()\n",
        "print('Number of words found ',len(embedding_vector))"
      ],
      "metadata": {
        "colab": {
          "base_uri": "https://localhost:8080/"
        },
        "id": "ZvBDzF4Vv9qq",
        "outputId": "2c1c42c1-cc8b-4a05-89bf-640eb7d192aa"
      },
      "execution_count": null,
      "outputs": [
        {
          "output_type": "stream",
          "name": "stderr",
          "text": [
            "400000it [00:09, 42737.25it/s]"
          ]
        },
        {
          "output_type": "stream",
          "name": "stdout",
          "text": [
            "Number of words found  400000\n"
          ]
        },
        {
          "output_type": "stream",
          "name": "stderr",
          "text": [
            "\n"
          ]
        }
      ]
    },
    {
      "cell_type": "code",
      "source": [
        "from keras.preprocessing.text import Tokenizer"
      ],
      "metadata": {
        "id": "kBuzvgtr4YGp"
      },
      "execution_count": null,
      "outputs": []
    },
    {
      "cell_type": "code",
      "source": [
        "token = Tokenizer()\n",
        "token.fit_on_texts(words)"
      ],
      "metadata": {
        "id": "UGRFkmWI1BoG"
      },
      "execution_count": null,
      "outputs": []
    },
    {
      "cell_type": "code",
      "source": [
        "sequence = token.texts_to_sequences(words)"
      ],
      "metadata": {
        "id": "R2OYIGHcv9ny"
      },
      "execution_count": null,
      "outputs": []
    },
    {
      "cell_type": "code",
      "source": [
        "vocab_size = len(token.word_index)+1"
      ],
      "metadata": {
        "id": "eftWe6Ufv9ay"
      },
      "execution_count": null,
      "outputs": []
    },
    {
      "cell_type": "code",
      "source": [
        "vocab_size"
      ],
      "metadata": {
        "colab": {
          "base_uri": "https://localhost:8080/"
        },
        "id": "0mc4JnGkT4st",
        "outputId": "e5abcecf-bc76-4f8f-9c61-53b64c6e9808"
      },
      "execution_count": null,
      "outputs": [
        {
          "output_type": "execute_result",
          "data": {
            "text/plain": [
              "19726"
            ]
          },
          "metadata": {},
          "execution_count": 24
        }
      ]
    },
    {
      "cell_type": "code",
      "source": [
        "embedding_matrix = np.zeros((vocab_size,100))\n",
        "for word,i in tqdm(token.word_index.items()):\n",
        "    embedding_vectors = embedding_vector.get(word)\n",
        "    if embedding_vectors is not None:\n",
        "        embedding_matrix[i] = embedding_vector[word]"
      ],
      "metadata": {
        "colab": {
          "base_uri": "https://localhost:8080/"
        },
        "id": "VKY2eVfG5K_w",
        "outputId": "ab2918e7-415b-4fd3-f5df-f7f7f606a978"
      },
      "execution_count": null,
      "outputs": [
        {
          "output_type": "stream",
          "name": "stderr",
          "text": [
            "100%|██████████| 19725/19725 [00:00<00:00, 439625.30it/s]\n"
          ]
        }
      ]
    },
    {
      "cell_type": "code",
      "source": [
        "embedding_matrix.shape"
      ],
      "metadata": {
        "colab": {
          "base_uri": "https://localhost:8080/"
        },
        "id": "TLi6zuZvu1GW",
        "outputId": "80d73fa0-59c5-4dd2-96c5-13e4c509301b"
      },
      "execution_count": null,
      "outputs": [
        {
          "output_type": "execute_result",
          "data": {
            "text/plain": [
              "(19726, 100)"
            ]
          },
          "metadata": {},
          "execution_count": 26
        }
      ]
    },
    {
      "cell_type": "code",
      "source": [
        "from future.utils import iteritems\n",
        "\n",
        "tag2idx = {t: i for i, t in enumerate(tags)}\n",
        "\n",
        "idx2tag = {v: k for k, v in iteritems(tag2idx)}"
      ],
      "metadata": {
        "id": "oSn2WSh_ZgSl"
      },
      "execution_count": null,
      "outputs": []
    },
    {
      "cell_type": "code",
      "source": [
        "tag2idx"
      ],
      "metadata": {
        "colab": {
          "base_uri": "https://localhost:8080/"
        },
        "id": "zlLJ1eF3kw0j",
        "outputId": "968c2670-0700-4cea-9e3a-de86c438d214"
      },
      "execution_count": null,
      "outputs": [
        {
          "output_type": "execute_result",
          "data": {
            "text/plain": [
              "{'PAD': 0,\n",
              " 'B-MISC': 1,\n",
              " 'I-PER': 2,\n",
              " 'O': 3,\n",
              " 'I-MISC': 4,\n",
              " 'I-ORG': 5,\n",
              " 'B-LOC': 6,\n",
              " 'I-LOC': 7,\n",
              " 'B-PER': 8,\n",
              " 'B-ORG': 9}"
            ]
          },
          "metadata": {},
          "execution_count": 28
        }
      ]
    },
    {
      "cell_type": "code",
      "source": [
        "token.word_index.get('unk'), token.word_index.get('pad')"
      ],
      "metadata": {
        "colab": {
          "base_uri": "https://localhost:8080/"
        },
        "id": "uYZJk7F1QaX1",
        "outputId": "90f176e4-aead-49c7-8615-ceabcb2edc95"
      },
      "execution_count": null,
      "outputs": [
        {
          "output_type": "execute_result",
          "data": {
            "text/plain": [
              "(None, 19725)"
            ]
          },
          "metadata": {},
          "execution_count": 29
        }
      ]
    },
    {
      "cell_type": "code",
      "source": [
        "#CONLL data\n",
        "from tensorflow.keras.preprocessing.sequence import pad_sequences\n",
        "from tensorflow.keras.utils import to_categorical\n",
        "\n",
        "maxlen = max([len(s) for s in sentences_map[\"train\"]])\n",
        "\n",
        "train_data = [[token.word_index.get(w[0].lower()) for w in s if w[0].lower() in token.word_index] for s in sentences_map[\"train\"]]\n",
        "X_train = pad_sequences(maxlen=maxlen, sequences=train_data, dtype='int32', padding=\"post\",value=token.word_index.get('pad')) \n",
        "y_label_train = [[tag2idx[w[1]] for w in s if w[0].lower() in token.word_index] for s in sentences_map[\"train\"]]\n",
        "train_label = pad_sequences(maxlen=maxlen, sequences=y_label_train, dtype='int32', padding=\"post\", value=tag2idx[\"PAD\"])\n",
        "# One-Hot encode\n",
        "y_train = [to_categorical(i, num_classes=n_tags) for i in train_label]  \n",
        "\n",
        "val_data = [[token.word_index.get(w[0].lower()) for w in s if w[0].lower() in token.word_index] for s in sentences_map[\"valid\"]]\n",
        "X_val = pad_sequences(maxlen=maxlen, sequences=val_data, dtype='int32', padding=\"post\",value=token.word_index.get('pad'))\n",
        "y_label_val = [[tag2idx[w[1]] for w in s if w[0].lower() in token.word_index] for s in sentences_map[\"valid\"]]\n",
        "val_label = pad_sequences(maxlen=maxlen, sequences=y_label_val, dtype='int32', padding=\"post\", value=tag2idx[\"PAD\"])\n",
        "# One-Hot encode\n",
        "y_val = [to_categorical(i, num_classes=n_tags) for i in val_label]\n",
        "\n",
        "getter = SentenceGetter([\"/content/drive/MyDrive/MasterThesis/coNLL/test.txt\"])\n",
        "sentences_test = getter.sentences_map[\"test\"]\n",
        "test_data = [[token.word_index.get(w[0].lower()) for w in s if w[0].lower() in token.word_index] for s in sentences_test]\n",
        "X_test = pad_sequences(maxlen=maxlen, sequences=test_data, dtype='int32', padding=\"post\",value=token.word_index.get('pad'))\n",
        "y_label_test = [[tag2idx[w[1]] for w in s if w[0].lower() in token.word_index] for s in sentences_test]\n",
        "test_label = pad_sequences(maxlen=maxlen, sequences=y_label_test, dtype='int32', padding=\"post\", value=tag2idx[\"PAD\"])\n",
        "# One-Hot encode\n",
        "y_test = [to_categorical(i, num_classes=n_tags) for i in test_label]\n",
        "\n",
        "\n",
        "print(\n",
        "        'train_tokens length:', len(X_train),\n",
        "        '\\nval_tokens length:', len(X_val),\n",
        "        '\\ntest_tokens length:', len(X_test),\n",
        "        '\\ntrain_tags:', len(y_train),\n",
        "        '\\nval_tags:', len(y_val),\n",
        "        '\\ntest_tags:', len(y_test)\n",
        "    )\n"
      ],
      "metadata": {
        "colab": {
          "base_uri": "https://localhost:8080/"
        },
        "id": "h6J20tWoZjva",
        "outputId": "61eea437-c7a7-4b7f-ed3a-b32e9fa0d28e"
      },
      "execution_count": null,
      "outputs": [
        {
          "output_type": "stream",
          "name": "stdout",
          "text": [
            "train_tokens length: 14041 \n",
            "val_tokens length: 3250 \n",
            "test_tokens length: 3453 \n",
            "train_tags: 14041 \n",
            "val_tags: 3250 \n",
            "test_tags: 3453\n"
          ]
        }
      ]
    },
    {
      "cell_type": "code",
      "source": [
        "X_train.shape"
      ],
      "metadata": {
        "colab": {
          "base_uri": "https://localhost:8080/"
        },
        "id": "OJ-fxomeJ74K",
        "outputId": "bbe49e81-42c9-4afa-a4b1-28cab86e81f0"
      },
      "execution_count": null,
      "outputs": [
        {
          "output_type": "execute_result",
          "data": {
            "text/plain": [
              "(14041, 113)"
            ]
          },
          "metadata": {},
          "execution_count": 31
        }
      ]
    },
    {
      "cell_type": "code",
      "source": [
        "sentences_map[\"train\"][0]"
      ],
      "metadata": {
        "colab": {
          "base_uri": "https://localhost:8080/"
        },
        "id": "y3uE0AY2Rksl",
        "outputId": "48728416-dae2-4444-ef42-f539b2de66c5"
      },
      "execution_count": null,
      "outputs": [
        {
          "output_type": "execute_result",
          "data": {
            "text/plain": [
              "[('EU', 'B-ORG'),\n",
              " ('rejects', 'O'),\n",
              " ('German', 'B-MISC'),\n",
              " ('call', 'O'),\n",
              " ('to', 'O'),\n",
              " ('boycott', 'O'),\n",
              " ('British', 'B-MISC'),\n",
              " ('lamb', 'O'),\n",
              " ('.', 'O')]"
            ]
          },
          "metadata": {},
          "execution_count": 32
        }
      ]
    },
    {
      "cell_type": "code",
      "source": [
        "for token_id, tag in zip(X_train[0], y_train[0]):\n",
        "    print('%s\\t%s' % (token_id, tag))"
      ],
      "metadata": {
        "id": "WtOMEQFIdNNe"
      },
      "execution_count": null,
      "outputs": []
    },
    {
      "cell_type": "markdown",
      "source": [
        "#Model"
      ],
      "metadata": {
        "id": "BSsrdXjWXlbE"
      }
    },
    {
      "cell_type": "code",
      "source": [
        "import tensorflow"
      ],
      "metadata": {
        "id": "nOdEsLKZJsGD"
      },
      "execution_count": null,
      "outputs": []
    },
    {
      "cell_type": "code",
      "source": [
        "from numpy.random import seed\n",
        "seed(1)\n",
        "tensorflow.random.set_seed(2)"
      ],
      "metadata": {
        "id": "AkaIkvtkXp12"
      },
      "execution_count": null,
      "outputs": []
    },
    {
      "cell_type": "code",
      "source": [
        "input_dim = vocab_size\n",
        "input_length = maxlen\n",
        "n_tags = len(tag2idx)\n",
        "print('input_dim: ', input_dim, '\\ninput_length: ', input_length, '\\nn_tags: ', n_tags)"
      ],
      "metadata": {
        "colab": {
          "base_uri": "https://localhost:8080/"
        },
        "id": "umCKjG-aXsej",
        "outputId": "d1796195-ccc1-41b4-d93a-dca688cbe2a9"
      },
      "execution_count": null,
      "outputs": [
        {
          "output_type": "stream",
          "name": "stdout",
          "text": [
            "input_dim:  19726 \n",
            "input_length:  113 \n",
            "n_tags:  10\n"
          ]
        }
      ]
    },
    {
      "cell_type": "code",
      "source": [
        "import numpy as np\n",
        "import tensorflow.keras as kk\n",
        "from tensorflow.keras import Sequential, Model, Input\n",
        "from tensorflow.keras.layers import LSTM, Embedding, Dense, TimeDistributed, Dropout, Bidirectional\n",
        "from tensorflow.keras.utils import plot_model\n",
        "from tf2crf import CRF, ModelWithCRFLoss"
      ],
      "metadata": {
        "id": "BJXiC6e-XkbY"
      },
      "execution_count": null,
      "outputs": []
    },
    {
      "cell_type": "code",
      "source": [
        "word_embedding_size = 100\n",
        "units_size = 50\n",
        "\n",
        "#input layer\n",
        "input = Input(shape=(maxlen,))\n",
        "\n",
        "# Embedding Layer\n",
        "embed = Embedding(input_dim=input_dim, output_dim=word_embedding_size, weights = [embedding_matrix], input_length =maxlen, mask_zero=True, trainable = False)(input)\n",
        "\n",
        "# BI-LSTM Layer\n",
        "model = Bidirectional(LSTM(units=units_size, \n",
        "                           return_sequences=True, \n",
        "                           dropout=0.5, \n",
        "                           recurrent_dropout=0.5, \n",
        "                           kernel_initializer=kk.initializers.he_normal()))(embed)\n",
        "\n",
        "# TimeDistributed Layer\n",
        "model = TimeDistributed(Dense(units_size, activation=\"relu\"))(model) \n",
        "\n",
        "# CRF Layer\n",
        "crf = CRF(units=n_tags)\n",
        "\n",
        "output = crf(model)\n",
        "\n",
        "base_model = Model(input, output)\n",
        "\n",
        "base_model.summary()\n",
        "\n",
        "model = ModelWithCRFLoss(base_model, sparse_target=False)"
      ],
      "metadata": {
        "id": "zbI8r9PdnIjg",
        "colab": {
          "base_uri": "https://localhost:8080/"
        },
        "outputId": "26a260e5-e0e1-4767-83ed-aefbf26ee7b0"
      },
      "execution_count": null,
      "outputs": [
        {
          "output_type": "stream",
          "name": "stderr",
          "text": [
            "WARNING:tensorflow:Layer lstm will not use cuDNN kernels since it doesn't meet the criteria. It will use a generic GPU kernel as fallback when running on GPU.\n",
            "WARNING:tensorflow:Layer lstm will not use cuDNN kernels since it doesn't meet the criteria. It will use a generic GPU kernel as fallback when running on GPU.\n",
            "WARNING:tensorflow:Layer lstm will not use cuDNN kernels since it doesn't meet the criteria. It will use a generic GPU kernel as fallback when running on GPU.\n"
          ]
        },
        {
          "output_type": "stream",
          "name": "stdout",
          "text": [
            "Model: \"model\"\n",
            "_________________________________________________________________\n",
            " Layer (type)                Output Shape              Param #   \n",
            "=================================================================\n",
            " input_1 (InputLayer)        [(None, 113)]             0         \n",
            "                                                                 \n",
            " embedding (Embedding)       (None, 113, 100)          1972600   \n",
            "                                                                 \n",
            " bidirectional (Bidirectiona  (None, 113, 100)         60400     \n",
            " l)                                                              \n",
            "                                                                 \n",
            " time_distributed (TimeDistr  (None, 113, 50)          5050      \n",
            " ibuted)                                                         \n",
            "                                                                 \n",
            " crf (CRF)                   ((None, 113),             610       \n",
            "                              (None, 113, 10),                   \n",
            "                              (None,),                           \n",
            "                              (10, 10))                          \n",
            "                                                                 \n",
            "=================================================================\n",
            "Total params: 2,038,660\n",
            "Trainable params: 66,060\n",
            "Non-trainable params: 1,972,600\n",
            "_________________________________________________________________\n"
          ]
        }
      ]
    },
    {
      "cell_type": "code",
      "source": [
        "from keras.callbacks import ModelCheckpoint\n",
        "import matplotlib.pyplot as plt\n",
        "\n",
        "#Optimiser \n",
        "adam = kk.optimizers.Adam(learning_rate=0.001, beta_1=0.9, beta_2=0.999)\n",
        "\n",
        "# Compile model\n",
        "# model.compile(optimizer=adam)\n",
        "model.compile(optimizer=\"rmsprop\")\n",
        "\n",
        "\n",
        "\n",
        "# Saving the best model only\n",
        "filepath=\"ner-bi-LSTM-tf2crf-model-{accuracy:.2f}.tf\"\n",
        "checkpoint = ModelCheckpoint(filepath, monitor='accuracy', verbose=1, save_best_only=True, mode='max')\n",
        "callbacks_list = [checkpoint]\n",
        "\n",
        "history = model.fit(X_train, np.array(y_train), validation_data = (X_val, np.array(y_val)), batch_size=256, epochs=20, verbose=1, callbacks=callbacks_list)"
      ],
      "metadata": {
        "colab": {
          "base_uri": "https://localhost:8080/"
        },
        "id": "bQrI16lHIU77",
        "outputId": "b749b6d7-8e86-4690-ee2b-91bfb3f8f224"
      },
      "execution_count": null,
      "outputs": [
        {
          "output_type": "stream",
          "name": "stdout",
          "text": [
            "Epoch 1/20\n",
            "55/55 [==============================] - ETA: 0s - loss: 22.8722 - accuracy: 0.9452\n",
            "Epoch 1: accuracy improved from -inf to 0.94519, saving model to ner-bi-LSTM-tf2crf-model-0.95.tf\n"
          ]
        },
        {
          "output_type": "stream",
          "name": "stderr",
          "text": [
            "WARNING:tensorflow:Model's `__init__()` arguments contain non-serializable objects. Please implement a `get_config()` method in the subclassed Model for proper saving and loading. Defaulting to empty config.\n",
            "WARNING:tensorflow:Model's `__init__()` arguments contain non-serializable objects. Please implement a `get_config()` method in the subclassed Model for proper saving and loading. Defaulting to empty config.\n",
            "WARNING:absl:Found untraced functions such as dense_1_layer_call_fn, dense_1_layer_call_and_return_conditional_losses while saving (showing 2 of 2). These functions will not be directly callable after loading.\n",
            "WARNING:tensorflow:Model's `__init__()` arguments contain non-serializable objects. Please implement a `get_config()` method in the subclassed Model for proper saving and loading. Defaulting to empty config.\n",
            "WARNING:tensorflow:Model's `__init__()` arguments contain non-serializable objects. Please implement a `get_config()` method in the subclassed Model for proper saving and loading. Defaulting to empty config.\n"
          ]
        },
        {
          "output_type": "stream",
          "name": "stdout",
          "text": [
            "\b\b\b\b\b\b\b\b\b\b\b\b\b\b\b\b\b\b\b\b\b\b\b\b\b\b\b\b\b\b\b\b\b\b\b\b\b\b\b\b\b\b\b\b\b\b\b\b\b\b\b\b\b\b\b\b\b\b\b\b\b\b\b\b\b\b\b\b\b\b\b\b\b\b\b\b\b\b\b\b\b\b\b\r55/55 [==============================] - 118s 2s/step - loss: 22.8722 - accuracy: 0.9452 - val_loss_val: 9.9705 - val_val_accuracy: 0.9774\n",
            "Epoch 2/20\n",
            "55/55 [==============================] - ETA: 0s - loss: 7.6384 - accuracy: 0.9811\n",
            "Epoch 2: accuracy improved from 0.94519 to 0.98109, saving model to ner-bi-LSTM-tf2crf-model-0.98.tf\n"
          ]
        },
        {
          "output_type": "stream",
          "name": "stderr",
          "text": [
            "WARNING:tensorflow:Model's `__init__()` arguments contain non-serializable objects. Please implement a `get_config()` method in the subclassed Model for proper saving and loading. Defaulting to empty config.\n",
            "WARNING:tensorflow:Model's `__init__()` arguments contain non-serializable objects. Please implement a `get_config()` method in the subclassed Model for proper saving and loading. Defaulting to empty config.\n",
            "WARNING:absl:Found untraced functions such as dense_1_layer_call_fn, dense_1_layer_call_and_return_conditional_losses while saving (showing 2 of 2). These functions will not be directly callable after loading.\n",
            "WARNING:tensorflow:Model's `__init__()` arguments contain non-serializable objects. Please implement a `get_config()` method in the subclassed Model for proper saving and loading. Defaulting to empty config.\n",
            "WARNING:tensorflow:Model's `__init__()` arguments contain non-serializable objects. Please implement a `get_config()` method in the subclassed Model for proper saving and loading. Defaulting to empty config.\n"
          ]
        },
        {
          "output_type": "stream",
          "name": "stdout",
          "text": [
            "\b\b\b\b\b\b\b\b\b\b\b\b\b\b\b\b\b\b\b\b\b\b\b\b\b\b\b\b\b\b\b\b\b\b\b\b\b\b\b\b\b\b\b\b\b\b\b\b\b\b\b\b\b\b\b\b\b\b\b\b\b\b\b\b\b\b\b\b\b\b\b\b\b\b\b\b\b\b\b\b\b\b\r55/55 [==============================] - 91s 2s/step - loss: 7.6384 - accuracy: 0.9811 - val_loss_val: 6.7489 - val_val_accuracy: 0.9832\n",
            "Epoch 3/20\n",
            "55/55 [==============================] - ETA: 0s - loss: 5.3821 - accuracy: 0.9862\n",
            "Epoch 3: accuracy improved from 0.98109 to 0.98618, saving model to ner-bi-LSTM-tf2crf-model-0.99.tf\n"
          ]
        },
        {
          "output_type": "stream",
          "name": "stderr",
          "text": [
            "WARNING:tensorflow:Model's `__init__()` arguments contain non-serializable objects. Please implement a `get_config()` method in the subclassed Model for proper saving and loading. Defaulting to empty config.\n",
            "WARNING:tensorflow:Model's `__init__()` arguments contain non-serializable objects. Please implement a `get_config()` method in the subclassed Model for proper saving and loading. Defaulting to empty config.\n",
            "WARNING:absl:Found untraced functions such as dense_1_layer_call_fn, dense_1_layer_call_and_return_conditional_losses while saving (showing 2 of 2). These functions will not be directly callable after loading.\n",
            "WARNING:tensorflow:Model's `__init__()` arguments contain non-serializable objects. Please implement a `get_config()` method in the subclassed Model for proper saving and loading. Defaulting to empty config.\n",
            "WARNING:tensorflow:Model's `__init__()` arguments contain non-serializable objects. Please implement a `get_config()` method in the subclassed Model for proper saving and loading. Defaulting to empty config.\n"
          ]
        },
        {
          "output_type": "stream",
          "name": "stdout",
          "text": [
            "\b\b\b\b\b\b\b\b\b\b\b\b\b\b\b\b\b\b\b\b\b\b\b\b\b\b\b\b\b\b\b\b\b\b\b\b\b\b\b\b\b\b\b\b\b\b\b\b\b\b\b\b\b\b\b\b\b\b\b\b\b\b\b\b\b\b\b\b\b\b\b\b\b\b\b\b\b\b\b\b\b\b\r55/55 [==============================] - 90s 2s/step - loss: 5.3821 - accuracy: 0.9862 - val_loss_val: 5.1182 - val_val_accuracy: 0.9869\n",
            "Epoch 4/20\n",
            "55/55 [==============================] - ETA: 0s - loss: 4.3334 - accuracy: 0.9887\n",
            "Epoch 4: accuracy improved from 0.98618 to 0.98866, saving model to ner-bi-LSTM-tf2crf-model-0.99.tf\n"
          ]
        },
        {
          "output_type": "stream",
          "name": "stderr",
          "text": [
            "WARNING:tensorflow:Model's `__init__()` arguments contain non-serializable objects. Please implement a `get_config()` method in the subclassed Model for proper saving and loading. Defaulting to empty config.\n",
            "WARNING:tensorflow:Model's `__init__()` arguments contain non-serializable objects. Please implement a `get_config()` method in the subclassed Model for proper saving and loading. Defaulting to empty config.\n",
            "WARNING:absl:Found untraced functions such as dense_1_layer_call_fn, dense_1_layer_call_and_return_conditional_losses while saving (showing 2 of 2). These functions will not be directly callable after loading.\n",
            "WARNING:tensorflow:Model's `__init__()` arguments contain non-serializable objects. Please implement a `get_config()` method in the subclassed Model for proper saving and loading. Defaulting to empty config.\n",
            "WARNING:tensorflow:Model's `__init__()` arguments contain non-serializable objects. Please implement a `get_config()` method in the subclassed Model for proper saving and loading. Defaulting to empty config.\n"
          ]
        },
        {
          "output_type": "stream",
          "name": "stdout",
          "text": [
            "\b\b\b\b\b\b\b\b\b\b\b\b\b\b\b\b\b\b\b\b\b\b\b\b\b\b\b\b\b\b\b\b\b\b\b\b\b\b\b\b\b\b\b\b\b\b\b\b\b\b\b\b\b\b\b\b\b\b\b\b\b\b\b\b\b\b\b\b\b\b\b\b\b\b\b\b\b\b\b\b\b\b\r55/55 [==============================] - 91s 2s/step - loss: 4.3334 - accuracy: 0.9887 - val_loss_val: 4.3214 - val_val_accuracy: 0.9890\n",
            "Epoch 5/20\n",
            "55/55 [==============================] - ETA: 0s - loss: 3.7293 - accuracy: 0.9901\n",
            "Epoch 5: accuracy improved from 0.98866 to 0.99007, saving model to ner-bi-LSTM-tf2crf-model-0.99.tf\n"
          ]
        },
        {
          "output_type": "stream",
          "name": "stderr",
          "text": [
            "WARNING:tensorflow:Model's `__init__()` arguments contain non-serializable objects. Please implement a `get_config()` method in the subclassed Model for proper saving and loading. Defaulting to empty config.\n",
            "WARNING:tensorflow:Model's `__init__()` arguments contain non-serializable objects. Please implement a `get_config()` method in the subclassed Model for proper saving and loading. Defaulting to empty config.\n",
            "WARNING:absl:Found untraced functions such as dense_1_layer_call_fn, dense_1_layer_call_and_return_conditional_losses while saving (showing 2 of 2). These functions will not be directly callable after loading.\n",
            "WARNING:tensorflow:Model's `__init__()` arguments contain non-serializable objects. Please implement a `get_config()` method in the subclassed Model for proper saving and loading. Defaulting to empty config.\n",
            "WARNING:tensorflow:Model's `__init__()` arguments contain non-serializable objects. Please implement a `get_config()` method in the subclassed Model for proper saving and loading. Defaulting to empty config.\n"
          ]
        },
        {
          "output_type": "stream",
          "name": "stdout",
          "text": [
            "\b\b\b\b\b\b\b\b\b\b\b\b\b\b\b\b\b\b\b\b\b\b\b\b\b\b\b\b\b\b\b\b\b\b\b\b\b\b\b\b\b\b\b\b\b\b\b\b\b\b\b\b\b\b\b\b\b\b\b\b\b\b\b\b\b\b\b\b\b\b\b\b\b\b\b\b\b\b\b\b\b\b\r55/55 [==============================] - 94s 2s/step - loss: 3.7293 - accuracy: 0.9901 - val_loss_val: 3.9298 - val_val_accuracy: 0.9897\n",
            "Epoch 6/20\n",
            "55/55 [==============================] - ETA: 0s - loss: 3.3454 - accuracy: 0.9910\n",
            "Epoch 6: accuracy improved from 0.99007 to 0.99096, saving model to ner-bi-LSTM-tf2crf-model-0.99.tf\n"
          ]
        },
        {
          "output_type": "stream",
          "name": "stderr",
          "text": [
            "WARNING:tensorflow:Model's `__init__()` arguments contain non-serializable objects. Please implement a `get_config()` method in the subclassed Model for proper saving and loading. Defaulting to empty config.\n",
            "WARNING:tensorflow:Model's `__init__()` arguments contain non-serializable objects. Please implement a `get_config()` method in the subclassed Model for proper saving and loading. Defaulting to empty config.\n",
            "WARNING:absl:Found untraced functions such as dense_1_layer_call_fn, dense_1_layer_call_and_return_conditional_losses while saving (showing 2 of 2). These functions will not be directly callable after loading.\n",
            "WARNING:tensorflow:Model's `__init__()` arguments contain non-serializable objects. Please implement a `get_config()` method in the subclassed Model for proper saving and loading. Defaulting to empty config.\n",
            "WARNING:tensorflow:Model's `__init__()` arguments contain non-serializable objects. Please implement a `get_config()` method in the subclassed Model for proper saving and loading. Defaulting to empty config.\n"
          ]
        },
        {
          "output_type": "stream",
          "name": "stdout",
          "text": [
            "\b\b\b\b\b\b\b\b\b\b\b\b\b\b\b\b\b\b\b\b\b\b\b\b\b\b\b\b\b\b\b\b\b\b\b\b\b\b\b\b\b\b\b\b\b\b\b\b\b\b\b\b\b\b\b\b\b\b\b\b\b\b\b\b\b\b\b\b\b\b\b\b\b\b\b\b\b\b\b\b\b\b\r55/55 [==============================] - 93s 2s/step - loss: 3.3454 - accuracy: 0.9910 - val_loss_val: 3.5442 - val_val_accuracy: 0.9908\n",
            "Epoch 7/20\n",
            "55/55 [==============================] - ETA: 0s - loss: 3.0501 - accuracy: 0.9917\n",
            "Epoch 7: accuracy improved from 0.99096 to 0.99168, saving model to ner-bi-LSTM-tf2crf-model-0.99.tf\n"
          ]
        },
        {
          "output_type": "stream",
          "name": "stderr",
          "text": [
            "WARNING:tensorflow:Model's `__init__()` arguments contain non-serializable objects. Please implement a `get_config()` method in the subclassed Model for proper saving and loading. Defaulting to empty config.\n",
            "WARNING:tensorflow:Model's `__init__()` arguments contain non-serializable objects. Please implement a `get_config()` method in the subclassed Model for proper saving and loading. Defaulting to empty config.\n",
            "WARNING:absl:Found untraced functions such as dense_1_layer_call_fn, dense_1_layer_call_and_return_conditional_losses while saving (showing 2 of 2). These functions will not be directly callable after loading.\n",
            "WARNING:tensorflow:Model's `__init__()` arguments contain non-serializable objects. Please implement a `get_config()` method in the subclassed Model for proper saving and loading. Defaulting to empty config.\n",
            "WARNING:tensorflow:Model's `__init__()` arguments contain non-serializable objects. Please implement a `get_config()` method in the subclassed Model for proper saving and loading. Defaulting to empty config.\n"
          ]
        },
        {
          "output_type": "stream",
          "name": "stdout",
          "text": [
            "\b\b\b\b\b\b\b\b\b\b\b\b\b\b\b\b\b\b\b\b\b\b\b\b\b\b\b\b\b\b\b\b\b\b\b\b\b\b\b\b\b\b\b\b\b\b\b\b\b\b\b\b\b\b\b\b\b\b\b\b\b\b\b\b\b\b\b\b\b\b\b\b\b\b\b\b\b\b\b\b\b\b\r55/55 [==============================] - 89s 2s/step - loss: 3.0501 - accuracy: 0.9917 - val_loss_val: 3.2554 - val_val_accuracy: 0.9914\n",
            "Epoch 8/20\n",
            "55/55 [==============================] - ETA: 0s - loss: 2.8295 - accuracy: 0.9922\n",
            "Epoch 8: accuracy improved from 0.99168 to 0.99220, saving model to ner-bi-LSTM-tf2crf-model-0.99.tf\n"
          ]
        },
        {
          "output_type": "stream",
          "name": "stderr",
          "text": [
            "WARNING:tensorflow:Model's `__init__()` arguments contain non-serializable objects. Please implement a `get_config()` method in the subclassed Model for proper saving and loading. Defaulting to empty config.\n",
            "WARNING:tensorflow:Model's `__init__()` arguments contain non-serializable objects. Please implement a `get_config()` method in the subclassed Model for proper saving and loading. Defaulting to empty config.\n",
            "WARNING:absl:Found untraced functions such as dense_1_layer_call_fn, dense_1_layer_call_and_return_conditional_losses while saving (showing 2 of 2). These functions will not be directly callable after loading.\n",
            "WARNING:tensorflow:Model's `__init__()` arguments contain non-serializable objects. Please implement a `get_config()` method in the subclassed Model for proper saving and loading. Defaulting to empty config.\n",
            "WARNING:tensorflow:Model's `__init__()` arguments contain non-serializable objects. Please implement a `get_config()` method in the subclassed Model for proper saving and loading. Defaulting to empty config.\n"
          ]
        },
        {
          "output_type": "stream",
          "name": "stdout",
          "text": [
            "\b\b\b\b\b\b\b\b\b\b\b\b\b\b\b\b\b\b\b\b\b\b\b\b\b\b\b\b\b\b\b\b\b\b\b\b\b\b\b\b\b\b\b\b\b\b\b\b\b\b\b\b\b\b\b\b\b\b\b\b\b\b\b\b\b\b\b\b\b\b\b\b\b\b\b\b\b\b\b\b\b\b\r55/55 [==============================] - 91s 2s/step - loss: 2.8295 - accuracy: 0.9922 - val_loss_val: 3.0526 - val_val_accuracy: 0.9919\n",
            "Epoch 9/20\n",
            "55/55 [==============================] - ETA: 0s - loss: 2.6469 - accuracy: 0.9926\n",
            "Epoch 9: accuracy improved from 0.99220 to 0.99263, saving model to ner-bi-LSTM-tf2crf-model-0.99.tf\n"
          ]
        },
        {
          "output_type": "stream",
          "name": "stderr",
          "text": [
            "WARNING:tensorflow:Model's `__init__()` arguments contain non-serializable objects. Please implement a `get_config()` method in the subclassed Model for proper saving and loading. Defaulting to empty config.\n",
            "WARNING:tensorflow:Model's `__init__()` arguments contain non-serializable objects. Please implement a `get_config()` method in the subclassed Model for proper saving and loading. Defaulting to empty config.\n",
            "WARNING:absl:Found untraced functions such as dense_1_layer_call_fn, dense_1_layer_call_and_return_conditional_losses while saving (showing 2 of 2). These functions will not be directly callable after loading.\n",
            "WARNING:tensorflow:Model's `__init__()` arguments contain non-serializable objects. Please implement a `get_config()` method in the subclassed Model for proper saving and loading. Defaulting to empty config.\n",
            "WARNING:tensorflow:Model's `__init__()` arguments contain non-serializable objects. Please implement a `get_config()` method in the subclassed Model for proper saving and loading. Defaulting to empty config.\n"
          ]
        },
        {
          "output_type": "stream",
          "name": "stdout",
          "text": [
            "\b\b\b\b\b\b\b\b\b\b\b\b\b\b\b\b\b\b\b\b\b\b\b\b\b\b\b\b\b\b\b\b\b\b\b\b\b\b\b\b\b\b\b\b\b\b\b\b\b\b\b\b\b\b\b\b\b\b\b\b\b\b\b\b\b\b\b\b\b\b\b\b\b\b\b\b\b\b\b\b\b\b\r55/55 [==============================] - 90s 2s/step - loss: 2.6469 - accuracy: 0.9926 - val_loss_val: 2.8834 - val_val_accuracy: 0.9924\n",
            "Epoch 10/20\n",
            "55/55 [==============================] - ETA: 0s - loss: 2.4780 - accuracy: 0.9930\n",
            "Epoch 10: accuracy improved from 0.99263 to 0.99302, saving model to ner-bi-LSTM-tf2crf-model-0.99.tf\n"
          ]
        },
        {
          "output_type": "stream",
          "name": "stderr",
          "text": [
            "WARNING:tensorflow:Model's `__init__()` arguments contain non-serializable objects. Please implement a `get_config()` method in the subclassed Model for proper saving and loading. Defaulting to empty config.\n",
            "WARNING:tensorflow:Model's `__init__()` arguments contain non-serializable objects. Please implement a `get_config()` method in the subclassed Model for proper saving and loading. Defaulting to empty config.\n",
            "WARNING:absl:Found untraced functions such as dense_1_layer_call_fn, dense_1_layer_call_and_return_conditional_losses while saving (showing 2 of 2). These functions will not be directly callable after loading.\n",
            "WARNING:tensorflow:Model's `__init__()` arguments contain non-serializable objects. Please implement a `get_config()` method in the subclassed Model for proper saving and loading. Defaulting to empty config.\n",
            "WARNING:tensorflow:Model's `__init__()` arguments contain non-serializable objects. Please implement a `get_config()` method in the subclassed Model for proper saving and loading. Defaulting to empty config.\n"
          ]
        },
        {
          "output_type": "stream",
          "name": "stdout",
          "text": [
            "\b\b\b\b\b\b\b\b\b\b\b\b\b\b\b\b\b\b\b\b\b\b\b\b\b\b\b\b\b\b\b\b\b\b\b\b\b\b\b\b\b\b\b\b\b\b\b\b\b\b\b\b\b\b\b\b\b\b\b\b\b\b\b\b\b\b\b\b\b\b\b\b\b\b\b\b\b\b\b\b\b\b\r55/55 [==============================] - 91s 2s/step - loss: 2.4780 - accuracy: 0.9930 - val_loss_val: 2.6941 - val_val_accuracy: 0.9928\n",
            "Epoch 11/20\n",
            "55/55 [==============================] - ETA: 0s - loss: 2.3467 - accuracy: 0.9933\n",
            "Epoch 11: accuracy improved from 0.99302 to 0.99333, saving model to ner-bi-LSTM-tf2crf-model-0.99.tf\n"
          ]
        },
        {
          "output_type": "stream",
          "name": "stderr",
          "text": [
            "WARNING:tensorflow:Model's `__init__()` arguments contain non-serializable objects. Please implement a `get_config()` method in the subclassed Model for proper saving and loading. Defaulting to empty config.\n",
            "WARNING:tensorflow:Model's `__init__()` arguments contain non-serializable objects. Please implement a `get_config()` method in the subclassed Model for proper saving and loading. Defaulting to empty config.\n",
            "WARNING:absl:Found untraced functions such as dense_1_layer_call_fn, dense_1_layer_call_and_return_conditional_losses while saving (showing 2 of 2). These functions will not be directly callable after loading.\n",
            "WARNING:tensorflow:Model's `__init__()` arguments contain non-serializable objects. Please implement a `get_config()` method in the subclassed Model for proper saving and loading. Defaulting to empty config.\n",
            "WARNING:tensorflow:Model's `__init__()` arguments contain non-serializable objects. Please implement a `get_config()` method in the subclassed Model for proper saving and loading. Defaulting to empty config.\n"
          ]
        },
        {
          "output_type": "stream",
          "name": "stdout",
          "text": [
            "\b\b\b\b\b\b\b\b\b\b\b\b\b\b\b\b\b\b\b\b\b\b\b\b\b\b\b\b\b\b\b\b\b\b\b\b\b\b\b\b\b\b\b\b\b\b\b\b\b\b\b\b\b\b\b\b\b\b\b\b\b\b\b\b\b\b\b\b\b\b\b\b\b\b\b\b\b\b\b\b\b\b\r55/55 [==============================] - 90s 2s/step - loss: 2.3467 - accuracy: 0.9933 - val_loss_val: 2.6200 - val_val_accuracy: 0.9929\n",
            "Epoch 12/20\n",
            "55/55 [==============================] - ETA: 0s - loss: 2.2310 - accuracy: 0.9936\n",
            "Epoch 12: accuracy improved from 0.99333 to 0.99365, saving model to ner-bi-LSTM-tf2crf-model-0.99.tf\n"
          ]
        },
        {
          "output_type": "stream",
          "name": "stderr",
          "text": [
            "WARNING:tensorflow:Model's `__init__()` arguments contain non-serializable objects. Please implement a `get_config()` method in the subclassed Model for proper saving and loading. Defaulting to empty config.\n",
            "WARNING:tensorflow:Model's `__init__()` arguments contain non-serializable objects. Please implement a `get_config()` method in the subclassed Model for proper saving and loading. Defaulting to empty config.\n",
            "WARNING:absl:Found untraced functions such as dense_1_layer_call_fn, dense_1_layer_call_and_return_conditional_losses while saving (showing 2 of 2). These functions will not be directly callable after loading.\n",
            "WARNING:tensorflow:Model's `__init__()` arguments contain non-serializable objects. Please implement a `get_config()` method in the subclassed Model for proper saving and loading. Defaulting to empty config.\n",
            "WARNING:tensorflow:Model's `__init__()` arguments contain non-serializable objects. Please implement a `get_config()` method in the subclassed Model for proper saving and loading. Defaulting to empty config.\n"
          ]
        },
        {
          "output_type": "stream",
          "name": "stdout",
          "text": [
            "\b\b\b\b\b\b\b\b\b\b\b\b\b\b\b\b\b\b\b\b\b\b\b\b\b\b\b\b\b\b\b\b\b\b\b\b\b\b\b\b\b\b\b\b\b\b\b\b\b\b\b\b\b\b\b\b\b\b\b\b\b\b\b\b\b\b\b\b\b\b\b\b\b\b\b\b\b\b\b\b\b\b\r55/55 [==============================] - 90s 2s/step - loss: 2.2310 - accuracy: 0.9936 - val_loss_val: 2.5613 - val_val_accuracy: 0.9930\n",
            "Epoch 13/20\n",
            "55/55 [==============================] - ETA: 0s - loss: 2.1304 - accuracy: 0.9938\n",
            "Epoch 13: accuracy improved from 0.99365 to 0.99385, saving model to ner-bi-LSTM-tf2crf-model-0.99.tf\n"
          ]
        },
        {
          "output_type": "stream",
          "name": "stderr",
          "text": [
            "WARNING:tensorflow:Model's `__init__()` arguments contain non-serializable objects. Please implement a `get_config()` method in the subclassed Model for proper saving and loading. Defaulting to empty config.\n",
            "WARNING:tensorflow:Model's `__init__()` arguments contain non-serializable objects. Please implement a `get_config()` method in the subclassed Model for proper saving and loading. Defaulting to empty config.\n",
            "WARNING:absl:Found untraced functions such as dense_1_layer_call_fn, dense_1_layer_call_and_return_conditional_losses while saving (showing 2 of 2). These functions will not be directly callable after loading.\n",
            "WARNING:tensorflow:Model's `__init__()` arguments contain non-serializable objects. Please implement a `get_config()` method in the subclassed Model for proper saving and loading. Defaulting to empty config.\n",
            "WARNING:tensorflow:Model's `__init__()` arguments contain non-serializable objects. Please implement a `get_config()` method in the subclassed Model for proper saving and loading. Defaulting to empty config.\n"
          ]
        },
        {
          "output_type": "stream",
          "name": "stdout",
          "text": [
            "\b\b\b\b\b\b\b\b\b\b\b\b\b\b\b\b\b\b\b\b\b\b\b\b\b\b\b\b\b\b\b\b\b\b\b\b\b\b\b\b\b\b\b\b\b\b\b\b\b\b\b\b\b\b\b\b\b\b\b\b\b\b\b\b\b\b\b\b\b\b\b\b\b\b\b\b\b\b\b\b\b\b\r55/55 [==============================] - 89s 2s/step - loss: 2.1304 - accuracy: 0.9938 - val_loss_val: 2.3914 - val_val_accuracy: 0.9934\n",
            "Epoch 14/20\n",
            "55/55 [==============================] - ETA: 0s - loss: 2.0565 - accuracy: 0.9940\n",
            "Epoch 14: accuracy improved from 0.99385 to 0.99397, saving model to ner-bi-LSTM-tf2crf-model-0.99.tf\n"
          ]
        },
        {
          "output_type": "stream",
          "name": "stderr",
          "text": [
            "WARNING:tensorflow:Model's `__init__()` arguments contain non-serializable objects. Please implement a `get_config()` method in the subclassed Model for proper saving and loading. Defaulting to empty config.\n",
            "WARNING:tensorflow:Model's `__init__()` arguments contain non-serializable objects. Please implement a `get_config()` method in the subclassed Model for proper saving and loading. Defaulting to empty config.\n",
            "WARNING:absl:Found untraced functions such as dense_1_layer_call_fn, dense_1_layer_call_and_return_conditional_losses while saving (showing 2 of 2). These functions will not be directly callable after loading.\n",
            "WARNING:tensorflow:Model's `__init__()` arguments contain non-serializable objects. Please implement a `get_config()` method in the subclassed Model for proper saving and loading. Defaulting to empty config.\n",
            "WARNING:tensorflow:Model's `__init__()` arguments contain non-serializable objects. Please implement a `get_config()` method in the subclassed Model for proper saving and loading. Defaulting to empty config.\n"
          ]
        },
        {
          "output_type": "stream",
          "name": "stdout",
          "text": [
            "\b\b\b\b\b\b\b\b\b\b\b\b\b\b\b\b\b\b\b\b\b\b\b\b\b\b\b\b\b\b\b\b\b\b\b\b\b\b\b\b\b\b\b\b\b\b\b\b\b\b\b\b\b\b\b\b\b\b\b\b\b\b\b\b\b\b\b\b\b\b\b\b\b\b\b\b\b\b\b\b\b\b\r55/55 [==============================] - 88s 2s/step - loss: 2.0565 - accuracy: 0.9940 - val_loss_val: 2.2875 - val_val_accuracy: 0.9936\n",
            "Epoch 15/20\n",
            "55/55 [==============================] - ETA: 0s - loss: 1.9704 - accuracy: 0.9942\n",
            "Epoch 15: accuracy improved from 0.99397 to 0.99417, saving model to ner-bi-LSTM-tf2crf-model-0.99.tf\n"
          ]
        },
        {
          "output_type": "stream",
          "name": "stderr",
          "text": [
            "WARNING:tensorflow:Model's `__init__()` arguments contain non-serializable objects. Please implement a `get_config()` method in the subclassed Model for proper saving and loading. Defaulting to empty config.\n",
            "WARNING:tensorflow:Model's `__init__()` arguments contain non-serializable objects. Please implement a `get_config()` method in the subclassed Model for proper saving and loading. Defaulting to empty config.\n",
            "WARNING:absl:Found untraced functions such as dense_1_layer_call_fn, dense_1_layer_call_and_return_conditional_losses while saving (showing 2 of 2). These functions will not be directly callable after loading.\n",
            "WARNING:tensorflow:Model's `__init__()` arguments contain non-serializable objects. Please implement a `get_config()` method in the subclassed Model for proper saving and loading. Defaulting to empty config.\n",
            "WARNING:tensorflow:Model's `__init__()` arguments contain non-serializable objects. Please implement a `get_config()` method in the subclassed Model for proper saving and loading. Defaulting to empty config.\n"
          ]
        },
        {
          "output_type": "stream",
          "name": "stdout",
          "text": [
            "\b\b\b\b\b\b\b\b\b\b\b\b\b\b\b\b\b\b\b\b\b\b\b\b\b\b\b\b\b\b\b\b\b\b\b\b\b\b\b\b\b\b\b\b\b\b\b\b\b\b\b\b\b\b\b\b\b\b\b\b\b\b\b\b\b\b\b\b\b\b\b\b\b\b\b\b\b\b\b\b\b\b\r55/55 [==============================] - 87s 2s/step - loss: 1.9704 - accuracy: 0.9942 - val_loss_val: 2.2756 - val_val_accuracy: 0.9937\n",
            "Epoch 16/20\n",
            "55/55 [==============================] - ETA: 0s - loss: 1.8858 - accuracy: 0.9943\n",
            "Epoch 16: accuracy improved from 0.99417 to 0.99433, saving model to ner-bi-LSTM-tf2crf-model-0.99.tf\n"
          ]
        },
        {
          "output_type": "stream",
          "name": "stderr",
          "text": [
            "WARNING:tensorflow:Model's `__init__()` arguments contain non-serializable objects. Please implement a `get_config()` method in the subclassed Model for proper saving and loading. Defaulting to empty config.\n",
            "WARNING:tensorflow:Model's `__init__()` arguments contain non-serializable objects. Please implement a `get_config()` method in the subclassed Model for proper saving and loading. Defaulting to empty config.\n",
            "WARNING:absl:Found untraced functions such as dense_1_layer_call_fn, dense_1_layer_call_and_return_conditional_losses while saving (showing 2 of 2). These functions will not be directly callable after loading.\n",
            "WARNING:tensorflow:Model's `__init__()` arguments contain non-serializable objects. Please implement a `get_config()` method in the subclassed Model for proper saving and loading. Defaulting to empty config.\n",
            "WARNING:tensorflow:Model's `__init__()` arguments contain non-serializable objects. Please implement a `get_config()` method in the subclassed Model for proper saving and loading. Defaulting to empty config.\n"
          ]
        },
        {
          "output_type": "stream",
          "name": "stdout",
          "text": [
            "\b\b\b\b\b\b\b\b\b\b\b\b\b\b\b\b\b\b\b\b\b\b\b\b\b\b\b\b\b\b\b\b\b\b\b\b\b\b\b\b\b\b\b\b\b\b\b\b\b\b\b\b\b\b\b\b\b\b\b\b\b\b\b\b\b\b\b\b\b\b\b\b\b\b\b\b\b\b\b\b\b\b\r55/55 [==============================] - 88s 2s/step - loss: 1.8858 - accuracy: 0.9943 - val_loss_val: 2.1718 - val_val_accuracy: 0.9939\n",
            "Epoch 17/20\n",
            "55/55 [==============================] - ETA: 0s - loss: 1.8275 - accuracy: 0.9945\n",
            "Epoch 17: accuracy improved from 0.99433 to 0.99446, saving model to ner-bi-LSTM-tf2crf-model-0.99.tf\n"
          ]
        },
        {
          "output_type": "stream",
          "name": "stderr",
          "text": [
            "WARNING:tensorflow:Model's `__init__()` arguments contain non-serializable objects. Please implement a `get_config()` method in the subclassed Model for proper saving and loading. Defaulting to empty config.\n",
            "WARNING:tensorflow:Model's `__init__()` arguments contain non-serializable objects. Please implement a `get_config()` method in the subclassed Model for proper saving and loading. Defaulting to empty config.\n",
            "WARNING:absl:Found untraced functions such as dense_1_layer_call_fn, dense_1_layer_call_and_return_conditional_losses while saving (showing 2 of 2). These functions will not be directly callable after loading.\n",
            "WARNING:tensorflow:Model's `__init__()` arguments contain non-serializable objects. Please implement a `get_config()` method in the subclassed Model for proper saving and loading. Defaulting to empty config.\n",
            "WARNING:tensorflow:Model's `__init__()` arguments contain non-serializable objects. Please implement a `get_config()` method in the subclassed Model for proper saving and loading. Defaulting to empty config.\n"
          ]
        },
        {
          "output_type": "stream",
          "name": "stdout",
          "text": [
            "\b\b\b\b\b\b\b\b\b\b\b\b\b\b\b\b\b\b\b\b\b\b\b\b\b\b\b\b\b\b\b\b\b\b\b\b\b\b\b\b\b\b\b\b\b\b\b\b\b\b\b\b\b\b\b\b\b\b\b\b\b\b\b\b\b\b\b\b\b\b\b\b\b\b\b\b\b\b\b\b\b\b\r55/55 [==============================] - 86s 2s/step - loss: 1.8275 - accuracy: 0.9945 - val_loss_val: 2.1070 - val_val_accuracy: 0.9941\n",
            "Epoch 18/20\n",
            "55/55 [==============================] - ETA: 0s - loss: 1.7750 - accuracy: 0.9946\n",
            "Epoch 18: accuracy improved from 0.99446 to 0.99464, saving model to ner-bi-LSTM-tf2crf-model-0.99.tf\n"
          ]
        },
        {
          "output_type": "stream",
          "name": "stderr",
          "text": [
            "WARNING:tensorflow:Model's `__init__()` arguments contain non-serializable objects. Please implement a `get_config()` method in the subclassed Model for proper saving and loading. Defaulting to empty config.\n",
            "WARNING:tensorflow:Model's `__init__()` arguments contain non-serializable objects. Please implement a `get_config()` method in the subclassed Model for proper saving and loading. Defaulting to empty config.\n",
            "WARNING:absl:Found untraced functions such as dense_1_layer_call_fn, dense_1_layer_call_and_return_conditional_losses while saving (showing 2 of 2). These functions will not be directly callable after loading.\n",
            "WARNING:tensorflow:Model's `__init__()` arguments contain non-serializable objects. Please implement a `get_config()` method in the subclassed Model for proper saving and loading. Defaulting to empty config.\n",
            "WARNING:tensorflow:Model's `__init__()` arguments contain non-serializable objects. Please implement a `get_config()` method in the subclassed Model for proper saving and loading. Defaulting to empty config.\n"
          ]
        },
        {
          "output_type": "stream",
          "name": "stdout",
          "text": [
            "\b\b\b\b\b\b\b\b\b\b\b\b\b\b\b\b\b\b\b\b\b\b\b\b\b\b\b\b\b\b\b\b\b\b\b\b\b\b\b\b\b\b\b\b\b\b\b\b\b\b\b\b\b\b\b\b\b\b\b\b\b\b\b\b\b\b\b\b\b\b\b\b\b\b\b\b\b\b\b\b\b\b\r55/55 [==============================] - 90s 2s/step - loss: 1.7750 - accuracy: 0.9946 - val_loss_val: 2.0831 - val_val_accuracy: 0.9941\n",
            "Epoch 19/20\n",
            "55/55 [==============================] - ETA: 0s - loss: 1.7207 - accuracy: 0.9947\n",
            "Epoch 19: accuracy improved from 0.99464 to 0.99470, saving model to ner-bi-LSTM-tf2crf-model-0.99.tf\n"
          ]
        },
        {
          "output_type": "stream",
          "name": "stderr",
          "text": [
            "WARNING:tensorflow:Model's `__init__()` arguments contain non-serializable objects. Please implement a `get_config()` method in the subclassed Model for proper saving and loading. Defaulting to empty config.\n",
            "WARNING:tensorflow:Model's `__init__()` arguments contain non-serializable objects. Please implement a `get_config()` method in the subclassed Model for proper saving and loading. Defaulting to empty config.\n",
            "WARNING:absl:Found untraced functions such as dense_1_layer_call_fn, dense_1_layer_call_and_return_conditional_losses while saving (showing 2 of 2). These functions will not be directly callable after loading.\n",
            "WARNING:tensorflow:Model's `__init__()` arguments contain non-serializable objects. Please implement a `get_config()` method in the subclassed Model for proper saving and loading. Defaulting to empty config.\n",
            "WARNING:tensorflow:Model's `__init__()` arguments contain non-serializable objects. Please implement a `get_config()` method in the subclassed Model for proper saving and loading. Defaulting to empty config.\n"
          ]
        },
        {
          "output_type": "stream",
          "name": "stdout",
          "text": [
            "\b\b\b\b\b\b\b\b\b\b\b\b\b\b\b\b\b\b\b\b\b\b\b\b\b\b\b\b\b\b\b\b\b\b\b\b\b\b\b\b\b\b\b\b\b\b\b\b\b\b\b\b\b\b\b\b\b\b\b\b\b\b\b\b\b\b\b\b\b\b\b\b\b\b\b\b\b\b\b\b\b\b\r55/55 [==============================] - 87s 2s/step - loss: 1.7207 - accuracy: 0.9947 - val_loss_val: 2.1094 - val_val_accuracy: 0.9939\n",
            "Epoch 20/20\n",
            "55/55 [==============================] - ETA: 0s - loss: 1.6667 - accuracy: 0.9949\n",
            "Epoch 20: accuracy improved from 0.99470 to 0.99486, saving model to ner-bi-LSTM-tf2crf-model-0.99.tf\n"
          ]
        },
        {
          "output_type": "stream",
          "name": "stderr",
          "text": [
            "WARNING:tensorflow:Model's `__init__()` arguments contain non-serializable objects. Please implement a `get_config()` method in the subclassed Model for proper saving and loading. Defaulting to empty config.\n",
            "WARNING:tensorflow:Model's `__init__()` arguments contain non-serializable objects. Please implement a `get_config()` method in the subclassed Model for proper saving and loading. Defaulting to empty config.\n",
            "WARNING:absl:Found untraced functions such as dense_1_layer_call_fn, dense_1_layer_call_and_return_conditional_losses while saving (showing 2 of 2). These functions will not be directly callable after loading.\n",
            "WARNING:tensorflow:Model's `__init__()` arguments contain non-serializable objects. Please implement a `get_config()` method in the subclassed Model for proper saving and loading. Defaulting to empty config.\n",
            "WARNING:tensorflow:Model's `__init__()` arguments contain non-serializable objects. Please implement a `get_config()` method in the subclassed Model for proper saving and loading. Defaulting to empty config.\n"
          ]
        },
        {
          "output_type": "stream",
          "name": "stdout",
          "text": [
            "\b\b\b\b\b\b\b\b\b\b\b\b\b\b\b\b\b\b\b\b\b\b\b\b\b\b\b\b\b\b\b\b\b\b\b\b\b\b\b\b\b\b\b\b\b\b\b\b\b\b\b\b\b\b\b\b\b\b\b\b\b\b\b\b\b\b\b\b\b\b\b\b\b\b\b\b\b\b\b\b\b\b\r55/55 [==============================] - 86s 2s/step - loss: 1.6667 - accuracy: 0.9949 - val_loss_val: 1.9481 - val_val_accuracy: 0.9943\n"
          ]
        }
      ]
    },
    {
      "cell_type": "code",
      "source": [
        "# Plot training & validation accuracy values\n",
        "plt.plot(history.history['accuracy'])\n",
        "plt.plot(history.history['val_val_accuracy'])\n",
        "plt.title('Model accuracy')\n",
        "plt.ylabel('Accuracy')\n",
        "plt.xlabel('Epoch')\n",
        "plt.legend(['Train', 'Test'])\n",
        "plt.show()\n",
        "\n",
        "# Plot training & validation loss values\n",
        "plt.plot(history.history['loss'])\n",
        "plt.plot(history.history['val_loss_val'])\n",
        "plt.title('Model loss')\n",
        "plt.ylabel('Loss')\n",
        "plt.xlabel('Epoch')\n",
        "plt.legend(['Train', 'Test'], loc='upper left')\n",
        "plt.show()"
      ],
      "metadata": {
        "id": "c6y7Bsa6RRf6",
        "colab": {
          "base_uri": "https://localhost:8080/",
          "height": 927
        },
        "outputId": "ceefbe6a-cceb-4ae4-d95c-240380fd600e"
      },
      "execution_count": null,
      "outputs": [
        {
          "output_type": "display_data",
          "data": {
            "text/plain": [
              "<Figure size 640x480 with 1 Axes>"
            ],
            "image/png": "[encoded data removed]"
          },
          "metadata": {}
        },
        {
          "output_type": "display_data",
          "data": {
            "text/plain": [
              "<Figure size 640x480 with 1 Axes>"
            ],
            "image/png": "[encoded data removed]"
          },
          "metadata": {}
        }
      ]
    },
    {
      "cell_type": "code",
      "source": [
        "# Prediction\n",
        "pred_cat = model.predict(X_test, verbose=1)\n",
        "y_te_true = np.argmax(y_test, -1)"
      ],
      "metadata": {
        "id": "4cwW79t-RbSQ",
        "colab": {
          "base_uri": "https://localhost:8080/"
        },
        "outputId": "82b7a4b9-ddd9-488a-ad17-011b261986ad"
      },
      "execution_count": null,
      "outputs": [
        {
          "output_type": "stream",
          "name": "stdout",
          "text": [
            "108/108 [==============================] - 17s 147ms/step\n"
          ]
        }
      ]
    },
    {
      "cell_type": "code",
      "source": [
        "#New classification report\n",
        "from sklearn_crfsuite.utils import flatten\n",
        "from functools import wraps\n",
        "\n",
        "\n",
        "def _flattens_y(func):\n",
        "    @wraps(func)\n",
        "    def wrapper(y_true, y_pred, *args, **kwargs):\n",
        "        y_true_flat = flatten(y_true)\n",
        "        y_pred_flat = flatten(y_pred)\n",
        "        return func(y_true_flat, y_pred_flat, *args, **kwargs)\n",
        "    return wrapper\n",
        "\n",
        "\n",
        "@_flattens_y\n",
        "def flat_classification_report(y_true, y_pred, labels=None, target_names=None, **kwargs):\n",
        "    \"\"\"\n",
        "    Return classification report for sequence items.\n",
        "    \"\"\"\n",
        "    from sklearn import metrics\n",
        "    return metrics.classification_report(y_true, y_pred, labels=labels, target_names=target_names, **kwargs)"
      ],
      "metadata": {
        "id": "Uxrc-aN7drwr"
      },
      "execution_count": null,
      "outputs": []
    },
    {
      "cell_type": "code",
      "source": [
        "#Flat Classification report \n",
        "report = flat_classification_report(y_te_true, pred_cat, target_names=tags)\n",
        "print(report)"
      ],
      "metadata": {
        "colab": {
          "base_uri": "https://localhost:8080/"
        },
        "id": "wZq_oAzQfB38",
        "outputId": "5c669db1-dcf2-4909-da76-fda352a1dcd5"
      },
      "execution_count": null,
      "outputs": [
        {
          "output_type": "stream",
          "name": "stdout",
          "text": [
            "              precision    recall  f1-score   support\n",
            "\n",
            "         PAD       1.00      1.00      1.00    355050\n",
            "      B-MISC       0.81      0.80      0.80       570\n",
            "       I-PER       0.76      0.78      0.77       420\n",
            "           O       0.98      0.99      0.98     29260\n",
            "      I-MISC       0.60      0.52      0.56       196\n",
            "       I-ORG       0.74      0.58      0.65       737\n",
            "       B-LOC       0.86      0.89      0.87      1443\n",
            "       I-LOC       0.69      0.67      0.68       236\n",
            "       B-PER       0.89      0.84      0.86       957\n",
            "       B-ORG       0.84      0.77      0.80      1320\n",
            "\n",
            "    accuracy                           1.00    390189\n",
            "   macro avg       0.82      0.78      0.80    390189\n",
            "weighted avg       1.00      1.00      1.00    390189\n",
            "\n"
          ]
        }
      ]
    },
    {
      "cell_type": "code",
      "source": [
        "i = np.random.randint(0,X_test.shape[0]) # choose a random number between 0 and len(X_te)\n",
        "p = model.predict(np.array([X_test[i]]))\n",
        "true = np.argmax(y_test[i], -1)\n",
        "\n",
        "print(\"Sample number {} of {} (Test Set)\".format(i, X_test.shape[0]))\n",
        "# Visualization\n",
        "print(\"{:15}||{:5}||{}\".format(\"Word\", \"True\", \"Pred\"))\n",
        "print(30 * \"=\")\n",
        "for w, t, pred in zip(X_test[i], true, p[0]):\n",
        "    if token.index_word.get(w) != 'pad':\n",
        "        print(\"{:15}: {:5} {}\".format(token.index_word.get(w), idx2tag[t], idx2tag[pred]))"
      ],
      "metadata": {
        "colab": {
          "base_uri": "https://localhost:8080/"
        },
        "id": "TrzNAeODRcep",
        "outputId": "75f992c2-5965-4596-8d2c-c4385fd54800"
      },
      "execution_count": null,
      "outputs": [
        {
          "output_type": "stream",
          "name": "stdout",
          "text": [
            "1/1 [==============================] - 0s 175ms/step\n",
            "Sample number 235 of 3453 (Test Set)\n",
            "Word           ||True ||Pred\n",
            "==============================\n",
            "australia      : B-LOC B-LOC\n",
            "gave           : O     O\n",
            "brian          : B-PER B-PER\n",
            "lara           : I-PER I-PER\n",
            "another        : O     O\n",
            "reason         : O     O\n",
            "to             : O     O\n",
            "be             : O     O\n",
            "unk            : O     O\n",
            "when           : O     O\n",
            "they           : O     O\n",
            "beat           : O     O\n",
            "west           : B-LOC B-LOC\n",
            "indies         : I-LOC I-LOC\n",
            "by             : O     O\n",
            "five           : O     O\n",
            "wickets        : O     O\n",
            "in             : O     O\n",
            "the            : O     O\n",
            "opening        : O     O\n",
            "world          : B-MISC O\n",
            "series         : I-MISC O\n",
            "limited        : O     O\n",
            "overs          : O     O\n",
            "match          : O     O\n",
            "on             : O     O\n",
            "friday         : O     O\n",
            "unk            : O     O\n"
          ]
        }
      ]
    }
  ]
}